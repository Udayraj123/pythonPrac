{
 "cells": [
  {
   "cell_type": "code",
   "execution_count": 1,
   "metadata": {
    "collapsed": true
   },
   "outputs": [],
   "source": [
    "# data analysis and wrangling\n",
    "import pandas as pd\n",
    "import numpy as np\n",
    "import random as rnd\n",
    "\n",
    "# visualization\n",
    "import seaborn as sns\n",
    "import matplotlib.pyplot as plt\n",
    "%matplotlib inline\n",
    "\n"
   ]
  },
  {
   "cell_type": "code",
   "execution_count": 2,
   "metadata": {},
   "outputs": [
    {
     "data": {
      "text/plain": [
       "'\\nCoding the NN - \\nM1 - \\n    code layer wise => There is one weight matrix between two layers. That has dimensions dim(l1)xdim(l2)\\n    The matrix is \\nM2 -\\n    code unit wise => lot of units need to be coded into it. This is pointless.\\n\\n'"
      ]
     },
     "execution_count": 2,
     "metadata": {},
     "output_type": "execute_result"
    }
   ],
   "source": [
    "# np.sum does column wise thing\n",
    "# h = 1/(1+e^-XTheta)\n",
    "# J = sum(-log(h)y-log(1-h)(1-y))/m\n",
    "# delJ is checked to be sum(x*(h-y))/m\n",
    "\n",
    "def sigmoid(z):  \n",
    "    return  1/(1+np.exp(-z))\n",
    "#     return np.array(map(float,list(map(lambda x:1/(1+(np.e)**(-x)) , z))))\n",
    "def calcCost(m,h,y):\n",
    "    J = np.sum(np.log(h)*y + np.log(1-h)*(1-y))/m*-1\n",
    "    return J\n",
    "\n",
    "def getGrad(m,X,h,y):\n",
    "    delJ = np.matmul(X.T,h-y)\n",
    "    return delJ\n",
    "\n",
    "\"\"\"\n",
    "Coding the NN - \n",
    "M1 - \n",
    "    code layer wise => There is one weight matrix between two layers. That has dimensions dim(l1)xdim(l2)\n",
    "    The matrix is \n",
    "M2 -\n",
    "    code unit wise => lot of units need to be coded into it. This is pointless.\n",
    "\n",
    "\"\"\"\n"
   ]
  },
  {
   "cell_type": "code",
   "execution_count": 20,
   "metadata": {},
   "outputs": [
    {
     "name": "stdout",
     "output_type": "stream",
     "text": [
      "[[-1.46178415]\n",
      " [ 4.00205412]\n",
      " [ 4.0041971 ]]\n",
      "[0 1 1 1]\n",
      "[[1 0 0 0]\n",
      " [1 1 1 1]\n",
      " [1 0 1 1]\n",
      " [1 1 0 1]]\n"
     ]
    }
   ],
   "source": [
    "class Perceptron(object):\n",
    "    def __init__(self,alpha=0.01,iters=50,weight=[-1]):\n",
    "        self.alpha=alpha\n",
    "        self.iters=iters\n",
    "        self.weight=weight\n",
    "    \n",
    "    def train(self,x,y):\n",
    "        X=x.copy()\n",
    "        m,n=X.shape\n",
    "        X =np.insert(X,0,1,axis=1) # insert the column of ones\n",
    "        self.weight = np.random.randn(n+1,1)*0.1 #N+1 x 1\n",
    "        for _ in range(self.iters):\n",
    "            h = self.getH(X)\n",
    "            self.weight= self.weight - (self.alpha/m) * getGrad(m,X,h,y)\n",
    "        return self.weight\n",
    "    \n",
    "    def predict(self,X):\n",
    "        h = self.getH(X)\n",
    "        return np.array([1 if hi>=0.5 else 0 for hi in h])\n",
    "    \n",
    "    def getH(self,X):\n",
    "        self.out = sigmoid(np.matmul(X,self.weight))\n",
    "        return self.out\n",
    "        \n",
    "\n",
    "pp = Perceptron(iters=10000)\n",
    "X= np.array([    [0,0],    [1,0],    [0,1],    [1,1],])\n",
    "y = np.array([    0,    1,    1,    1,]).reshape((4,1))\n",
    "pp.train(X,y)\n",
    "print(pp.weight)\n",
    "\n",
    "m,n=X.shape\n",
    "X =np.insert(X,0,1,axis=1) # insert the column\n",
    "X=np.random.permutation(X)\n",
    "p=pp.predict(X)\n",
    "print(p)\n",
    "p = p.reshape((p.shape[0],1))\n",
    "print(np.concatenate( (X,p),axis=1))"
   ]
  },
  {
   "cell_type": "code",
   "execution_count": null,
   "metadata": {
    "collapsed": true
   },
   "outputs": [],
   "source": []
  }
 ],
 "metadata": {
  "kernelspec": {
   "display_name": "Python 2",
   "language": "python",
   "name": "python2"
  },
  "language_info": {
   "codemirror_mode": {
    "name": "ipython",
    "version": 2
   },
   "file_extension": ".py",
   "mimetype": "text/x-python",
   "name": "python",
   "nbconvert_exporter": "python",
   "pygments_lexer": "ipython2",
   "version": "2.7.12"
  }
 },
 "nbformat": 4,
 "nbformat_minor": 2
}
