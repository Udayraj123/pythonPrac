{
 "cells": [
  {
   "cell_type": "code",
   "execution_count": 29,
   "metadata": {
    "collapsed": true
   },
   "outputs": [],
   "source": [
    "# data analysis and wrangling\n",
    "import pandas as pd\n",
    "import numpy as np\n",
    "import random as rnd\n",
    "\n",
    "# visualization\n",
    "import seaborn as sns\n",
    "import matplotlib.pyplot as plt\n",
    "%matplotlib inline\n",
    "\n"
   ]
  },
  {
   "cell_type": "code",
   "execution_count": 30,
   "metadata": {
    "collapsed": false
   },
   "outputs": [],
   "source": [
    "\"\"\"\n",
    "Ingredients :\n",
    "sigmoid function\n",
    "log cost function -(ylg-(1-y)lg)\n",
    "\n",
    "\"\"\"\n",
    "#Follow pandas method for awesome plots & describe functions\n",
    "train_df = pd.read_csv('train.csv',sep=',')\n",
    "# train_df.info()\n",
    "# print(train_df.describe())\n",
    "train_df=train_df.drop('Id',axis=1) #axis 0 is horiz. 1 is vert\n",
    "\n",
    "train_df=np.array(train_df)"
   ]
  },
  {
   "cell_type": "code",
   "execution_count": 105,
   "metadata": {
    "collapsed": false
   },
   "outputs": [],
   "source": [
    "# np.sum does column wise thing\n",
    "# h = 1/(1+e^-XTheta)\n",
    "# J = sum(-log(h)y-log(1-h)(1-y))/m\n",
    "# delJ is checked to be sum(x*(h-y))/m\n",
    "\n",
    "# def sigmoid(z):    return np.array(map(float,list(map(lambda x:1/(1+(np.e)**(-x)) , z))))\n",
    "\n",
    "def normalize(x):\n",
    "    x_means = np.mean(x,axis=0)\n",
    "    x_stds = np.std(x,axis=0)\n",
    "    for i in range(n):\n",
    "        norm = (x[:,i]-x_means[i])/x_stds[i]\n",
    "        x[:,i] = norm\n",
    "\n",
    "def getH(X,theta):\n",
    "    h = np.matmul(X,theta) #becomes m x 1\n",
    "    return 1/(1+np.exp(-h))\n",
    "    \n",
    "def calcCost(m,h,y):\n",
    "    J = np.sum(np.log(h)*y + np.log(1-h)*(1-y))/m*-1\n",
    "    return J\n",
    "\n",
    "def getGrad(m,h,y):\n",
    "    delJ = np.matmul(X.T,h-y)\n",
    "    return delJ\n",
    "\n",
    "def gradDescent(theta,m,h,y,alpha=0.01):\n",
    "    grad = getGrad(m,h,y)\n",
    "    theta = theta - (alpha/m)*grad\n",
    "    return theta\n"
   ]
  },
  {
   "cell_type": "code",
   "execution_count": 113,
   "metadata": {
    "collapsed": false
   },
   "outputs": [
    {
     "name": "stdout",
     "output_type": "stream",
     "text": [
      "('error', 0.017313522482291177)\n",
      "('Theta', array([[ -4.04806483e+00],\n",
      "       [  1.84428447e-02],\n",
      "       [  1.51883765e-02],\n",
      "       [  1.70568346e-02],\n",
      "       [ -1.70909549e-02],\n",
      "       [  6.92255421e-04],\n",
      "       [  2.02111762e-02]]))\n"
     ]
    },
    {
     "data": {
      "image/png": "[encoded data removed]",
      "text/plain": [
       "<matplotlib.figure.Figure at 0x7f409676afd0>"
      ]
     },
     "metadata": {},
     "output_type": "display_data"
    }
   ],
   "source": [
    "figsize=(20,10)\n",
    "datasize=1000\n",
    "featsize=6\n",
    "X=train_df[:datasize,1:featsize+1]\n",
    "y=train_df[:datasize,-1]\n",
    "X=X.astype('float32')\n",
    "m,n=X.shape\n",
    "y=y.reshape((m,1))\n",
    "ones= np.array([[1] for i in range(m)])\n",
    "normalize(X)\n",
    "y[np.where(y<2)]=0\n",
    "y[np.where(y>=2)]=1\n",
    "X = np.concatenate((ones,X),axis=1)\n",
    "iterations = 6000\n",
    "\n",
    "theta=np.random.randn(n+1,1)*0.1\n",
    "\n",
    "%matplotlib inline\n",
    "J_hist=[]\n",
    "t_hist=[]\n",
    "for i in range(iterations):\n",
    "    h = getH(X,theta)\n",
    "    J= calcCost(m,h,y)\n",
    "    theta = gradDescent(theta,m,h,y,alpha=0.01)\n",
    "    J_hist.append(J)\n",
    "    t_hist.append(theta)\n",
    "\n",
    "#final trained values\n",
    "h_hist = getH(X,theta)\n",
    "plt.plot(J_hist)\n",
    "print(\"error\",J_hist[-1])\n",
    "print(\"Theta\",t_hist[-1])\n"
   ]
  },
  {
   "cell_type": "code",
   "execution_count": null,
   "metadata": {
    "collapsed": true
   },
   "outputs": [],
   "source": []
  },
  {
   "cell_type": "code",
   "execution_count": null,
   "metadata": {
    "collapsed": true
   },
   "outputs": [],
   "source": []
  }
 ],
 "metadata": {
  "kernelspec": {
   "display_name": "Python 2",
   "language": "python",
   "name": "python2"
  },
  "language_info": {
   "codemirror_mode": {
    "name": "ipython",
    "version": 2
   },
   "file_extension": ".py",
   "mimetype": "text/x-python",
   "name": "python",
   "nbconvert_exporter": "python",
   "pygments_lexer": "ipython2",
   "version": "2.7.10"
  }
 },
 "nbformat": 4,
 "nbformat_minor": 2
}
