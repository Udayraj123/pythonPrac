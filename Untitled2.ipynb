{
 "cells": [
  {
   "cell_type": "code",
   "execution_count": 30,
   "metadata": {
    "collapsed": true
   },
   "outputs": [],
   "source": [
    "import pandas as pd\n",
    "import numpy as np\n",
    "from sklearn.linear_model import Ridge, Lasso # using"
   ]
  },
  {
   "cell_type": "code",
   "execution_count": 7,
   "metadata": {
    "collapsed": false
   },
   "outputs": [],
   "source": [
    "train = pd.read_csv('housetrain.csv', na_values=\"NA\") # python's null = NaN"
   ]
  },
  {
   "cell_type": "code",
   "execution_count": 8,
   "metadata": {
    "collapsed": false
   },
   "outputs": [],
   "source": [
    "prices = train['SalePrice']\n",
    "train.drop('SalePrice',axis=1,inplace=True)\n",
    "train.drop('Id',axis=1,inplace=True)\n",
    "\n",
    "all_data = train\n",
    "#all_data['MSSubClass'] = all_data['MSSubClass'].astype('category')\n",
    "all_data = pd.get_dummies(all_data) # categorical variables to be splitted into different variables\n",
    "X = all_data.as_matrix()\n",
    "X= np.nan_to_num(X) #\n"
   ]
  },
  {
   "cell_type": "code",
   "execution_count": 38,
   "metadata": {
    "collapsed": false
   },
   "outputs": [
    {
     "data": {
      "text/plain": [
       "1329"
      ]
     },
     "execution_count": 38,
     "metadata": {},
     "output_type": "execute_result"
    }
   ],
   "source": [
    "rows=int(train.shape[0])\n",
    "cols= int(rows*0.8)\n",
    "X_train = X[:cols]\n",
    "prices_train = prices[:cols]\n",
    "X_dev = X[cols:rows]\n",
    "prices_dev = prices[cols:]\n",
    "X_test = X[rows:]\n",
    "\n",
    "prices.shape[0]"
   ]
  },
  {
   "cell_type": "code",
   "execution_count": 39,
   "metadata": {
    "collapsed": false
   },
   "outputs": [
    {
     "data": {
      "text/plain": [
       "Ridge(alpha=1.2, copy_X=True, fit_intercept=True, max_iter=None,\n",
       "   normalize=False, random_state=None, solver='auto', tol=0.001)"
      ]
     },
     "execution_count": 39,
     "metadata": {},
     "output_type": "execute_result"
    }
   ],
   "source": [
    "#lr = LinearRegression()\n",
    "clf = Ridge(alpha = 1.0)\n",
    "#create model and train\n",
    "clf.fit(X_train,prices_train)"
   ]
  },
  {
   "cell_type": "code",
   "execution_count": 42,
   "metadata": {
    "collapsed": false
   },
   "outputs": [
    {
     "data": {
      "text/plain": [
       "0.17325809313487495"
      ]
     },
     "execution_count": 42,
     "metadata": {},
     "output_type": "execute_result"
    }
   ],
   "source": [
    "Y = clf.predict(X_dev) # trained lr gives element-wise values\n",
    "sq_diff = np.square(np.log(prices_dev)-np.log(Y))\n",
    "error = np.sqrt(np.sum(sq_diff)/prices_dev.shape[0])\n",
    "# root mean squares of the logs of the \n",
    "error"
   ]
  },
  {
   "cell_type": "code",
   "execution_count": 46,
   "metadata": {
    "collapsed": false
   },
   "outputs": [
    {
     "data": {
      "text/plain": [
       "{0.5: 0.17414989463505207,\n",
       " 1: 0.1735206327495562,\n",
       " 10: 0.1713400663897697,\n",
       " 100: 0.18424138599817735,\n",
       " 1000: 0.20725555787258698}"
      ]
     },
     "execution_count": 46,
     "metadata": {},
     "output_type": "execute_result"
    }
   ],
   "source": [
    "#Y = clf.predict(X_test)\n",
    "alphas = [0.5,1,10,100,1000]\n",
    "errors = {}\n",
    "for alpha in alphas:\n",
    "    clf = Ridge(alpha=alpha)\n",
    "    clf.fit(X_train, prices_train)\n",
    "    Y = clf.predict(X_dev) # trained lr gives element-wise values\n",
    "    sq_diff = np.square(np.log(prices_dev)-np.log(Y))\n",
    "    error = np.sqrt(np.sum(sq_diff)/prices_dev.shape[0])\n",
    "    errors[alpha] = error\n",
    "errors\n"
   ]
  },
  {
   "cell_type": "code",
   "execution_count": null,
   "metadata": {
    "collapsed": true
   },
   "outputs": [],
   "source": []
  }
 ],
 "metadata": {
  "kernelspec": {
   "display_name": "Python 2",
   "language": "python",
   "name": "python2"
  },
  "language_info": {
   "codemirror_mode": {
    "name": "ipython",
    "version": 2
   },
   "file_extension": ".py",
   "mimetype": "text/x-python",
   "name": "python",
   "nbconvert_exporter": "python",
   "pygments_lexer": "ipython2",
   "version": "2.7.10"
  }
 },
 "nbformat": 4,
 "nbformat_minor": 2
}
