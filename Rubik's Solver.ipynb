{
 "cells": [
  {
   "cell_type": "code",
   "execution_count": null,
   "metadata": {
    "collapsed": true
   },
   "outputs": [],
   "source": [
    "menuText = \"\"\"\n",
    "Cube Solver:\n",
    "\n",
    "\n",
    "\"\"\"\n",
    "\n",
    "template = \\\n",
    "\"\"\"\n",
    "\n",
    "              1   2   3\n",
    "\n",
    "              4   R   5\n",
    "\n",
    "              6   7   8\n",
    "\n",
    " 9  10  11   12  13  14   15  16  17    18  19  20\n",
    "\n",
    "21   B  22   23   W  24   25   G  26    27   Y  28\n",
    "\n",
    "29  30  31   32  33  34   35  36  37    38  39  40\n",
    "\n",
    "             41  42  43\n",
    "\n",
    "             44   O  45\n",
    "\n",
    "             46  47  48\n",
    "\n",
    "\n",
    "\"\"\"\n",
    "print template "
   ]
  },
  {
   "cell_type": "code",
   "execution_count": null,
   "metadata": {
    "collapsed": true
   },
   "outputs": [],
   "source": [
    "\"\"\"\n",
    "\n",
    "/**\n",
    " * The cube type.  This is made up of a 40 byte string, broken up into\n",
    " * substrings of length 2, one substring for each of the 20 cubies as shown in\n",
    " * the diagram below.\n",
    " * Each substring consists of:\n",
    " * 1) an integer between 0 and 19 indicating its position\n",
    " * 2) an integer between 0 and 2 for corner cubies and between 0 and 1 for edge\n",
    " * cubies indicating the rotation of that piece\n",
    " *\n",
    " * Cubies are numbered from 0 to 19 throughout the code, as shown here \n",
    "    5----6----7\n",
    "    |         |\\\n",
    "    3    Y    4 \\\n",
    "    |         |  \\\n",
    "    0----1----2   \\\n",
    "     \\             \\\n",
    "      \\   10---R---11\n",
    "       \\  |         |\\\n",
    "        \\ B    X    G \\\n",
    "         \\|         |  \\\n",
    "          8----O----9   \\\n",
    "           \\             \\\n",
    "            \\   17--18---19\n",
    "             \\  |         |\n",
    "              \\ 15   W   16\n",
    "               \\|         |\n",
    "                12--13---14\n",
    "\n",
    "ALGO = \n",
    "1. MAKE A CROSS ON TOP =\\\n",
    "    1.look for first Yellow which is not on Top orientation.\n",
    "    2. Cases of its movement to bring it to top\n",
    "    \n",
    "2. PUT UP CORNERS\n",
    "(ASSERT 1 LAYER COMPLETE)\n",
    "3. PUT UP MIDEDGES\n",
    "(ASSERT 2 LAYERS COMPLETE)\n",
    "4. MAKE CROSS ON BOTTOM\n",
    "5. PUT CORNERS IN POSITION\n",
    "6. \n",
    " */\n",
    " \"\"\""
   ]
  },
  {
   "cell_type": "code",
   "execution_count": 7,
   "metadata": {
    "collapsed": false
   },
   "outputs": [],
   "source": [
    "import numpy as np\n",
    "global topLayer,midLayer,bottomLayer\n",
    "topLayer = range(8)\n",
    "midLayer = range(8,12)\n",
    "bottomLayer = range(12,20)\n",
    "class cubie:\n",
    "    def __init__(typ,state):\n",
    "        self.type=typ;\n",
    "        self.state=state;\n",
    "    \n",
    "    \n",
    "    \n",
    "def divideLayers(currString):\n",
    "    t=currString[0:8]\n",
    "    m=currString[8:12]\n",
    "    b=currString[12:20]\n",
    "    return t,m,b"
   ]
  },
  {
   "cell_type": "code",
   "execution_count": 8,
   "metadata": {
    "collapsed": false
   },
   "outputs": [
    {
     "name": "stdout",
     "output_type": "stream",
     "text": [
      "('oooooooo', 'gggy', 'yybbbwww')\n"
     ]
    }
   ],
   "source": [
    "inpString = \"oooooooogggyyybbbwwwggyybbwwgggyyybbbwwwrrrrrrrr\" #raw_input()\n",
    "print(divideLayers(inpString))"
   ]
  },
  {
   "cell_type": "code",
   "execution_count": null,
   "metadata": {
    "collapsed": true
   },
   "outputs": [],
   "source": []
  }
 ],
 "metadata": {
  "kernelspec": {
   "display_name": "Python 2",
   "language": "python",
   "name": "python2"
  },
  "language_info": {
   "codemirror_mode": {
    "name": "ipython",
    "version": 2
   },
   "file_extension": ".py",
   "mimetype": "text/x-python",
   "name": "python",
   "nbconvert_exporter": "python",
   "pygments_lexer": "ipython2",
   "version": "2.7.10"
  }
 },
 "nbformat": 4,
 "nbformat_minor": 2
}
