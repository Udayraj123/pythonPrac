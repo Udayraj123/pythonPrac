{
 "cells": [
  {
   "cell_type": "code",
   "execution_count": 1,
   "metadata": {
    "collapsed": true
   },
   "outputs": [],
   "source": [
    "# data analysis and wrangling\n",
    "import pandas as pd\n",
    "import numpy as np\n",
    "import random as rnd\n",
    "\n",
    "# visualization\n",
    "import seaborn as sns\n",
    "import matplotlib.pyplot as plt\n",
    "%matplotlib inline\n",
    "\n"
   ]
  },
  {
   "cell_type": "code",
   "execution_count": 2,
   "metadata": {},
   "outputs": [],
   "source": [
    "# np.sum does column wise thing\n",
    "# h = 1/(1+e^-XTheta)\n",
    "# J = sum(-log(h)y-log(1-h)(1-y))/m\n",
    "# delJ is checked to be sum(x*(h-y))/m\n",
    "\n",
    "def sigmoid(z):  \n",
    "    return  1/(1+np.exp(-z))\n",
    "#     return np.array(map(float,list(map(lambda x:1/(1+(np.e)**(-x)) , z))))\n",
    "def calcCost(m,h,y):\n",
    "    J = np.sum(np.log(h)*y + np.log(1-h)*(1-y))/m*-1\n",
    "    return J\n"
   ]
  },
  {
   "cell_type": "code",
   "execution_count": 3,
   "metadata": {},
   "outputs": [
    {
     "data": {
      "text/plain": [
       "3"
      ]
     },
     "execution_count": 3,
     "metadata": {},
     "output_type": "execute_result"
    }
   ],
   "source": [
    "x=np.array([1,2,3,4]).reshape((2,2))\n",
    "x.argmax()"
   ]
  },
  {
   "cell_type": "code",
   "execution_count": 23,
   "metadata": {},
   "outputs": [
    {
     "name": "stdout",
     "output_type": "stream",
     "text": [
      "('cost', 0.0049999979823832381, 'iterations', 64513)\n",
      "[[ 0.          0.          0.02935645]\n",
      " [ 1.          0.          0.96652379]\n",
      " [ 0.          1.          0.96654183]\n",
      " [ 1.          1.          0.04356709]]\n",
      "('cost', 0.0049998898293112685, 'iterations', 354205)\n",
      "[[ 0.          0.          0.03565735]\n",
      " [ 1.          0.          0.96681338]\n",
      " [ 0.          1.          0.95954009]\n",
      " [ 1.          1.          0.03146565]]\n",
      "('cost', 0.0049999556901982045, 'iterations', 40904)\n",
      "[[ 0.          0.          0.0380164 ]\n",
      " [ 1.          0.          0.96630632]\n",
      " [ 0.          1.          0.96615426]\n",
      " [ 1.          1.          0.03569188]]\n",
      "('cost', 0.0049999124935464368, 'iterations', 44850)\n",
      "[[ 0.          0.          0.03764983]\n",
      " [ 1.          0.          0.96625525]\n",
      " [ 0.          1.          0.96617662]\n",
      " [ 1.          1.          0.03605098]]\n"
     ]
    },
    {
     "data": {
      "image/png": "[encoded data removed]",
      "text/plain": [
       "<matplotlib.figure.Figure at 0x7ffa55d0dcd0>"
      ]
     },
     "metadata": {},
     "output_type": "display_data"
    }
   ],
   "source": [
    "def getCost(h,y):\n",
    "    return np.sum( (h-y)**2 )\n",
    "\n",
    "class Perceptron(object):\n",
    "    def __init__(self,alpha=0.01,iters=50,N_h=2,weight1=[-1],weight2=[-1]):\n",
    "        self.alpha=alpha\n",
    "        self.iters=iters\n",
    "        self.N_h=N_h\n",
    "        self.weight1=weight1\n",
    "        self.weight2=weight2\n",
    "    \n",
    "    def train(self,x,y,costThr=0,facW1=1,facW2=0.1):\n",
    "        X=x.copy()\n",
    "        m,n=X.shape\n",
    "        N_h=self.N_h\n",
    "        X =np.insert(X,0,1,axis=1) # insert the column of ones\n",
    "\n",
    "        self.J_hist=[]\n",
    "        self.weight1 = np.random.randn(n+1,N_h)*facW1 #N+1 x N_h = 3 x 2\n",
    "        self.weight2 = np.random.randn(N_h+1,1)*facW2 #N_h+1 x 1 = 3 x 1\n",
    "        for iterNo in range(self.iters):\n",
    "            # ForwardProp\n",
    "            X_h = self.getH0(X)\n",
    "            X_h =np.insert(X_h,0,1,axis=1) # insert the column of ones\n",
    "            h = self.getH(X_h)\n",
    "            j=getCost(h,y)\n",
    "            self.J_hist.append(j)\n",
    "            if(j<=costThr):\n",
    "                self.iters=iterNo\n",
    "        \n",
    "                break;\n",
    "            \n",
    "            \"\"\" BackProp - grad in Left to right order \"\"\"\n",
    "            # deltaLayer2 is 4 x 3\n",
    "            # weight2 is 3x1\n",
    "            # X_h is 4x3 with the bias\n",
    "            deltaLayer2 = np.multiply( np.subtract(h,y) ,np.multiply(h,1-h))\n",
    "            #inputs are coeffs -\n",
    "            deltaW2 = np.matmul(X_h.T, deltaLayer2)  # shud be of dim of W2\n",
    "            #weights are coeffs -#out(1-out) -\n",
    "            deltaLayer1 = np.multiply( np.matmul(deltaLayer2,self.weight2.T) ,np.multiply(X_h,1-X_h))\n",
    "            #remove the bias column #inputs are coeffs -\n",
    "            deltaW1 = np.matmul(X.T ,np.delete(deltaLayer1,[0],axis=1))\n",
    "            #update at the end of iter\n",
    "            self.weight2= self.weight2 - (self.alpha/m) * deltaW2\n",
    "            self.weight1= self.weight1 - (self.alpha/m) * deltaW1\n",
    "            \n",
    " \n",
    "    def predict(self,x):\n",
    "        X=x.copy()\n",
    "        X =np.insert(X,0,1,axis=1) # insert the column\n",
    "        X_h = self.getH0(X_h)\n",
    "        X_h =np.insert(X_h,0,1,axis=1) # insert the column of ones\n",
    "        h=self.getH(X_h)\n",
    "        return h# np.array([1 if hi>=0.5 else 0 for hi in h])\n",
    "    \n",
    "    def getH0(self,X):\n",
    "        return  sigmoid(np.matmul(X,self.weight1))\n",
    "    \n",
    "    def getH(self,X_h):\n",
    "        return  sigmoid(np.matmul(X_h,self.weight2))\n",
    "\n",
    "\n",
    "X= np.array([[0,0],[1,0],[0,1],[1,1],])\n",
    "y = np.array([ 0,    1,    1,    0,]).reshape((4,1))\n",
    "\"\"\"\n",
    "# XOR -\n",
    " facW1 facW2 iterations \n",
    "    1     1      64513\n",
    "    0.01  1      354205\n",
    "    1    0.1     40904\n",
    "    1    0.01    44850\n",
    " \n",
    "\"\"\"\n",
    "for a,b in [[1,1],[0.01,1],[1,0.1],[1,0.01]]:\n",
    "    pp = Perceptron(alpha=0.15,iters=1000000)\n",
    "    pp.train(X,y,costThr=0.005,facW1=a,facW2=b)\n",
    "# print(pp.weight1,pp.weight2)\n",
    "    if(len(pp.J_hist)==0):\n",
    "        print('err')\n",
    "        continue\n",
    "    plt.plot(pp.J_hist)\n",
    "    plt.x_label('iterations')\n",
    "    plt.y_label('cost')\n",
    "    \n",
    "    print('cost',pp.J_hist[-1],'iterations',pp.iters)\n",
    "# X=np.random.permutation(X)\n",
    "    p=pp.predict(X).reshape((4,1))\n",
    "    print(np.concatenate( [X,p],axis=1))\n",
    "\n"
   ]
  },
  {
   "cell_type": "code",
   "execution_count": null,
   "metadata": {
    "collapsed": true
   },
   "outputs": [],
   "source": []
  },
  {
   "cell_type": "code",
   "execution_count": null,
   "metadata": {
    "collapsed": true
   },
   "outputs": [],
   "source": []
  }
 ],
 "metadata": {
  "kernelspec": {
   "display_name": "Python 2",
   "language": "python",
   "name": "python2"
  },
  "language_info": {
   "codemirror_mode": {
    "name": "ipython",
    "version": 2
   },
   "file_extension": ".py",
   "mimetype": "text/x-python",
   "name": "python",
   "nbconvert_exporter": "python",
   "pygments_lexer": "ipython2",
   "version": "2.7.12"
  }
 },
 "nbformat": 4,
 "nbformat_minor": 2
}
