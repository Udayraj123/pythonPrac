{
 "cells": [
  {
   "cell_type": "code",
   "execution_count": 8,
   "metadata": {
    "collapsed": false
   },
   "outputs": [],
   "source": [
    "import pandas as pandu\n",
    "from numpy import *\n",
    "from sklearn import linear_model\n",
    "import csv\n",
    "from sklearn import preprocessing"
   ]
  },
  {
   "cell_type": "code",
   "execution_count": 9,
   "metadata": {
    "collapsed": false
   },
   "outputs": [
    {
     "name": "stdout",
     "output_type": "stream",
     "text": [
      "(15120, 55)\n"
     ]
    }
   ],
   "source": [
    "dataset = pandu.read_csv('train.csv',sep=',')\n",
    "dataset = dataset.drop('Id',axis=1) # axis means drop a row or a col\n",
    "print(dataset.shape) # column dimensions"
   ]
  },
  {
   "cell_type": "code",
   "execution_count": 10,
   "metadata": {
    "collapsed": false
   },
   "outputs": [
    {
     "name": "stdout",
     "output_type": "stream",
     "text": [
      "          Elevation        Aspect         Slope  \\\n",
      "count  15120.000000  15120.000000  15120.000000   \n",
      "mean    2749.322553    156.676653     16.501587   \n",
      "std      417.678187    110.085801      8.453927   \n",
      "min     1863.000000      0.000000      0.000000   \n",
      "25%     2376.000000     65.000000     10.000000   \n",
      "50%     2752.000000    126.000000     15.000000   \n",
      "75%     3104.000000    261.000000     22.000000   \n",
      "max     3849.000000    360.000000     52.000000   \n",
      "\n",
      "       Horizontal_Distance_To_Hydrology  Vertical_Distance_To_Hydrology  \\\n",
      "count                      15120.000000                    15120.000000   \n",
      "mean                         227.195701                       51.076521   \n",
      "std                          210.075296                       61.239406   \n",
      "min                            0.000000                     -146.000000   \n",
      "25%                           67.000000                        5.000000   \n",
      "50%                          180.000000                       32.000000   \n",
      "75%                          330.000000                       79.000000   \n",
      "max                         1343.000000                      554.000000   \n",
      "\n",
      "       Horizontal_Distance_To_Roadways  Hillshade_9am  Hillshade_Noon  \\\n",
      "count                     15120.000000   15120.000000    15120.000000   \n",
      "mean                       1714.023214     212.704299      218.965608   \n",
      "std                        1325.066358      30.561287       22.801966   \n",
      "min                           0.000000       0.000000       99.000000   \n",
      "25%                         764.000000     196.000000      207.000000   \n",
      "50%                        1316.000000     220.000000      223.000000   \n",
      "75%                        2270.000000     235.000000      235.000000   \n",
      "max                        6890.000000     254.000000      254.000000   \n",
      "\n",
      "       Hillshade_3pm  Horizontal_Distance_To_Fire_Points      ...       \\\n",
      "count   15120.000000                        15120.000000      ...        \n",
      "mean      135.091997                         1511.147288      ...        \n",
      "std        45.895189                         1099.936493      ...        \n",
      "min         0.000000                            0.000000      ...        \n",
      "25%       106.000000                          730.000000      ...        \n",
      "50%       138.000000                         1256.000000      ...        \n",
      "75%       167.000000                         1988.250000      ...        \n",
      "max       248.000000                         6993.000000      ...        \n",
      "\n",
      "        Soil_Type32   Soil_Type33   Soil_Type34   Soil_Type35   Soil_Type36  \\\n",
      "count  15120.000000  15120.000000  15120.000000  15120.000000  15120.000000   \n",
      "mean       0.045635      0.040741      0.001455      0.006746      0.000661   \n",
      "std        0.208699      0.197696      0.038118      0.081859      0.025710   \n",
      "min        0.000000      0.000000      0.000000      0.000000      0.000000   \n",
      "25%        0.000000      0.000000      0.000000      0.000000      0.000000   \n",
      "50%        0.000000      0.000000      0.000000      0.000000      0.000000   \n",
      "75%        0.000000      0.000000      0.000000      0.000000      0.000000   \n",
      "max        1.000000      1.000000      1.000000      1.000000      1.000000   \n",
      "\n",
      "        Soil_Type37   Soil_Type38   Soil_Type39   Soil_Type40    Cover_Type  \n",
      "count  15120.000000  15120.000000  15120.000000  15120.000000  15120.000000  \n",
      "mean       0.002249      0.048148      0.043452      0.030357      4.000000  \n",
      "std        0.047368      0.214086      0.203880      0.171574      2.000066  \n",
      "min        0.000000      0.000000      0.000000      0.000000      1.000000  \n",
      "25%        0.000000      0.000000      0.000000      0.000000      2.000000  \n",
      "50%        0.000000      0.000000      0.000000      0.000000      4.000000  \n",
      "75%        0.000000      0.000000      0.000000      0.000000      6.000000  \n",
      "max        1.000000      1.000000      1.000000      1.000000      7.000000  \n",
      "\n",
      "[8 rows x 55 columns]\n"
     ]
    }
   ],
   "source": [
    "print(dataset.describe())"
   ]
  },
  {
   "cell_type": "code",
   "execution_count": 16,
   "metadata": {
    "collapsed": false
   },
   "outputs": [
    {
     "name": "stdout",
     "output_type": "stream",
     "text": [
      "Soil_Type1\n",
      "0    14765\n",
      "1      355\n",
      "dtype: int64\n"
     ]
    }
   ],
   "source": [
    "print(dataset.groupby('Soil_Type1').size())"
   ]
  },
  {
   "cell_type": "code",
   "execution_count": null,
   "metadata": {
    "collapsed": true
   },
   "outputs": [],
   "source": [
    "size = 10\n",
    "data = dataset."
   ]
  }
 ],
 "metadata": {
  "kernelspec": {
   "display_name": "Python 2",
   "language": "python",
   "name": "python2"
  },
  "language_info": {
   "codemirror_mode": {
    "name": "ipython",
    "version": 2
   },
   "file_extension": ".py",
   "mimetype": "text/x-python",
   "name": "python",
   "nbconvert_exporter": "python",
   "pygments_lexer": "ipython2",
   "version": "2.7.10"
  }
 },
 "nbformat": 4,
 "nbformat_minor": 2
}
