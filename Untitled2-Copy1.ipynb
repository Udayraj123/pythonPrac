{
 "cells": [
  {
   "cell_type": "code",
   "execution_count": 15,
   "metadata": {
    "collapsed": true
   },
   "outputs": [],
   "source": [
    "import pandas as pd\n",
    "import numpy as np\n",
    "from sklearn.linear_model import LinearRegression"
   ]
  },
  {
   "cell_type": "code",
   "execution_count": 16,
   "metadata": {
    "collapsed": false
   },
   "outputs": [],
   "source": [
    "droppers = ['Alley','LandContour','Utilities']\n",
    "train = pd.read_csv('housetrain.csv', na_values=\"NA\") # python's null = NaN"
   ]
  },
  {
   "cell_type": "code",
   "execution_count": 17,
   "metadata": {
    "collapsed": false
   },
   "outputs": [],
   "source": [
    "prices = train['SalePrice']\n",
    "train.drop('SalePrice',axis=1,inplace=True)\n",
    "train.drop('Id',axis=1,inplace=True)\n",
    "all_data = train\n",
    "#all_data['MSSubClass'] = all_data['MSSubClass'].astype('category')\n",
    "for col in droppers:\n",
    "    all_data.drop(col,axis=1,inplace=True);\n",
    "all_data = pd.get_dummies(all_data) # categorical variables to be splitted into different variables\n",
    "X = all_data.as_matrix()\n",
    "X= np.nan_to_num(X) #\n"
   ]
  },
  {
   "cell_type": "code",
   "execution_count": 18,
   "metadata": {
    "collapsed": false
   },
   "outputs": [
    {
     "data": {
      "text/plain": [
       "1329"
      ]
     },
     "execution_count": 18,
     "metadata": {},
     "output_type": "execute_result"
    }
   ],
   "source": [
    "rows=int(train.shape[0])\n",
    "cols= int(rows*0.8)\n",
    "X_train = X[:cols]\n",
    "prices_train = prices[:cols]\n",
    "X_dev = X[cols:rows]\n",
    "prices_dev = prices[cols:]\n",
    "X_test = X[rows:]\n",
    "\n",
    "prices.shape[0]"
   ]
  },
  {
   "cell_type": "code",
   "execution_count": 26,
   "metadata": {
    "collapsed": false
   },
   "outputs": [
    {
     "data": {
      "text/plain": [
       "1063"
      ]
     },
     "execution_count": 26,
     "metadata": {},
     "output_type": "execute_result"
    }
   ],
   "source": [
    "cols"
   ]
  },
  {
   "cell_type": "code",
   "execution_count": 19,
   "metadata": {
    "collapsed": false
   },
   "outputs": [
    {
     "data": {
      "text/plain": [
       "LinearRegression(copy_X=True, fit_intercept=True, n_jobs=1, normalize=False)"
      ]
     },
     "execution_count": 19,
     "metadata": {},
     "output_type": "execute_result"
    }
   ],
   "source": [
    "lr = LinearRegression()\n",
    "#create model and train\n",
    "lr.fit(X_train,prices_train)"
   ]
  },
  {
   "cell_type": "code",
   "execution_count": 23,
   "metadata": {
    "collapsed": false
   },
   "outputs": [
    {
     "data": {
      "text/plain": [
       "0.17297711734597457"
      ]
     },
     "execution_count": 23,
     "metadata": {},
     "output_type": "execute_result"
    }
   ],
   "source": [
    "Y = lr.predict(X_dev) # trained lr gives element-wise values\n",
    "sq_diff = np.square(np.log(prices_dev)-np.log(Y))\n",
    "error = np.sqrt(np.sum(sq_diff)/prices_dev.shape[0])\n",
    "# root mean squares of the logs of the \n",
    "error"
   ]
  },
  {
   "cell_type": "code",
   "execution_count": 21,
   "metadata": {
    "collapsed": false
   },
   "outputs": [],
   "source": [
    "#Y = lr.predict(X_test)\n",
    "#out = pd.DataFrame"
   ]
  },
  {
   "cell_type": "code",
   "execution_count": null,
   "metadata": {
    "collapsed": true
   },
   "outputs": [],
   "source": []
  },
  {
   "cell_type": "code",
   "execution_count": null,
   "metadata": {
    "collapsed": true
   },
   "outputs": [],
   "source": []
  }
 ],
 "metadata": {
  "kernelspec": {
   "display_name": "Python 2",
   "language": "python",
   "name": "python2"
  },
  "language_info": {
   "codemirror_mode": {
    "name": "ipython",
    "version": 2
   },
   "file_extension": ".py",
   "mimetype": "text/x-python",
   "name": "python",
   "nbconvert_exporter": "python",
   "pygments_lexer": "ipython2",
   "version": "2.7.10"
  }
 },
 "nbformat": 4,
 "nbformat_minor": 2
}
