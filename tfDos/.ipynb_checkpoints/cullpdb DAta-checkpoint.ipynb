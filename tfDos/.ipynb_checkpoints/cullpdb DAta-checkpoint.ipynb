{
 "cells": [
  {
   "cell_type": "code",
   "execution_count": 7,
   "metadata": {
    "collapsed": true
   },
   "outputs": [],
   "source": [
    "import tensorflow as tf\n",
    "import numpy as np\n",
    "from tensorflow.contrib import rnn\n",
    "import pandas as pd\n",
    "data = np.load('./data/cullpdb+profile_6133_filtered.npy')\n"
   ]
  },
  {
   "cell_type": "code",
   "execution_count": 14,
   "metadata": {
    "collapsed": false
   },
   "outputs": [
    {
     "data": {
      "text/plain": [
       "(500, 39900)"
      ]
     },
     "execution_count": 14,
     "metadata": {},
     "output_type": "execute_result"
    }
   ],
   "source": [
    "n=500\n",
    "n_t=int(0.6*n)\n",
    "data_n=data[:n]\n",
    "data_n.shape"
   ]
  },
  {
   "cell_type": "code",
   "execution_count": 15,
   "metadata": {
    "collapsed": false
   },
   "outputs": [],
   "source": [
    "data_r = data_n.reshape((n,700,57))"
   ]
  },
  {
   "cell_type": "code",
   "execution_count": 32,
   "metadata": {
    "collapsed": false
   },
   "outputs": [
    {
     "data": {
      "text/plain": [
       "(700, 57)"
      ]
     },
     "execution_count": 32,
     "metadata": {},
     "output_type": "execute_result"
    }
   ],
   "source": [
    "trn_data=data_r[:n_t]\n",
    "tst_data=data_r[n_t:]\n",
    "trn_data[0].shape"
   ]
  },
  {
   "cell_type": "code",
   "execution_count": 36,
   "metadata": {
    "collapsed": false
   },
   "outputs": [],
   "source": [
    "Header1= ['A', 'C', 'E', 'D', 'G', 'F',\n",
    "'I', 'H', 'K', 'M', 'L', 'N', 'Q', 'P', 'S', 'R', 'T', 'W', 'V', 'Y', 'X','NoSeq'] # =  22\n",
    "Header2=['L', 'B', 'E', 'G', 'I', 'H','S', 'T','NoSeq']                             # = 9\n",
    "Header3= ['N-', 'C-']                                                               # = 2\n",
    "Header4= ['Rel','Abs']                                                              # = 2 \n",
    "Header5= ['A','C','D','E','F','G','H',\n",
    "          'I','K','L','M','N','P','Q','R','S','T','V','W','X','Y','NoSeq']          # 57 - 35 = 22\n",
    "pre=[\n",
    "    'acid',\n",
    "    'label',\n",
    "    'termincal',\n",
    "    'solvent',\n",
    "    'profile',\n",
    "]\n",
    "headers = [Header1,Header2,Header3,Header4,Header5]\n",
    "rowHeader=[]\n",
    "for i in range(5):\n",
    "    rowHeader += list(map(lambda x:pre[i]+x,headers[i]))\n",
    "def getpdatas(npdata):\n",
    "    pdata=[]\n",
    "    m=npdata.shape[1]\n",
    "    n=npdata.shape[0]\n",
    "    colHeader=[i+1 for i in range(m)]\n",
    "    for i in range(n):\n",
    "        pdata.append(pd.DataFrame(npdata[i],columns=rowHeader,index=colHeader))\n",
    "    return pdata\n",
    "\n",
    "ptrn_data = getpdatas(trn_data)"
   ]
  },
  {
   "cell_type": "code",
   "execution_count": 40,
   "metadata": {
    "collapsed": false
   },
   "outputs": [
    {
     "data": {
      "text/plain": [
       "acidA           0.022857\n",
       "acidC           0.002857\n",
       "acidE           0.022857\n",
       "acidD           0.034286\n",
       "acidG           0.032857\n",
       "acidF           0.015714\n",
       "acidI           0.024286\n",
       "acidH           0.007143\n",
       "acidK           0.030000\n",
       "acidM           0.000000\n",
       "acidL           0.037143\n",
       "acidN           0.034286\n",
       "acidQ           0.017143\n",
       "acidP           0.012857\n",
       "acidS           0.031429\n",
       "acidR           0.015714\n",
       "acidT           0.030000\n",
       "acidW           0.004286\n",
       "acidV           0.045714\n",
       "acidY           0.021429\n",
       "acidX           0.007143\n",
       "acidNoSeq       0.550000\n",
       "labelL          0.077143\n",
       "labelB          0.001429\n",
       "labelE          0.238571\n",
       "labelG          0.028571\n",
       "labelI          0.000000\n",
       "labelH          0.012857\n",
       "labelS          0.052857\n",
       "labelT          0.038571\n",
       "labelNoSeq      0.550000\n",
       "termincalN-     0.001429\n",
       "termincalC-     0.001429\n",
       "solventRel      0.320000\n",
       "solventAbs      0.241429\n",
       "profileA        0.158405\n",
       "profileC        0.059533\n",
       "profileD        0.175744\n",
       "profileE        0.176878\n",
       "profileF        0.116693\n",
       "profileG        0.125541\n",
       "profileH        0.107997\n",
       "profileI        0.146961\n",
       "profileK        0.171153\n",
       "profileL        0.125433\n",
       "profileM        0.123684\n",
       "profileN        0.193405\n",
       "profileP        0.099244\n",
       "profileQ        0.155350\n",
       "profileR        0.128647\n",
       "profileS        0.189625\n",
       "profileT        0.215630\n",
       "profileV        0.165089\n",
       "profileW        0.072277\n",
       "profileX        0.142597\n",
       "profileY        0.141051\n",
       "profileNoSeq    0.550000\n",
       "dtype: float64"
      ]
     },
     "execution_count": 40,
     "metadata": {},
     "output_type": "execute_result"
    }
   ],
   "source": [
    "ptrn_data[0].mean()"
   ]
  },
  {
   "cell_type": "code",
   "execution_count": 22,
   "metadata": {
    "collapsed": false
   },
   "outputs": [
    {
     "data": {
      "text/plain": [
       "'\\nChunks of 57 features, for each amino acid. And not chunks of 700 acids for each feature.\\n\\nThe 57 features are:\\n\"[0,22): amino acid residues, with the order of [\\'A\\', \\'C\\', \\'E\\', \\'D\\', \\'G\\', \\'F\\',\\n\\'I\\', \\'H\\', \\'K\\', \\'M\\', \\'L\\', \\'N\\', \\'Q\\', \\'P\\', \\'S\\', \\'R\\', \\'T\\', \\'W\\', \\'V\\', \\'Y\\', \\'X\\',\\'NoSeq\\']\"\\n\"[22,31): Secondary structure labels, with the sequence of \\'L\\', \\'B\\', \\'E\\', \\'G\\', \\'I\\', \\'H\\',\\n\\'S\\', \\'T\\',\\'NoSeq\\'\"\\n\"[31,33): N- and C- terminals;\"\\n\"[33,35): relative and absolute solvent accessibility, used only for training.\\n(absolute accessibility is thresholded at 15; relative accessibility is normalized by the largest accessibility\\nvalue in a protein and thresholded at 0.15; original solvent accessibility is computed by DSSP)\"\\n\"[35,57): sequence profile. Note the order of amino acid residues is ACDEFGHIKLMNPQRSTVWXY and\\nit is different from the order for amino acid residues\"\\n\\nThe last feature of both amino acid residues and secondary structure labels just mark end of the protein sequence.\\n\"[22,31) and [33,35) are hidden during testing.\"\\n\\n\"The dataset division for the first \"\"cullpdb+profile_6133.npy.gz\"\" dataset is\"\\n\"[0,5600) training\"\\n\"[5605,5877) test \"\\n\"[5877,6133) validation\"\\n'"
      ]
     },
     "execution_count": 22,
     "metadata": {},
     "output_type": "execute_result"
    }
   ],
   "source": [
    "\"\"\"\n",
    ">>> Chunks of 57 features, for each amino acid. And not chunks of 700 acids for each feature.\n",
    "\n",
    "The 57 features are:\n",
    "\"[0,22): amino acid residues, with the order of ['A', 'C', 'E', 'D', 'G', 'F',\n",
    "'I', 'H', 'K', 'M', 'L', 'N', 'Q', 'P', 'S', 'R', 'T', 'W', 'V', 'Y', 'X','NoSeq']\"\n",
    "\"[22,31): Secondary structure labels, with the sequence of 'L', 'B', 'E', 'G', 'I', 'H',\n",
    "'S', 'T','NoSeq'\"\n",
    "\"[31,33): N- and C- terminals;\"\n",
    "\"[33,35): relative and absolute solvent accessibility, used only for training.\n",
    "(absolute accessibility is thresholded at 15; relative accessibility is normalized by the largest accessibility\n",
    "value in a protein and thresholded at 0.15; original solvent accessibility is computed by DSSP)\"\n",
    "\"[35,57): sequence profile. Note the order of amino acid residues is ACDEFGHIKLMNPQRSTVWXY and\n",
    "it is different from the order for amino acid residues\"\n",
    "\n",
    "The last feature of both amino acid residues and secondary structure labels just mark end of the protein sequence.\n",
    "\"[22,31) and [33,35) are hidden during testing.\"\n",
    "\n",
    "\"The dataset division for the first \"\"cullpdb+profile_6133.npy.gz\"\" dataset is\"\n",
    "\"[0,5600) training\"\n",
    "\"[5605,5877) test \"\n",
    "\"[5877,6133) validation\"\n",
    "\"\"\"\n"
   ]
  },
  {
   "cell_type": "code",
   "execution_count": null,
   "metadata": {
    "collapsed": true
   },
   "outputs": [],
   "source": []
  },
  {
   "cell_type": "code",
   "execution_count": null,
   "metadata": {
    "collapsed": true
   },
   "outputs": [],
   "source": []
  }
 ],
 "metadata": {
  "kernelspec": {
   "display_name": "Python 2",
   "language": "python",
   "name": "python2"
  },
  "language_info": {
   "codemirror_mode": {
    "name": "ipython",
    "version": 2
   },
   "file_extension": ".py",
   "mimetype": "text/x-python",
   "name": "python",
   "nbconvert_exporter": "python",
   "pygments_lexer": "ipython2",
   "version": "2.7.10"
  }
 },
 "nbformat": 4,
 "nbformat_minor": 2
}
