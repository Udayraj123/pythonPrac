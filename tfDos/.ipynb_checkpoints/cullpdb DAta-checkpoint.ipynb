{
 "cells": [
  {
   "cell_type": "code",
   "execution_count": 7,
   "metadata": {
    "collapsed": true
   },
   "outputs": [],
   "source": [
    "import tensorflow as tf\n",
    "import numpy as np\n",
    "from tensorflow.contrib import rnn\n",
    "import pandas as pd\n",
    "data = np.load('./data/cullpdb+profile_6133_filtered.npy')\n",
    "test_data = np.load('./data/cb513+profile_split1.npy') # 514 examples"
   ]
  },
  {
   "cell_type": "code",
   "execution_count": 8,
   "metadata": {},
   "outputs": [
    {
     "data": {
      "text/plain": [
       "(5534, 39900)"
      ]
     },
     "execution_count": 8,
     "metadata": {},
     "output_type": "execute_result"
    }
   ],
   "source": [
    "n=500\n",
    "n_t=int(0.6*n)\n",
    "data_n=data\n",
    "data_n.shape"
   ]
  },
  {
   "cell_type": "code",
   "execution_count": 11,
   "metadata": {},
   "outputs": [
    {
     "data": {
      "text/plain": [
       "array([[ 0.,  0.,  0., ...,  0.,  0.,  1.],\n",
       "       [ 0.,  0.,  0., ...,  0.,  0.,  1.],\n",
       "       [ 0.,  0.,  0., ...,  0.,  0.,  1.],\n",
       "       ..., \n",
       "       [ 0.,  0.,  0., ...,  0.,  0.,  1.],\n",
       "       [ 1.,  0.,  0., ...,  0.,  0.,  1.],\n",
       "       [ 0.,  0.,  0., ...,  0.,  0.,  1.]])"
      ]
     },
     "execution_count": 11,
     "metadata": {},
     "output_type": "execute_result"
    }
   ],
   "source": [
    "data_n"
   ]
  },
  {
   "cell_type": "code",
   "execution_count": 9,
   "metadata": {},
   "outputs": [
    {
     "data": {
      "text/plain": [
       "(3873800, 57)"
      ]
     },
     "execution_count": 9,
     "metadata": {},
     "output_type": "execute_result"
    }
   ],
   "source": [
    "data_r = data_n.reshape((-1,57))\n",
    "data_r.shape"
   ]
  },
  {
   "cell_type": "code",
   "execution_count": 10,
   "metadata": {},
   "outputs": [
    {
     "name": "stdout",
     "output_type": "stream",
     "text": [
      "[227021.0, 12176.0, 257733.0, 46275.0, 212.0, 408663.0, 97716.0, 133522.0]\n",
      "1183318.0\n",
      "('>>', 1183318.0)\n",
      "('>>', 2690482.0)\n",
      "('>>', 3873800.0)\n",
      "3873800.0\n",
      "[  1.91851218e-01   1.02897108e-02   2.17805357e-01   3.91061405e-02\n",
      "   1.79157251e-04   3.45353489e-01   8.25779714e-02   1.12836955e-01]\n",
      "0.305466983324\n"
     ]
    }
   ],
   "source": [
    "s = np.sum(data_r,axis=0).tolist()\n",
    "sum = 0\n",
    "p2 = s[0:21]\n",
    "p3 = s[21]\n",
    "p = s[22:30]\n",
    "print(p)\n",
    "print(np.sum(p))\n",
    "print('>>',np.sum(p2))\n",
    "print('>>',np.sum(p3))\n",
    "print('>>',np.sum(p3)+np.sum(p2))\n",
    "print(np.sum(p) + s[30])\n",
    "q = p / np.sum(p)\n",
    "print(q)\n",
    "print(np.sum(p) / data_r.shape[0])\n"
   ]
  },
  {
   "cell_type": "code",
   "execution_count": 2,
   "metadata": {
    "collapsed": true
   },
   "outputs": [],
   "source": [
    "Header1= ['A', 'C', 'E', 'D', 'G', 'F','I', 'H', 'K', 'M', 'L', 'N', 'Q', 'P', 'S', 'R', 'T', 'W', 'V', 'Y', 'X','NoSeq'] # = 22 \n",
    "Header2=['L', 'B', 'E', 'G', 'I', 'H','S', 'T','NoSeq'] # = 9 \n",
    "Header3= ['N-', 'C-'] # = 2 \n",
    "Header4= ['Rel','Abs'] # = 2\n",
    "Header5= ['A','C','D','E','F','G','H', 'I','K','L','M','N','P','Q','R','S','T','V','W','X','Y','NoSeq'] # 57 - 35 = 22 \n",
    "pre=[ 'acid', 'label', 'termincal', 'solvent', 'profile', ] \n",
    "headers = [Header1,Header2,Header3,Header4,Header5] \n",
    "rowHeader=[] \n",
    "for i in range(5): \n",
    "    rowHeader += list(map(lambda x:pre[i]+x,headers[i])) \n",
    "def getpdatas(npdata): \n",
    "    pdata=[] \n",
    "    m=npdata.shape[1] \n",
    "    n=npdata.shape[0] \n",
    "    colHeader=[i+1 for i in range(m)] \n",
    "    for i in range(n): \n",
    "        pdata.append(pd.DataFrame(npdata[i],columns=rowHeader,index=colHeader)) \n",
    "    return pdata"
   ]
  },
  {
   "cell_type": "code",
   "execution_count": 3,
   "metadata": {
    "scrolled": true
   },
   "outputs": [
    {
     "ename": "NameError",
     "evalue": "name 'ptrn_data' is not defined",
     "output_type": "error",
     "traceback": [
      "\u001b[0;31m---------------------------------------------------------------------------\u001b[0m",
      "\u001b[0;31mNameError\u001b[0m                                 Traceback (most recent call last)",
      "\u001b[0;32m<ipython-input-3-b75948746b45>\u001b[0m in \u001b[0;36m<module>\u001b[0;34m()\u001b[0m\n\u001b[0;32m----> 1\u001b[0;31m \u001b[0mptrn_data\u001b[0m\u001b[0;34m[\u001b[0m\u001b[0;36m0\u001b[0m\u001b[0;34m]\u001b[0m\u001b[0;34m.\u001b[0m\u001b[0msample\u001b[0m\u001b[0;34m(\u001b[0m\u001b[0;36m10\u001b[0m\u001b[0;34m)\u001b[0m\u001b[0;34m\u001b[0m\u001b[0m\n\u001b[0m",
      "\u001b[0;31mNameError\u001b[0m: name 'ptrn_data' is not defined"
     ]
    }
   ],
   "source": [
    "ptrn_data[0].sample(10)"
   ]
  },
  {
   "cell_type": "code",
   "execution_count": null,
   "metadata": {
    "collapsed": true
   },
   "outputs": [],
   "source": [
    "\"\"\"\n",
    ">>> Chunks of 57 features, for each amino acid. And not chunks of 700 acids for each feature.\n",
    "There is no 'NoSeq' though\n",
    "\n",
    "The 57 features are:\n",
    "One Hot : \"[0,21): amino acid residues, with the order of ['A', 'C', 'E', 'D', 'G', 'F','I', 'H', 'K', 'M', 'L', \\\n",
    "                                                        'N', 'Q', 'P', 'S', 'R', 'T', 'W', 'V', 'Y', 'X','NoSeq']\"\n",
    "One Hot : \"[21,31): Secondary structure labels, with the sequence of 'L', 'B', 'E', 'G', 'I', 'H','S', 'T','NoSeq'\"\n",
    "\n",
    "    ______________________________\n",
    "   /                             /|\n",
    "  / .............700........... / |\n",
    " /_____________________________/  |\n",
    "|..22..|..9..|.2.|.2.|...12... |  |\n",
    "|                              |  |\n",
    ".                              |  |\n",
    ".                              |  |\n",
    "5534| . . . . . 57 . . . . . . |  |\n",
    ".                              |  /\n",
    ".                              | /\n",
    "|______________________________|/\n",
    "\n",
    "\"[31,33): N- and C- terminals;\"\n",
    "\"[33,35): relative and absolute solvent accessibility, used only for training.\n",
    "(absolute accessibility is thresholded at 15; relative accessibility is normalized by the largest accessibility\n",
    "value in a protein and thresholded at 0.15; original solvent accessibility is computed by DSSP)\"\n",
    "\"[35,57): sequence profile. Note the order of amino acid residues is ACDEFGHIKLMNPQRSTVWXY and\n",
    "it is different from the order for amino acid residues\"\n",
    "\n",
    "The last feature of both amino acid residues and secondary structure labels just mark end of the protein sequence.\n",
    "\"[22,31) and [33,35) are hidden during testing.\"\n",
    "\n",
    "\"The dataset division for the first \"\"cullpdb+profile_6133.npy.gz\"\" dataset is\"\n",
    "\"[0,5600) training\"\n",
    "\"[5605,5877) test \"\n",
    "\"[5877,6133) validation\"\n",
    "\"\"\"\n"
   ]
  },
  {
   "cell_type": "code",
   "execution_count": null,
   "metadata": {
    "collapsed": true
   },
   "outputs": [],
   "source": []
  },
  {
   "cell_type": "code",
   "execution_count": null,
   "metadata": {
    "collapsed": true
   },
   "outputs": [],
   "source": []
  }
 ],
 "metadata": {
  "kernelspec": {
   "display_name": "Python 2",
   "language": "python",
   "name": "python2"
  },
  "language_info": {
   "codemirror_mode": {
    "name": "ipython",
    "version": 2
   },
   "file_extension": ".py",
   "mimetype": "text/x-python",
   "name": "python",
   "nbconvert_exporter": "python",
   "pygments_lexer": "ipython2",
   "version": "2.7.12"
  }
 },
 "nbformat": 4,
 "nbformat_minor": 2
}
