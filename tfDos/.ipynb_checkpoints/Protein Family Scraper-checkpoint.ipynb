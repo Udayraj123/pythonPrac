{
 "cells": [
  {
   "cell_type": "code",
   "execution_count": 1,
   "metadata": {
    "collapsed": true
   },
   "outputs": [],
   "source": [
    "from pyquery import PyQuery as pq\n",
    "import urllib\n",
    "from lxml import html\n",
    "from lxml.cssselect import CSSSelector"
   ]
  },
  {
   "cell_type": "code",
   "execution_count": 2,
   "metadata": {
    "collapsed": true
   },
   "outputs": [],
   "source": [
    "# from lxml import etree\n",
    "# from io import StringIO, BytesIO# broken_html = \"<html><head><title>test<body><h1>page title</h3> <div><div id='divID' class='content'></div></div>\"\n",
    "# parser = etree.HTMLParser()\n",
    "# tree   = etree.parse(BytesIO(broken_html), parser)\n",
    "# result = etree.tostring(tree.getroot(),pretty_print=True, method=\"html\")"
   ]
  },
  {
   "cell_type": "code",
   "execution_count": 26,
   "metadata": {},
   "outputs": [],
   "source": [
    "def getFam(ID):\n",
    "    url='http://pfam.xfam.org/protein/'+ID\n",
    "    result = urllib.urlopen(url).read()\n",
    "    h= html.fromstring(result)\n",
    "    selector = CSSSelector(\"a[href^='http://pfam.xfam.org/family/']\")\n",
    "    families = [e.text_content() for e in selector(h)]\n",
    "    return families\n",
    "\n",
    "def next_col(h,text,index=-1):\n",
    "    selector = CSSSelector('td:contains('+text+')')\n",
    "    result=selector(h)\n",
    "    if(not result or len(result)==0):\n",
    "        return \"\"\n",
    "    return result[index].getnext().getnext().text_content()\n",
    "    \n",
    "\n",
    "def getLoc(ID):\n",
    "    url='https://www.bluedart.com/servlet/RoutingServlet?handler=tnt&action=awbquery&awb=awb&numbers='+str(ID)\n",
    "    result = urllib.urlopen(url).read()\n",
    "    h= html.fromstring(result)\n",
    "    \n",
    "    delivered = next_col(h,\"SHIPMENT DELIVERED\")    \n",
    "    delayed= next_col(h,\"Network Delay\")\n",
    "    if(delivered!=\"\"):\n",
    "        delivered_date = next_col(h,\"Date of Delivery\")\n",
    "        delivered_time = next_col(h,\"Time of Delivery\")\n",
    "        return delivered,delivered_date,delivered_time\n",
    "    elif (delayed!=\"\"):\n",
    "        exp_date = next_col(h,\"Expected Date of Delivery\")\n",
    "        return delayed,exp_date\n",
    "    else:\n",
    "        exp_date = next_col(h,\"Expected Date of Delivery\")\n",
    "        return exp_date\n"
   ]
  },
  {
   "cell_type": "code",
   "execution_count": 27,
   "metadata": {},
   "outputs": [
    {
     "ename": "ExpressionError",
     "evalue": "Expected a single string or ident for :contains(), got [<IDENT 'SHIPMENT' at 12>, <IDENT 'DELIVERED' at 21>]",
     "output_type": "error",
     "traceback": [
      "\u001b[0;31m---------------------------------------------------------------------------\u001b[0m",
      "\u001b[0;31mExpressionError\u001b[0m                           Traceback (most recent call last)",
      "\u001b[0;32m<ipython-input-27-4b8f7859f4bf>\u001b[0m in \u001b[0;36m<module>\u001b[0;34m()\u001b[0m\n\u001b[1;32m      2\u001b[0m \u001b[0mlocs\u001b[0m\u001b[0;34m=\u001b[0m\u001b[0;34m[\u001b[0m\u001b[0;34m]\u001b[0m\u001b[0;34m\u001b[0m\u001b[0m\n\u001b[1;32m      3\u001b[0m \u001b[0;32mfor\u001b[0m \u001b[0mID\u001b[0m \u001b[0;32min\u001b[0m \u001b[0mIDs\u001b[0m\u001b[0;34m[\u001b[0m\u001b[0;34m:\u001b[0m\u001b[0;36m1\u001b[0m\u001b[0;34m]\u001b[0m\u001b[0;34m:\u001b[0m\u001b[0;34m\u001b[0m\u001b[0m\n\u001b[0;32m----> 4\u001b[0;31m     \u001b[0mloc\u001b[0m \u001b[0;34m=\u001b[0m \u001b[0mgetLoc\u001b[0m\u001b[0;34m(\u001b[0m\u001b[0mID\u001b[0m\u001b[0;34m)\u001b[0m\u001b[0;34m\u001b[0m\u001b[0m\n\u001b[0m\u001b[1;32m      5\u001b[0m     \u001b[0;32mprint\u001b[0m\u001b[0;34m(\u001b[0m\u001b[0mID\u001b[0m\u001b[0;34m,\u001b[0m\u001b[0mloc\u001b[0m\u001b[0;34m)\u001b[0m\u001b[0;34m\u001b[0m\u001b[0m\n\u001b[1;32m      6\u001b[0m     \u001b[0mlocs\u001b[0m\u001b[0;34m.\u001b[0m\u001b[0mappend\u001b[0m\u001b[0;34m(\u001b[0m\u001b[0mloc\u001b[0m\u001b[0;34m)\u001b[0m\u001b[0;34m\u001b[0m\u001b[0m\n",
      "\u001b[0;32m<ipython-input-26-1712edef0dd6>\u001b[0m in \u001b[0;36mgetLoc\u001b[0;34m(ID)\u001b[0m\n\u001b[1;32m     22\u001b[0m     \u001b[0mh\u001b[0m\u001b[0;34m=\u001b[0m \u001b[0mhtml\u001b[0m\u001b[0;34m.\u001b[0m\u001b[0mfromstring\u001b[0m\u001b[0;34m(\u001b[0m\u001b[0mresult\u001b[0m\u001b[0;34m)\u001b[0m\u001b[0;34m\u001b[0m\u001b[0m\n\u001b[1;32m     23\u001b[0m \u001b[0;34m\u001b[0m\u001b[0m\n\u001b[0;32m---> 24\u001b[0;31m     \u001b[0mdelivered\u001b[0m \u001b[0;34m=\u001b[0m \u001b[0mnext_col\u001b[0m\u001b[0;34m(\u001b[0m\u001b[0mh\u001b[0m\u001b[0;34m,\u001b[0m\u001b[0;34m\"SHIPMENT DELIVERED\"\u001b[0m\u001b[0;34m)\u001b[0m\u001b[0;34m\u001b[0m\u001b[0m\n\u001b[0m\u001b[1;32m     25\u001b[0m     \u001b[0mdelayed\u001b[0m\u001b[0;34m=\u001b[0m \u001b[0mnext_col\u001b[0m\u001b[0;34m(\u001b[0m\u001b[0mh\u001b[0m\u001b[0;34m,\u001b[0m\u001b[0;34m\"Network Delay\"\u001b[0m\u001b[0;34m)\u001b[0m\u001b[0;34m\u001b[0m\u001b[0m\n\u001b[1;32m     26\u001b[0m     \u001b[0;32mif\u001b[0m\u001b[0;34m(\u001b[0m\u001b[0mdelivered\u001b[0m\u001b[0;34m!=\u001b[0m\u001b[0;34m\"\"\u001b[0m\u001b[0;34m)\u001b[0m\u001b[0;34m:\u001b[0m\u001b[0;34m\u001b[0m\u001b[0m\n",
      "\u001b[0;32m<ipython-input-26-1712edef0dd6>\u001b[0m in \u001b[0;36mnext_col\u001b[0;34m(h, text, index)\u001b[0m\n\u001b[1;32m      8\u001b[0m \u001b[0;34m\u001b[0m\u001b[0m\n\u001b[1;32m      9\u001b[0m \u001b[0;32mdef\u001b[0m \u001b[0mnext_col\u001b[0m\u001b[0;34m(\u001b[0m\u001b[0mh\u001b[0m\u001b[0;34m,\u001b[0m\u001b[0mtext\u001b[0m\u001b[0;34m,\u001b[0m\u001b[0mindex\u001b[0m\u001b[0;34m=\u001b[0m\u001b[0;34m-\u001b[0m\u001b[0;36m1\u001b[0m\u001b[0;34m)\u001b[0m\u001b[0;34m:\u001b[0m\u001b[0;34m\u001b[0m\u001b[0m\n\u001b[0;32m---> 10\u001b[0;31m     \u001b[0mselector\u001b[0m \u001b[0;34m=\u001b[0m \u001b[0mCSSSelector\u001b[0m\u001b[0;34m(\u001b[0m\u001b[0;34m'td:contains('\u001b[0m\u001b[0;34m+\u001b[0m\u001b[0mtext\u001b[0m\u001b[0;34m+\u001b[0m\u001b[0;34m')'\u001b[0m\u001b[0;34m)\u001b[0m\u001b[0;34m\u001b[0m\u001b[0m\n\u001b[0m\u001b[1;32m     11\u001b[0m     \u001b[0mresult\u001b[0m\u001b[0;34m=\u001b[0m\u001b[0mselector\u001b[0m\u001b[0;34m(\u001b[0m\u001b[0mh\u001b[0m\u001b[0;34m)\u001b[0m\u001b[0;34m\u001b[0m\u001b[0m\n\u001b[1;32m     12\u001b[0m     \u001b[0;32mfor\u001b[0m \u001b[0mi\u001b[0m \u001b[0;32min\u001b[0m \u001b[0mresult\u001b[0m\u001b[0;34m:\u001b[0m\u001b[0;34m\u001b[0m\u001b[0m\n",
      "\u001b[0;32m/usr/lib/python2.7/dist-packages/lxml/cssselect.pyc\u001b[0m in \u001b[0;36m__init__\u001b[0;34m(self, css, namespaces, translator)\u001b[0m\n\u001b[1;32m     92\u001b[0m         \u001b[0;32melif\u001b[0m \u001b[0mtranslator\u001b[0m \u001b[0;34m==\u001b[0m \u001b[0;34m'xhtml'\u001b[0m\u001b[0;34m:\u001b[0m\u001b[0;34m\u001b[0m\u001b[0m\n\u001b[1;32m     93\u001b[0m             \u001b[0mtranslator\u001b[0m \u001b[0;34m=\u001b[0m \u001b[0mLxmlHTMLTranslator\u001b[0m\u001b[0;34m(\u001b[0m\u001b[0mxhtml\u001b[0m\u001b[0;34m=\u001b[0m\u001b[0mTrue\u001b[0m\u001b[0;34m)\u001b[0m\u001b[0;34m\u001b[0m\u001b[0m\n\u001b[0;32m---> 94\u001b[0;31m         \u001b[0mpath\u001b[0m \u001b[0;34m=\u001b[0m \u001b[0mtranslator\u001b[0m\u001b[0;34m.\u001b[0m\u001b[0mcss_to_xpath\u001b[0m\u001b[0;34m(\u001b[0m\u001b[0mcss\u001b[0m\u001b[0;34m)\u001b[0m\u001b[0;34m\u001b[0m\u001b[0m\n\u001b[0m\u001b[1;32m     95\u001b[0m         \u001b[0metree\u001b[0m\u001b[0;34m.\u001b[0m\u001b[0mXPath\u001b[0m\u001b[0;34m.\u001b[0m\u001b[0m__init__\u001b[0m\u001b[0;34m(\u001b[0m\u001b[0mself\u001b[0m\u001b[0;34m,\u001b[0m \u001b[0mpath\u001b[0m\u001b[0;34m,\u001b[0m \u001b[0mnamespaces\u001b[0m\u001b[0;34m=\u001b[0m\u001b[0mnamespaces\u001b[0m\u001b[0;34m)\u001b[0m\u001b[0;34m\u001b[0m\u001b[0m\n\u001b[1;32m     96\u001b[0m         \u001b[0mself\u001b[0m\u001b[0;34m.\u001b[0m\u001b[0mcss\u001b[0m \u001b[0;34m=\u001b[0m \u001b[0mcss\u001b[0m\u001b[0;34m\u001b[0m\u001b[0m\n",
      "\u001b[0;32m/usr/local/lib/python2.7/dist-packages/cssselect/xpath.pyc\u001b[0m in \u001b[0;36mcss_to_xpath\u001b[0;34m(self, css, prefix)\u001b[0m\n\u001b[1;32m    190\u001b[0m         return ' | '.join(self.selector_to_xpath(selector, prefix,\n\u001b[1;32m    191\u001b[0m                                                  translate_pseudo_elements=True)\n\u001b[0;32m--> 192\u001b[0;31m                           for selector in parse(css))\n\u001b[0m\u001b[1;32m    193\u001b[0m \u001b[0;34m\u001b[0m\u001b[0m\n\u001b[1;32m    194\u001b[0m     def selector_to_xpath(self, selector, prefix='descendant-or-self::',\n",
      "\u001b[0;32m/usr/local/lib/python2.7/dist-packages/cssselect/xpath.pyc\u001b[0m in \u001b[0;36m<genexpr>\u001b[0;34m((selector,))\u001b[0m\n\u001b[1;32m    190\u001b[0m         return ' | '.join(self.selector_to_xpath(selector, prefix,\n\u001b[1;32m    191\u001b[0m                                                  translate_pseudo_elements=True)\n\u001b[0;32m--> 192\u001b[0;31m                           for selector in parse(css))\n\u001b[0m\u001b[1;32m    193\u001b[0m \u001b[0;34m\u001b[0m\u001b[0m\n\u001b[1;32m    194\u001b[0m     def selector_to_xpath(self, selector, prefix='descendant-or-self::',\n",
      "\u001b[0;32m/usr/local/lib/python2.7/dist-packages/cssselect/xpath.pyc\u001b[0m in \u001b[0;36mselector_to_xpath\u001b[0;34m(self, selector, prefix, translate_pseudo_elements)\u001b[0m\n\u001b[1;32m    217\u001b[0m         \u001b[0;32mif\u001b[0m \u001b[0;32mnot\u001b[0m \u001b[0mtree\u001b[0m\u001b[0;34m:\u001b[0m\u001b[0;34m\u001b[0m\u001b[0m\n\u001b[1;32m    218\u001b[0m             \u001b[0;32mraise\u001b[0m \u001b[0mTypeError\u001b[0m\u001b[0;34m(\u001b[0m\u001b[0;34m'Expected a parsed selector, got %r'\u001b[0m \u001b[0;34m%\u001b[0m \u001b[0;34m(\u001b[0m\u001b[0mselector\u001b[0m\u001b[0;34m,\u001b[0m\u001b[0;34m)\u001b[0m\u001b[0;34m)\u001b[0m\u001b[0;34m\u001b[0m\u001b[0m\n\u001b[0;32m--> 219\u001b[0;31m         \u001b[0mxpath\u001b[0m \u001b[0;34m=\u001b[0m \u001b[0mself\u001b[0m\u001b[0;34m.\u001b[0m\u001b[0mxpath\u001b[0m\u001b[0;34m(\u001b[0m\u001b[0mtree\u001b[0m\u001b[0;34m)\u001b[0m\u001b[0;34m\u001b[0m\u001b[0m\n\u001b[0m\u001b[1;32m    220\u001b[0m         \u001b[0;32massert\u001b[0m \u001b[0misinstance\u001b[0m\u001b[0;34m(\u001b[0m\u001b[0mxpath\u001b[0m\u001b[0;34m,\u001b[0m \u001b[0mself\u001b[0m\u001b[0;34m.\u001b[0m\u001b[0mxpathexpr_cls\u001b[0m\u001b[0;34m)\u001b[0m  \u001b[0;31m# help debug a missing 'return'\u001b[0m\u001b[0;34m\u001b[0m\u001b[0m\n\u001b[1;32m    221\u001b[0m         \u001b[0;32mif\u001b[0m \u001b[0mtranslate_pseudo_elements\u001b[0m \u001b[0;32mand\u001b[0m \u001b[0mselector\u001b[0m\u001b[0;34m.\u001b[0m\u001b[0mpseudo_element\u001b[0m\u001b[0;34m:\u001b[0m\u001b[0;34m\u001b[0m\u001b[0m\n",
      "\u001b[0;32m/usr/local/lib/python2.7/dist-packages/cssselect/xpath.pyc\u001b[0m in \u001b[0;36mxpath\u001b[0;34m(self, parsed_selector)\u001b[0m\n\u001b[1;32m    252\u001b[0m         \u001b[0;32mif\u001b[0m \u001b[0mmethod\u001b[0m \u001b[0;32mis\u001b[0m \u001b[0mNone\u001b[0m\u001b[0;34m:\u001b[0m\u001b[0;34m\u001b[0m\u001b[0m\n\u001b[1;32m    253\u001b[0m             \u001b[0;32mraise\u001b[0m \u001b[0mExpressionError\u001b[0m\u001b[0;34m(\u001b[0m\u001b[0;34m'%s is not supported.'\u001b[0m \u001b[0;34m%\u001b[0m  \u001b[0mtype_name\u001b[0m\u001b[0;34m)\u001b[0m\u001b[0;34m\u001b[0m\u001b[0m\n\u001b[0;32m--> 254\u001b[0;31m         \u001b[0;32mreturn\u001b[0m \u001b[0mmethod\u001b[0m\u001b[0;34m(\u001b[0m\u001b[0mparsed_selector\u001b[0m\u001b[0;34m)\u001b[0m\u001b[0;34m\u001b[0m\u001b[0m\n\u001b[0m\u001b[1;32m    255\u001b[0m \u001b[0;34m\u001b[0m\u001b[0m\n\u001b[1;32m    256\u001b[0m \u001b[0;34m\u001b[0m\u001b[0m\n",
      "\u001b[0;32m/usr/local/lib/python2.7/dist-packages/cssselect/xpath.pyc\u001b[0m in \u001b[0;36mxpath_function\u001b[0;34m(self, function)\u001b[0m\n\u001b[1;32m    280\u001b[0m             raise ExpressionError(\n\u001b[1;32m    281\u001b[0m                 \"The pseudo-class :%s() is unknown\" % function.name)\n\u001b[0;32m--> 282\u001b[0;31m         \u001b[0;32mreturn\u001b[0m \u001b[0mmethod\u001b[0m\u001b[0;34m(\u001b[0m\u001b[0mself\u001b[0m\u001b[0;34m.\u001b[0m\u001b[0mxpath\u001b[0m\u001b[0;34m(\u001b[0m\u001b[0mfunction\u001b[0m\u001b[0;34m.\u001b[0m\u001b[0mselector\u001b[0m\u001b[0;34m)\u001b[0m\u001b[0;34m,\u001b[0m \u001b[0mfunction\u001b[0m\u001b[0;34m)\u001b[0m\u001b[0;34m\u001b[0m\u001b[0m\n\u001b[0m\u001b[1;32m    283\u001b[0m \u001b[0;34m\u001b[0m\u001b[0m\n\u001b[1;32m    284\u001b[0m     \u001b[0;32mdef\u001b[0m \u001b[0mxpath_pseudo\u001b[0m\u001b[0;34m(\u001b[0m\u001b[0mself\u001b[0m\u001b[0;34m,\u001b[0m \u001b[0mpseudo\u001b[0m\u001b[0;34m)\u001b[0m\u001b[0;34m:\u001b[0m\u001b[0;34m\u001b[0m\u001b[0m\n",
      "\u001b[0;32m/usr/lib/python2.7/dist-packages/lxml/cssselect.pyc\u001b[0m in \u001b[0;36mxpath_contains_function\u001b[0;34m(self, xpath, function)\u001b[0m\n\u001b[1;32m     37\u001b[0m             raise ExpressionError(\n\u001b[1;32m     38\u001b[0m                 \u001b[0;34m\"Expected a single string or ident for :contains(), got %r\"\u001b[0m\u001b[0;34m\u001b[0m\u001b[0m\n\u001b[0;32m---> 39\u001b[0;31m                 % function.arguments)\n\u001b[0m\u001b[1;32m     40\u001b[0m         \u001b[0mvalue\u001b[0m \u001b[0;34m=\u001b[0m \u001b[0mfunction\u001b[0m\u001b[0;34m.\u001b[0m\u001b[0marguments\u001b[0m\u001b[0;34m[\u001b[0m\u001b[0;36m0\u001b[0m\u001b[0;34m]\u001b[0m\u001b[0;34m.\u001b[0m\u001b[0mvalue\u001b[0m\u001b[0;34m\u001b[0m\u001b[0m\n\u001b[1;32m     41\u001b[0m         return xpath.add_condition(\n",
      "\u001b[0;31mExpressionError\u001b[0m: Expected a single string or ident for :contains(), got [<IDENT 'SHIPMENT' at 12>, <IDENT 'DELIVERED' at 21>]"
     ]
    }
   ],
   "source": [
    "IDs = ['50450887594','50450887653','50450887093','50450887863','50450887314','50450887465','50450887690','50450887815','50450887852','50450887443','50450887712','50450887266','50450887303','50450887373','50450887476','50450887222','50450886721','50450886743','50450886916','50450887664','50450887351','50450887572','50450887804','50450886780','50450887255','50450887270','50450887292','50450887723','50450886894','50450887126','50450887583','50450887734','50450886920','50450887012','50450887362','50450887045','50450887675','50450887115','50450886673','50450887491','50450887163','50450887340','50450887561','50450887513','50450886986','50450887233','50450886975','50450886905','50450887771','50450887336','50450887056','50450887395','50450887034','50450886706','50450887421','50450887432','50450886662','50450886684','50450887830','50450887546','50450886710','50450887410','50450886990','50450887841','50450887023','DUMMY','50450886953','50450887605','50450887535','50450887480','50450887060','50450886765','50450887071','50450886754','50450887141','50450887756','50450887211','50450887616','50450887620','50450887631','50450887701','50450886732','50450887244','50450887760','50450887524','50450887001','50450887281','50450886931','50450886942','50450887885','50450887082','50450887325','50450887406','50450887745','50450887826','50450887874','50450887454','50450887642','50450886883','50450887550','50450887686','50450887384','50450887152','50450887782','50450887130','50450887502','50450886695','50450886964','50450887793']\n",
    "locs=[]\n",
    "for ID in IDs[:1]:\n",
    "    loc = getLoc(ID)\n",
    "    print(ID,loc)\n",
    "    locs.append(loc)"
   ]
  },
  {
   "cell_type": "code",
   "execution_count": 5,
   "metadata": {},
   "outputs": [
    {
     "data": {
      "text/plain": [
       "True"
      ]
     },
     "execution_count": 5,
     "metadata": {},
     "output_type": "execute_result"
    }
   ],
   "source": [
    "import copy\n",
    "\n",
    "len(IDs) == len(locs)"
   ]
  },
  {
   "cell_type": "code",
   "execution_count": 6,
   "metadata": {
    "collapsed": true
   },
   "outputs": [],
   "source": [
    "import pyperclip\n",
    "pyperclip.copy(str(locs))"
   ]
  },
  {
   "cell_type": "code",
   "execution_count": null,
   "metadata": {
    "collapsed": true
   },
   "outputs": [],
   "source": []
  }
 ],
 "metadata": {
  "kernelspec": {
   "display_name": "Python 2",
   "language": "python",
   "name": "python2"
  },
  "language_info": {
   "codemirror_mode": {
    "name": "ipython",
    "version": 2
   },
   "file_extension": ".py",
   "mimetype": "text/x-python",
   "name": "python",
   "nbconvert_exporter": "python",
   "pygments_lexer": "ipython2",
   "version": "2.7.12"
  }
 },
 "nbformat": 4,
 "nbformat_minor": 2
}
