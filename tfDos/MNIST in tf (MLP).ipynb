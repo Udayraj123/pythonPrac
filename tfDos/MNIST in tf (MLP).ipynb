{
 "cells": [
  {
   "cell_type": "code",
   "execution_count": 1,
   "metadata": {
    "collapsed": true
   },
   "outputs": [],
   "source": [
    "import tensorflow as tf\n",
    "from tensorflow.examples.tutorials.mnist import input_data\n"
   ]
  },
  {
   "cell_type": "code",
   "execution_count": 2,
   "metadata": {},
   "outputs": [
    {
     "name": "stdout",
     "output_type": "stream",
     "text": [
      "Extracting MNIST_data/train-images-idx3-ubyte.gz\n",
      "Extracting MNIST_data/train-labels-idx1-ubyte.gz\n",
      "Extracting MNIST_data/t10k-images-idx3-ubyte.gz\n",
      "Extracting MNIST_data/t10k-labels-idx1-ubyte.gz\n"
     ]
    }
   ],
   "source": [
    "mnist = input_data.read_data_sets('MNIST_data', one_hot=True)\n"
   ]
  },
  {
   "cell_type": "code",
   "execution_count": 3,
   "metadata": {},
   "outputs": [
    {
     "data": {
      "text/plain": [
       "'\\nGreat IDEA ! Making use of centroids !\\nCustom You can also construct specialized linear projections based on text searches for \\nfinding meaningful directions in space. To define a projection axis, enter two search\\nstrings or regular expressions. The program computes the centroids of the sets of \\npoints whose labels match these searches, and uses the difference vector between \\ncentroids as a projection axis.\\n\\nalso checkout -http://distill.pub/2016/misread-tsne\\n'"
      ]
     },
     "execution_count": 3,
     "metadata": {},
     "output_type": "execute_result"
    }
   ],
   "source": [
    "\"\"\"\n",
    "Great IDEA ! Making use of centroids !\n",
    "Custom You can also construct specialized linear projections based on text searches for \n",
    "finding meaningful directions in space. To define a projection axis, enter two search\n",
    "strings or regular expressions. The program computes the centroids of the sets of \n",
    "points whose labels match these searches, and uses the difference vector between \n",
    "centroids as a projection axis.\n",
    "\n",
    "also checkout -http://distill.pub/2016/misread-tsne\n",
    "\"\"\""
   ]
  },
  {
   "cell_type": "code",
   "execution_count": 4,
   "metadata": {},
   "outputs": [
    {
     "data": {
      "text/plain": [
       "'\\nLSTM state = includes Two Tensors\\n\\nTo collect runtime metadata for a run - \\n'"
      ]
     },
     "execution_count": 4,
     "metadata": {},
     "output_type": "execute_result"
    }
   ],
   "source": [
    "\"\"\"\n",
    "LSTM state = includes Two Tensors\n",
    "\n",
    "To collect runtime metadata for a run - \n",
    "\"\"\""
   ]
  },
  {
   "cell_type": "code",
   "execution_count": 5,
   "metadata": {},
   "outputs": [
    {
     "data": {
      "text/plain": [
       "\"\\nCNN part -\\n# Enter an interactive TensorFlow Session.\\n>> Interactive session allows the use of print(M.eval()) where M is someTensorNode\\n    feed_dict can also replace tf.Variables in the expression !\\n>> \\n\\n#CNN needs a lot of weights and biases.\\n# noise in weights for symmetry breaking, and to prevent 0 gradients\\n#Also, ReLU requires slight positive bias to avoid dead neurons\\n#These functions will be handy to avoid repetitions\\ndef weight_variable(shape):\\n  initial = tf.truncated_normal(shape, stddev=0.1)\\n  return tf.Variable(initial)\\n\\ndef bias_variable(shape):\\n  initial = tf.constant(0.1, shape=shape)\\n  return tf.Variable(initial)\\n\\ndef conv2d(x, W):\\n    return tf.nn.conv2d(x, W, strides=[1, 1, 1, 1], padding='SAME') #SAME means zero padding\\n\\ndef max_pool_2x2(x):\\n    return tf.nn.max_pool(x, ksize=[1, 2, 2, 1],\\n                        strides=[1, 2, 2, 1], padding='SAME')\\n# 2nd & 3rd dimensions to image width and height, and the final dimension corresponding to the number of color channels.\\n\\n\""
      ]
     },
     "execution_count": 5,
     "metadata": {},
     "output_type": "execute_result"
    }
   ],
   "source": [
    "\"\"\"\n",
    "CNN part -\n",
    "# Enter an interactive TensorFlow Session.\n",
    ">> Interactive session allows the use of print(M.eval()) where M is someTensorNode\n",
    "    feed_dict can also replace tf.Variables in the expression !\n",
    ">> \n",
    "\n",
    "#CNN needs a lot of weights and biases.\n",
    "# noise in weights for symmetry breaking, and to prevent 0 gradients\n",
    "#Also, ReLU requires slight positive bias to avoid dead neurons\n",
    "#These functions will be handy to avoid repetitions\n",
    "def weight_variable(shape):\n",
    "  initial = tf.truncated_normal(shape, stddev=0.1)\n",
    "  return tf.Variable(initial)\n",
    "\n",
    "def bias_variable(shape):\n",
    "  initial = tf.constant(0.1, shape=shape)\n",
    "  return tf.Variable(initial)\n",
    "\n",
    "def conv2d(x, W):\n",
    "    return tf.nn.conv2d(x, W, strides=[1, 1, 1, 1], padding='SAME') #SAME means zero padding\n",
    "\n",
    "def max_pool_2x2(x):\n",
    "    return tf.nn.max_pool(x, ksize=[1, 2, 2, 1],\n",
    "                        strides=[1, 2, 2, 1], padding='SAME')\n",
    "# 2nd & 3rd dimensions to image width and height, and the final dimension corresponding to the number of color channels.\n",
    "\n",
    "\"\"\""
   ]
  },
  {
   "cell_type": "code",
   "execution_count": 6,
   "metadata": {},
   "outputs": [
    {
     "name": "stdout",
     "output_type": "stream",
     "text": [
      "('train', 0.91965491)\n",
      "('test', 0.92220008)\n"
     ]
    }
   ],
   "source": [
    "sess = tf.InteractiveSession()\n",
    "\n",
    "x = tf.placeholder(tf.float32, shape=[None, 784])\n",
    "y_ = tf.placeholder(tf.float32, shape=[None, 10])\n",
    "#None indicates unknown size (no of images pepr batch is variable)\n",
    "\n",
    "W = tf.Variable(tf.zeros([784,10]))\n",
    "b = tf.Variable(tf.zeros([10]))\n",
    "\n",
    "# First need to initialize these global vars\n",
    "sess.run(tf.global_variables_initializer())\n",
    "\n",
    "y = tf.matmul(x,W) + b\n",
    "\n",
    "cross_entropy = tf.reduce_mean(\n",
    "    tf.nn.softmax_cross_entropy_with_logits(labels=y_, logits=y))\n",
    "\n",
    "# tf's each err function will have its own optimisations in the below functions\n",
    "train_step = tf.train.GradientDescentOptimizer(0.5).minimize(cross_entropy)\n",
    "\n",
    "for _ in range(1000):\n",
    "    train_batch = mnist.train.next_batch(100) # m=100 in this iter.\n",
    "#     train\n",
    "    train_step.run(feed_dict={x: train_batch[0], y_: train_batch[1]})\n",
    "#     feed_dict can replace ANY TENSOR in the CG, not just placeholders.(like W)\n",
    "correct_prediction = tf.equal(tf.argmax(y,1), tf.argmax(y_,1))\n",
    "accuracy = tf.reduce_mean(tf.cast(correct_prediction, tf.float32))\n",
    "# above acc of train data\n",
    "\n",
    "print('train',accuracy.eval(feed_dict={x: mnist.train.images, y_: mnist.train.labels}))\n",
    "print('test',accuracy.eval(feed_dict={x: mnist.test.images, y_: mnist.test.labels}))\n",
    "\n"
   ]
  },
  {
   "cell_type": "code",
   "execution_count": null,
   "metadata": {
    "collapsed": true
   },
   "outputs": [],
   "source": [
    "\"\"\"Visualizing\n",
    "\n",
    "First, create the TensorFlow graph that you'd like to collect summary data from, \n",
    "and decide which nodes you would like to annotate with summary operations (image,graph,audio,scalar,etc).\n",
    "\n",
    "tf.summary.scalar can be attached to the loss and learning rate nodes\n",
    "\n",
    "histogram is the coolest one -\n",
    "    find the distribution of gradients and weights\n",
    "    \n",
    "Embedding Projector - A built in tool to visualize the high dim data - it projects the\n",
    "high-dimensional data into 3 dimensions using principal component analysis.\n",
    "use it by \n",
    "from tensorflow.contrib.tensorboard.plugins import projector\n",
    "\n",
    "metadata - the labels/images are to be passed thru tsv (tab separted) file\n",
    "\"\"\"\n"
   ]
  }
 ],
 "metadata": {
  "kernelspec": {
   "display_name": "Python 2",
   "language": "python",
   "name": "python2"
  },
  "language_info": {
   "codemirror_mode": {
    "name": "ipython",
    "version": 2
   },
   "file_extension": ".py",
   "mimetype": "text/x-python",
   "name": "python",
   "nbconvert_exporter": "python",
   "pygments_lexer": "ipython2",
   "version": "2.7.12"
  }
 },
 "nbformat": 4,
 "nbformat_minor": 2
}
