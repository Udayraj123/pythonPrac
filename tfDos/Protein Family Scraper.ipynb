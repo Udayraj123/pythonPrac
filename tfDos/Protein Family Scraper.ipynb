{
 "cells": [
  {
   "cell_type": "code",
   "execution_count": 1,
   "metadata": {
    "collapsed": true
   },
   "outputs": [],
   "source": [
    "from pyquery import PyQuery as pq\n",
    "import urllib\n",
    "from lxml import html\n",
    "from lxml.cssselect import CSSSelector"
   ]
  },
  {
   "cell_type": "code",
   "execution_count": 2,
   "metadata": {
    "collapsed": true
   },
   "outputs": [],
   "source": [
    "# from lxml import etree\n",
    "# from io import StringIO, BytesIO# broken_html = \"<html><head><title>test<body><h1>page title</h3> <div><div id='divID' class='content'></div></div>\"\n",
    "# parser = etree.HTMLParser()\n",
    "# tree   = etree.parse(BytesIO(broken_html), parser)\n",
    "# result = etree.tostring(tree.getroot(),pretty_print=True, method=\"html\")"
   ]
  },
  {
   "cell_type": "code",
   "execution_count": 5,
   "metadata": {
    "collapsed": true
   },
   "outputs": [],
   "source": [
    "def getFam(ID):\n",
    "    url='http://pfam.xfam.org/protein/'+ID\n",
    "    result = urllib.urlopen(url).read()\n",
    "    h= html.fromstring(result)\n",
    "    selector = CSSSelector(\"a[href^='http://pfam.xfam.org/family/']\")\n",
    "    families = [e.text_content() for e in selector(h)]\n",
    "    return families\n",
    "\n",
    "def next_col(h,text,index=-1,nxt=2):\n",
    "    selector = CSSSelector(\"td:contains('{}')\".format(text))\n",
    "    result=selector(h)\n",
    "    if(not result or len(result)==0):\n",
    "        return \"\"\n",
    "    elem=result[index]\n",
    "    for i in range(nxt):\n",
    "        elem=elem.getnext()\n",
    "        \n",
    "    return elem.text_content()\n",
    "    \n",
    "    \n",
    "def down_col(h,text,index=-1,nxt=2):\n",
    "    selector = CSSSelector(\"td:contains('{}')\".format(text))\n",
    "    result=selector(h)\n",
    "    if(not result or len(result)==0):\n",
    "        return \"\"\n",
    "    elem=result[index]\n",
    "    \n",
    "    elem=elem.getparent().getnext().find('td')\n",
    "    \n",
    "    for i in range(nxt):\n",
    "        elem=elem.getnext()\n",
    "        \n",
    "    return elem.text_content()\n",
    "    \n",
    "\n",
    "def getLoc(ID):\n",
    "    url='https://www.bluedart.com/servlet/RoutingServlet?handler=tnt&action=awbquery&awb=awb&numbers='+str(ID)\n",
    "    result = urllib.urlopen(url).read()\n",
    "    h= html.fromstring(result)\n",
    "    \n",
    "    delivered = next_col(h,\"SHIPMENT DELIVERED\")    \n",
    "    delayed= next_col(h,\"Network Delay\")\n",
    "    from_city =next_col(h,\"From\",1)\n",
    "    to_city =down_col(h,\"From\",1)\n",
    "    \n",
    "    if(delivered!=\"\"):\n",
    "        delivered_date = next_col(h,\"Date of Delivery\")\n",
    "        delivered_time = next_col(h,\"Time of Delivery\")\n",
    "        return \"delivered\",delivered_date,delivered_time,to_city\n",
    "    elif (delayed!=\"\"):\n",
    "        exp_date = next_col(h,\"Expected Date of Delivery\")\n",
    "        return \"delayed\",exp_date,to_city\n",
    "    else:\n",
    "        exp_date = next_col(h,\"Expected Date of Delivery\")\n",
    "        if(exp_date==\"\"):\n",
    "            return \"N/A - check manually\"\n",
    "        return exp_date,to_city\n"
   ]
  },
  {
   "cell_type": "code",
   "execution_count": 6,
   "metadata": {},
   "outputs": [
    {
     "name": "stdout",
     "output_type": "stream",
     "text": [
      "('50450887594', ('delayed', ' 10 July 2017 ', 'Khargone '))\n",
      "('50450887653', ('delayed', ' 13 July 2017 ', 'Raipur '))\n",
      "('50450887093', ('delayed', ' 13 July 2017 ', 'Chhattarpur '))\n",
      "('50450887863', ('delivered', ' 08 July 2017', '12:00 ', 'Bilaspur '))\n",
      "('50450887314', ('delayed', ' 11 July 2017 ', 'Chhindwara '))\n",
      "('50450887465', ('delayed', ' 11 July 2017 ', 'Bhopal '))\n",
      "('50450887690', (' 11 July 2017 ', 'Gwalior '))\n",
      "('50450887815', ('delayed', ' 08 July 2017 ', 'Indore '))\n",
      "('50450887852', ('delayed', '', 'Indore '))\n",
      "('50450887443', ('delayed', ' 10 July 2017 ', 'Jabalpur '))\n",
      "('50450887712', ('delayed', ' 11 July 2017 ', 'Raipur '))\n",
      "('50450887266', ('delayed', '', 'Bhopal '))\n",
      "('50450887303', ('delivered', ' 08 July 2017', '15:05 ', 'Bhilai '))\n",
      "('50450887373', (' 06 July 2017 ', 'Darbhanga '))\n",
      "('50450887476', ('delivered', ' 09 July 2017', '15:00 ', 'Bokaro '))\n",
      "('50450887222', ('delivered', ' 06 July 2017', '13:38 ', 'Gaya '))\n",
      "('50450886721', ('delivered', ' 08 July 2017', '15:00 ', 'Ranchi '))\n",
      "('50450886743', ('delivered', ' 10 July 2017', '12:00 ', 'Tufangangj '))\n",
      "('50450886916', (' 06 July 2017 ', 'Puri '))\n",
      "('50450887664', (' 08 July 2017 ', 'Muzaffarpur '))\n",
      "('50450887351', ('delivered', ' 08 July 2017', '17:00 ', 'Patna '))\n",
      "('50450887572', ('delivered', ' 08 July 2017', '15:26 ', 'Bhagalpur '))\n",
      "('50450887804', ('delivered', ' 08 July 2017', '15:00 ', 'Purnia '))\n",
      "('50450886780', ('delayed', '', 'Berhampur '))\n",
      "('50450887255', ('delivered', ' 06 July 2017', '08:00 ', 'Patna '))\n",
      "('50450887270', ('delivered', ' 08 July 2017', '17:00 ', 'Patna '))\n",
      "('50450887292', ('delayed', ' 11 July 2017 ', 'Berhampur '))\n",
      "('50450887723', ('delivered', ' 08 July 2017', '17:08 ', 'New Delhi '))\n",
      "('50450886894', ('delivered', ' 08 July 2017', '17:08 ', 'New Delhi '))\n",
      "('50450887126', 'N/A - check manually')\n",
      "('50450887583', ('delivered', ' 09 July 2017', '15:36 ', 'Faridabad '))\n",
      "('50450887734', (' 06 July 2017 ', 'Rewari '))\n",
      "('50450886920', ('delayed', ' 13 July 2017 ', 'Gorakhpur '))\n",
      "('50450887012', (' 11 July 2017 ', 'Patiala '))\n",
      "('50450887362', ('delayed', ' 10 July 2017 ', 'Raebareli '))\n",
      "('50450887045', (' 11 July 2017 ', 'Rohtak '))\n",
      "('50450887675', ('delayed', ' 11 July 2017 ', 'Noida '))\n",
      "('50450887115', ('delayed', ' 11 July 2017 ', 'Noida '))\n",
      "('50450886673', ('delivered', ' 08 July 2017', '16:19 ', 'Gurgaon '))\n",
      "('50450887491', (' 11 July 2017 ', 'Karnal '))\n",
      "('50450887163', (' 11 July 2017 ', 'Hissar '))\n",
      "('50450887340', ('delivered', ' 07 July 2017', '12:00 ', 'Allahabad '))\n",
      "('50450887561', ('delayed', ' 06 July 2017 ', 'Lucknow '))\n",
      "('50450887513', ('delayed', ' 14 July 2017 ', 'Roorkee '))\n",
      "('50450886986', ('delayed', '', 'Kanpur '))\n",
      "('50450887233', ('delayed', ' 06 July 2017 ', 'Kanpur '))\n",
      "('50450886975', ('delayed', ' 11 July 2017 ', 'Agra '))\n",
      "('50450886905', ('delivered', ' 09 July 2017', '15:36 ', 'Faridabad '))\n",
      "('50450887771', 'N/A - check manually')\n",
      "('50450887336', ('delayed', ' 14 July 2017 ', 'Agra '))\n",
      "('50450887056', ('delayed', ' 12 July 2017 ', 'Greater Noida '))\n",
      "('50450887395', ('delayed', ' 10 July 2017 ', 'Lakhimpurkheri '))\n",
      "('50450887034', (' 11 July 2017 ', 'Karnal '))\n",
      "('50450886706', ('delayed', ' 15 July 2017 ', 'Varanasi '))\n",
      "('50450887421', (' 11 July 2017 ', 'Tumkur '))\n",
      "('50450887432', ('delivered', ' 07 July 2017', '17:33 ', 'Vishakhapatnam '))\n",
      "('50450886662', ('delivered', ' 07 July 2017', '17:32 ', 'Vishakhapatnam '))\n",
      "('50450886684', ('delivered', ' 07 July 2017', '17:34 ', 'Vishakhapatnam '))\n",
      "('50450887830', ('delivered', ' 08 July 2017', '15:19 ', 'Rajahmundhry '))\n",
      "('50450887546', ('delivered', ' 08 July 2017', '16:00 ', 'Suryapet '))\n",
      "('50450886710', ('delivered', ' 08 July 2017', '16:00 ', 'Suryapet '))\n",
      "('50450887410', ('delivered', ' 07 July 2017', '14:38 ', 'Hyderabad '))\n",
      "('50450886990', ('delivered', ' 07 July 2017', '14:37 ', 'Hyderabad '))\n",
      "('50450887841', ('delivered', ' 07 July 2017', '17:33 ', 'Vishakhapatnam '))\n",
      "('50450887023', ('delivered', ' 07 July 2017', '14:37 ', 'Hyderabad '))\n",
      "('DUMMY', 'N/A - check manually')\n",
      "('50450886953', ('delayed', ' 06 July 2017 ', 'Chennai '))\n",
      "('50450887605', (' 13 July 2017 ', 'Thrissur '))\n",
      "('50450887535', (' 10 July 2017 ', 'Kozhikode '))\n",
      "('50450887480', ('delivered', ' 08 July 2017', '16:00 ', 'Khammam '))\n",
      "('50450887060', ('delivered', ' 08 July 2017', '16:53 ', 'Nellore '))\n",
      "('50450886765', ('delivered', ' 08 July 2017', '12:07 ', 'Karimnagar '))\n",
      "('50450887071', ('delayed', ' 12 July 2017 ', 'Tadipatri '))\n",
      "('50450886754', (' 07 July 2017 ', 'Bangalore '))\n",
      "('50450887141', (' 07 July 2017 ', 'Bangalore '))\n",
      "('50450887756', ('delivered', ' 07 July 2017', '13:27 ', 'Nizamabad '))\n",
      "('50450887211', ('delivered', ' 08 July 2017', '15:45 ', 'Guntur '))\n",
      "('50450887616', (' 13 July 2017 ', 'Kakinada '))\n",
      "('50450887620', ('delayed', ' 08 July 2017 ', 'Amravati '))\n",
      "('50450887631', (' 10 July 2017 ', 'Alwar '))\n",
      "('50450887701', (' 11 July 2017 ', 'Bhiwadi '))\n",
      "('50450886732', (' 13 July 2017 ', 'Jodhpur '))\n",
      "('50450887244', ('delivered', ' 08 July 2017', '15:46 ', 'Pune '))\n",
      "('50450887760', (' 17 July 2017 ', 'Osmanabad '))\n",
      "('50450887524', ('delayed', ' 10 July 2017 ', 'Aurangabad '))\n",
      "('50450887001', ('delayed', ' 07 July 2017 ', 'Surat '))\n",
      "('50450887281', (' 06 July 2017 ', 'Jaipur '))\n",
      "('50450886931', (' 17 July 2017 ', 'Pali '))\n",
      "('50450886942', (' 07 July 2017 ', 'Jaipur '))\n",
      "('50450887885', ('delivered', ' 08 July 2017', '15:46 ', 'Pune '))\n",
      "('50450887082', (' 07 July 2017 ', 'Jaipur '))\n",
      "('50450887325', ('delayed', ' 10 July 2017 ', 'Baroda '))\n",
      "('50450887406', (' 14 July 2017 ', 'Kota '))\n",
      "('50450887745', ('delayed', ' 10 July 2017 ', 'Baroda '))\n",
      "('50450887826', ('delayed', ' 10 July 2017 ', 'Baroda '))\n",
      "('50450887874', ('delayed', ' 10 July 2017 ', 'Baroda '))\n",
      "('50450887454', ('delivered', ' 10 July 2017', '13:13 ', 'Mumbai '))\n",
      "('50450887642', ('delivered', ' 08 July 2017', '14:07 ', 'Mumbai '))\n",
      "('50450886883', (' 08 July 2017 ', 'Nasik '))\n",
      "('50450887550', (' 10 July 2017 ', 'Chittorgarh '))\n",
      "('50450887686', 'N/A - check manually')\n",
      "('50450887384', ('delayed', ' 12 July 2017 ', 'Chandrapur '))\n",
      "('50450887152', 'N/A - check manually')\n",
      "('50450887782', (' 10 July 2017 ', 'Chittorgarh '))\n",
      "('50450887130', ('delayed', ' 10 July 2017 ', 'Baroda '))\n",
      "('50450887502', ('delayed', ' 08 July 2017 ', 'Rajkot '))\n",
      "('50450886695', ('delayed', ' 08 July 2017 ', 'Rajkot '))\n",
      "('50450886964', (' 10 July 2017 ', 'Bharuch '))\n",
      "('50450887793', (' 06 July 2017 ', 'Jaipur '))\n"
     ]
    }
   ],
   "source": [
    "IDs = ['50450887594','50450887653','50450887093','50450887863','50450887314','50450887465','50450887690','50450887815','50450887852','50450887443','50450887712','50450887266','50450887303','50450887373','50450887476','50450887222','50450886721','50450886743','50450886916','50450887664','50450887351','50450887572','50450887804','50450886780','50450887255','50450887270','50450887292','50450887723','50450886894','50450887126','50450887583','50450887734','50450886920','50450887012','50450887362','50450887045','50450887675','50450887115','50450886673','50450887491','50450887163','50450887340','50450887561','50450887513','50450886986','50450887233','50450886975','50450886905','50450887771','50450887336','50450887056','50450887395','50450887034','50450886706','50450887421','50450887432','50450886662','50450886684','50450887830','50450887546','50450886710','50450887410','50450886990','50450887841','50450887023','DUMMY','50450886953','50450887605','50450887535','50450887480','50450887060','50450886765','50450887071','50450886754','50450887141','50450887756','50450887211','50450887616','50450887620','50450887631','50450887701','50450886732','50450887244','50450887760','50450887524','50450887001','50450887281','50450886931','50450886942','50450887885','50450887082','50450887325','50450887406','50450887745','50450887826','50450887874','50450887454','50450887642','50450886883','50450887550','50450887686','50450887384','50450887152','50450887782','50450887130','50450887502','50450886695','50450886964','50450887793']\n",
    "locs=[]\n",
    "for ID in IDs:\n",
    "    loc = getLoc(ID)\n",
    "    print(ID,loc)\n",
    "    locs.append(loc)"
   ]
  },
  {
   "cell_type": "code",
   "execution_count": 7,
   "metadata": {},
   "outputs": [
    {
     "data": {
      "text/plain": [
       "True"
      ]
     },
     "execution_count": 7,
     "metadata": {},
     "output_type": "execute_result"
    }
   ],
   "source": [
    "import copy\n",
    "\n",
    "len(IDs) == len(locs)"
   ]
  },
  {
   "cell_type": "code",
   "execution_count": 8,
   "metadata": {
    "collapsed": true
   },
   "outputs": [],
   "source": [
    "import pyperclip\n",
    "pyperclip.copy(str(locs))"
   ]
  },
  {
   "cell_type": "code",
   "execution_count": null,
   "metadata": {
    "collapsed": true
   },
   "outputs": [],
   "source": []
  }
 ],
 "metadata": {
  "kernelspec": {
   "display_name": "Python 2",
   "language": "python",
   "name": "python2"
  },
  "language_info": {
   "codemirror_mode": {
    "name": "ipython",
    "version": 2
   },
   "file_extension": ".py",
   "mimetype": "text/x-python",
   "name": "python",
   "nbconvert_exporter": "python",
   "pygments_lexer": "ipython2",
   "version": "2.7.12"
  }
 },
 "nbformat": 4,
 "nbformat_minor": 2
}
