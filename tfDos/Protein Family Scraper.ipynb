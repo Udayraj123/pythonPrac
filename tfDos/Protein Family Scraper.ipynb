{
 "cells": [
  {
   "cell_type": "code",
   "execution_count": 51,
   "metadata": {
    "collapsed": false
   },
   "outputs": [],
   "source": [
    "from pyquery import PyQuery as pq\n",
    "import urllib\n",
    "from lxml import html\n",
    "from lxml.cssselect import CSSSelector"
   ]
  },
  {
   "cell_type": "code",
   "execution_count": null,
   "metadata": {
    "collapsed": true
   },
   "outputs": [],
   "source": [
    "# from lxml import etree\n",
    "# from io import StringIO, BytesIO# broken_html = \"<html><head><title>test<body><h1>page title</h3> <div><div id='divID' class='content'></div></div>\"\n",
    "# parser = etree.HTMLParser()\n",
    "# tree   = etree.parse(BytesIO(broken_html), parser)\n",
    "# result = etree.tostring(tree.getroot(),pretty_print=True, method=\"html\")"
   ]
  },
  {
   "cell_type": "code",
   "execution_count": 52,
   "metadata": {
    "collapsed": false
   },
   "outputs": [],
   "source": [
    "def getFam(ID):\n",
    "    url='http://pfam.xfam.org/protein/'+ID\n",
    "    result = urllib.urlopen(url).read()\n",
    "    h= html.fromstring(result)\n",
    "    selector = CSSSelector(\"a[href^='http://pfam.xfam.org/family/']\")\n",
    "    families = [e.text_content() for e in selector(h)]\n",
    "    return families"
   ]
  },
  {
   "cell_type": "code",
   "execution_count": 65,
   "metadata": {
    "collapsed": false
   },
   "outputs": [
    {
     "data": {
      "text/plain": [
       "['Pox_VLTF3']"
      ]
     },
     "execution_count": 65,
     "metadata": {},
     "output_type": "execute_result"
    }
   ],
   "source": []
  },
  {
   "cell_type": "code",
   "execution_count": null,
   "metadata": {
    "collapsed": true
   },
   "outputs": [],
   "source": []
  }
 ],
 "metadata": {
  "kernelspec": {
   "display_name": "Python 2",
   "language": "python",
   "name": "python2"
  },
  "language_info": {
   "codemirror_mode": {
    "name": "ipython",
    "version": 2
   },
   "file_extension": ".py",
   "mimetype": "text/x-python",
   "name": "python",
   "nbconvert_exporter": "python",
   "pygments_lexer": "ipython2",
   "version": "2.7.10"
  }
 },
 "nbformat": 4,
 "nbformat_minor": 2
}
