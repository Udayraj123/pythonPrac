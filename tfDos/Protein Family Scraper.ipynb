{
 "cells": [
  {
   "cell_type": "code",
   "execution_count": 2,
   "metadata": {
    "collapsed": true
   },
   "outputs": [],
   "source": [
    "from pyquery import PyQuery as pq\n",
    "import urllib\n",
    "from lxml import html\n",
    "from lxml.cssselect import CSSSelector"
   ]
  },
  {
   "cell_type": "code",
   "execution_count": 3,
   "metadata": {
    "collapsed": true
   },
   "outputs": [],
   "source": [
    "# from lxml import etree\n",
    "# from io import StringIO, BytesIO# broken_html = \"<html><head><title>test<body><h1>page title</h3> <div><div id='divID' class='content'></div></div>\"\n",
    "# parser = etree.HTMLParser()\n",
    "# tree   = etree.parse(BytesIO(broken_html), parser)\n",
    "# result = etree.tostring(tree.getroot(),pretty_print=True, method=\"html\")"
   ]
  },
  {
   "cell_type": "code",
   "execution_count": 36,
   "metadata": {
    "collapsed": true
   },
   "outputs": [],
   "source": [
    "def getFam(ID):\n",
    "    url='http://pfam.xfam.org/protein/'+ID\n",
    "    result = urllib.urlopen(url).read()\n",
    "    h= html.fromstring(result)\n",
    "    selector = CSSSelector(\"a[href^='http://pfam.xfam.org/family/']\")\n",
    "    families = [e.text_content() for e in selector(h)]\n",
    "    return families\n",
    "\n",
    "def next_col(h,text,index=-1,nxt=2):\n",
    "    selector = CSSSelector(\"td:contains('{}')\".format(text))\n",
    "    result=selector(h)\n",
    "    if(not result or len(result)==0):\n",
    "        return \"\"\n",
    "    elem=result[index]\n",
    "    for i in range(nxt):\n",
    "        elem=elem.getnext()\n",
    "        \n",
    "    return elem.text_content()\n",
    "    \n",
    "    \n",
    "def down_col(h,text,index=-1,nxt=2):\n",
    "    selector = CSSSelector(\"td:contains('{}')\".format(text))\n",
    "    result=selector(h)\n",
    "    if(not result or len(result)==0):\n",
    "        return \"\"\n",
    "    elem=result[index]\n",
    "    \n",
    "    elem=elem.getparent().getnext().find('td')\n",
    "    \n",
    "    for i in range(nxt):\n",
    "        elem=elem.getnext()\n",
    "        \n",
    "    return elem.text_content()\n",
    "    \n",
    "\n",
    "def getLoc(ID):\n",
    "    url='https://www.bluedart.com/servlet/RoutingServlet?handler=tnt&action=awbquery&awb=awb&numbers='+str(ID)\n",
    "    result = urllib.urlopen(url).read()\n",
    "    h= html.fromstring(result)\n",
    "    \n",
    "    delivered = next_col(h,\"SHIPMENT DELIVERED\")    \n",
    "    delayed= next_col(h,\"Network Delay\")\n",
    "    from_city =next_col(h,\"From\",1)\n",
    "    to_city =down_col(h,\"From\",1)\n",
    "    return to_city\n",
    "    if(delivered!=\"\"):\n",
    "        delivered_date = next_col(h,\"Date of Delivery\")\n",
    "        delivered_time = next_col(h,\"Time of Delivery\")\n",
    "        return \"delivered\",delivered_date,delivered_time\n",
    "    elif (delayed!=\"\"):\n",
    "        exp_date = next_col(h,\"Expected Date of Delivery\")\n",
    "        return \"delayed\",exp_date\n",
    "    else:\n",
    "        exp_date = next_col(h,\"Expected Date of Delivery\")\n",
    "        if(exp_date==\"\"):\n",
    "            return \"N/A - check manually\"\n",
    "        return exp_date\n"
   ]
  },
  {
   "cell_type": "code",
   "execution_count": 37,
   "metadata": {},
   "outputs": [
    {
     "name": "stdout",
     "output_type": "stream",
     "text": [
      "('50450887594', 'Khargone ')\n",
      "('50450887653', 'Raipur ')\n",
      "('50450887093', 'Chhattarpur ')\n",
      "('50450887863', 'Bilaspur ')\n",
      "('50450887314', 'Chhindwara ')\n",
      "('50450887465', 'Bhopal ')\n",
      "('50450887690', 'Gwalior ')\n",
      "('50450887815', 'Indore ')\n",
      "('50450887852', 'Indore ')\n",
      "('50450887443', 'Jabalpur ')\n",
      "('50450887712', 'Raipur ')\n",
      "('50450887266', 'Bhopal ')\n",
      "('50450887303', 'Bhilai ')\n",
      "('50450887373', 'Darbhanga ')\n",
      "('50450887476', 'Bokaro ')\n",
      "('50450887222', 'Gaya ')\n",
      "('50450886721', 'Ranchi ')\n",
      "('50450886743', 'Tufangangj ')\n",
      "('50450886916', 'Puri ')\n",
      "('50450887664', 'Muzaffarpur ')\n",
      "('50450887351', 'Patna ')\n",
      "('50450887572', 'Bhagalpur ')\n",
      "('50450887804', 'Purnia ')\n",
      "('50450886780', 'Berhampur ')\n",
      "('50450887255', 'Patna ')\n",
      "('50450887270', 'Patna ')\n",
      "('50450887292', 'Berhampur ')\n",
      "('50450887723', 'New Delhi ')\n",
      "('50450886894', 'New Delhi ')\n",
      "('50450887126', 'Chandigarh ')\n",
      "('50450887583', 'Faridabad ')\n",
      "('50450887734', 'Rewari ')\n",
      "('50450886920', 'Gorakhpur ')\n",
      "('50450887012', 'Patiala ')\n",
      "('50450887362', 'Raebareli ')\n",
      "('50450887045', 'Rohtak ')\n",
      "('50450887675', 'Noida ')\n",
      "('50450887115', 'Noida ')\n",
      "('50450886673', 'Gurgaon ')\n",
      "('50450887491', 'Karnal ')\n",
      "('50450887163', 'Hissar ')\n",
      "('50450887340', 'Allahabad ')\n",
      "('50450887561', 'Lucknow ')\n",
      "('50450887513', 'Roorkee ')\n",
      "('50450886986', 'Kanpur ')\n",
      "('50450887233', 'Kanpur ')\n",
      "('50450886975', 'Agra ')\n",
      "('50450886905', 'Faridabad ')\n",
      "('50450887771', 'Jammu ')\n",
      "('50450887336', 'Agra ')\n",
      "('50450887056', 'Greater Noida ')\n",
      "('50450887395', 'Lakhimpurkheri ')\n",
      "('50450887034', 'Karnal ')\n",
      "('50450886706', 'Varanasi ')\n",
      "('50450887421', 'Tumkur ')\n",
      "('50450887432', 'Vishakhapatnam ')\n",
      "('50450886662', 'Vishakhapatnam ')\n",
      "('50450886684', 'Vishakhapatnam ')\n",
      "('50450887830', 'Rajahmundhry ')\n",
      "('50450887546', 'Suryapet ')\n",
      "('50450886710', 'Suryapet ')\n",
      "('50450887410', 'Hyderabad ')\n",
      "('50450886990', 'Hyderabad ')\n",
      "('50450887841', 'Vishakhapatnam ')\n",
      "('50450887023', 'Hyderabad ')\n",
      "('DUMMY', '')\n",
      "('50450886953', 'Chennai ')\n",
      "('50450887605', 'Thrissur ')\n",
      "('50450887535', 'Kozhikode ')\n",
      "('50450887480', 'Khammam ')\n",
      "('50450887060', 'Nellore ')\n",
      "('50450886765', 'Karimnagar ')\n",
      "('50450887071', 'Tadipatri ')\n",
      "('50450886754', 'Bangalore ')\n",
      "('50450887141', 'Bangalore ')\n",
      "('50450887756', 'Nizamabad ')\n",
      "('50450887211', 'Guntur ')\n",
      "('50450887616', 'Kakinada ')\n",
      "('50450887620', 'Amravati ')\n",
      "('50450887631', 'Alwar ')\n",
      "('50450887701', 'Bhiwadi ')\n",
      "('50450886732', 'Jodhpur ')\n",
      "('50450887244', 'Pune ')\n",
      "('50450887760', 'Osmanabad ')\n",
      "('50450887524', 'Aurangabad ')\n",
      "('50450887001', 'Surat ')\n",
      "('50450887281', 'Jaipur ')\n",
      "('50450886931', 'Pali ')\n",
      "('50450886942', 'Jaipur ')\n",
      "('50450887885', 'Pune ')\n",
      "('50450887082', 'Jaipur ')\n",
      "('50450887325', 'Baroda ')\n",
      "('50450887406', 'Kota ')\n",
      "('50450887745', 'Baroda ')\n",
      "('50450887826', 'Baroda ')\n",
      "('50450887874', 'Baroda ')\n",
      "('50450887454', 'Mumbai ')\n",
      "('50450887642', 'Mumbai ')\n",
      "('50450886883', 'Nasik ')\n",
      "('50450887550', 'Chittorgarh ')\n",
      "('50450887686', 'Bikaner ')\n",
      "('50450887384', 'Chandrapur ')\n",
      "('50450887152', 'Ajmer ')\n",
      "('50450887782', 'Chittorgarh ')\n",
      "('50450887130', 'Baroda ')\n",
      "('50450887502', 'Rajkot ')\n",
      "('50450886695', 'Rajkot ')\n",
      "('50450886964', 'Bharuch ')\n",
      "('50450887793', 'Jaipur ')\n"
     ]
    }
   ],
   "source": [
    "IDs = ['50450887594','50450887653','50450887093','50450887863','50450887314','50450887465','50450887690','50450887815','50450887852','50450887443','50450887712','50450887266','50450887303','50450887373','50450887476','50450887222','50450886721','50450886743','50450886916','50450887664','50450887351','50450887572','50450887804','50450886780','50450887255','50450887270','50450887292','50450887723','50450886894','50450887126','50450887583','50450887734','50450886920','50450887012','50450887362','50450887045','50450887675','50450887115','50450886673','50450887491','50450887163','50450887340','50450887561','50450887513','50450886986','50450887233','50450886975','50450886905','50450887771','50450887336','50450887056','50450887395','50450887034','50450886706','50450887421','50450887432','50450886662','50450886684','50450887830','50450887546','50450886710','50450887410','50450886990','50450887841','50450887023','DUMMY','50450886953','50450887605','50450887535','50450887480','50450887060','50450886765','50450887071','50450886754','50450887141','50450887756','50450887211','50450887616','50450887620','50450887631','50450887701','50450886732','50450887244','50450887760','50450887524','50450887001','50450887281','50450886931','50450886942','50450887885','50450887082','50450887325','50450887406','50450887745','50450887826','50450887874','50450887454','50450887642','50450886883','50450887550','50450887686','50450887384','50450887152','50450887782','50450887130','50450887502','50450886695','50450886964','50450887793']\n",
    "locs=[]\n",
    "for ID in IDs:\n",
    "    loc = getLoc(ID)\n",
    "    print(ID,loc)\n",
    "    locs.append(loc)"
   ]
  },
  {
   "cell_type": "code",
   "execution_count": 38,
   "metadata": {},
   "outputs": [
    {
     "data": {
      "text/plain": [
       "True"
      ]
     },
     "execution_count": 38,
     "metadata": {},
     "output_type": "execute_result"
    }
   ],
   "source": [
    "import copy\n",
    "\n",
    "len(IDs) == len(locs)"
   ]
  },
  {
   "cell_type": "code",
   "execution_count": 39,
   "metadata": {
    "collapsed": true
   },
   "outputs": [],
   "source": [
    "import pyperclip\n",
    "pyperclip.copy(str(locs))"
   ]
  },
  {
   "cell_type": "code",
   "execution_count": null,
   "metadata": {
    "collapsed": true
   },
   "outputs": [],
   "source": []
  }
 ],
 "metadata": {
  "kernelspec": {
   "display_name": "Python 2",
   "language": "python",
   "name": "python2"
  },
  "language_info": {
   "codemirror_mode": {
    "name": "ipython",
    "version": 2
   },
   "file_extension": ".py",
   "mimetype": "text/x-python",
   "name": "python",
   "nbconvert_exporter": "python",
   "pygments_lexer": "ipython2",
   "version": "2.7.12"
  }
 },
 "nbformat": 4,
 "nbformat_minor": 2
}
