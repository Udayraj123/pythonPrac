{
 "cells": [
  {
   "cell_type": "code",
   "execution_count": 1,
   "metadata": {
    "collapsed": true
   },
   "outputs": [],
   "source": [
    "# data analysis and wrangling\n",
    "import pandas as pd\n",
    "import numpy as np\n",
    "import random as rnd\n",
    "\n",
    "# visualization\n",
    "import seaborn as sns\n",
    "import matplotlib.pyplot as plt\n",
    "%matplotlib inline\n",
    "\n"
   ]
  },
  {
   "cell_type": "code",
   "execution_count": 2,
   "metadata": {
    "collapsed": false
   },
   "outputs": [
    {
     "name": "stdout",
     "output_type": "stream",
     "text": [
      "                Id     Elevation        Aspect         Slope  \\\n",
      "count  15120.00000  15120.000000  15120.000000  15120.000000   \n",
      "mean    7560.50000   2749.322553    156.676653     16.501587   \n",
      "std     4364.91237    417.678187    110.085801      8.453927   \n",
      "min        1.00000   1863.000000      0.000000      0.000000   \n",
      "25%     3780.75000   2376.000000     65.000000     10.000000   \n",
      "50%     7560.50000   2752.000000    126.000000     15.000000   \n",
      "75%    11340.25000   3104.000000    261.000000     22.000000   \n",
      "max    15120.00000   3849.000000    360.000000     52.000000   \n",
      "\n",
      "       Horizontal_Distance_To_Hydrology  Vertical_Distance_To_Hydrology  \\\n",
      "count                      15120.000000                    15120.000000   \n",
      "mean                         227.195701                       51.076521   \n",
      "std                          210.075296                       61.239406   \n",
      "min                            0.000000                     -146.000000   \n",
      "25%                           67.000000                        5.000000   \n",
      "50%                          180.000000                       32.000000   \n",
      "75%                          330.000000                       79.000000   \n",
      "max                         1343.000000                      554.000000   \n",
      "\n",
      "       Horizontal_Distance_To_Roadways  Hillshade_9am  Hillshade_Noon  \\\n",
      "count                     15120.000000   15120.000000    15120.000000   \n",
      "mean                       1714.023214     212.704299      218.965608   \n",
      "std                        1325.066358      30.561287       22.801966   \n",
      "min                           0.000000       0.000000       99.000000   \n",
      "25%                         764.000000     196.000000      207.000000   \n",
      "50%                        1316.000000     220.000000      223.000000   \n",
      "75%                        2270.000000     235.000000      235.000000   \n",
      "max                        6890.000000     254.000000      254.000000   \n",
      "\n",
      "       Hillshade_3pm      ...        Soil_Type32   Soil_Type33   Soil_Type34  \\\n",
      "count   15120.000000      ...       15120.000000  15120.000000  15120.000000   \n",
      "mean      135.091997      ...           0.045635      0.040741      0.001455   \n",
      "std        45.895189      ...           0.208699      0.197696      0.038118   \n",
      "min         0.000000      ...           0.000000      0.000000      0.000000   \n",
      "25%       106.000000      ...           0.000000      0.000000      0.000000   \n",
      "50%       138.000000      ...           0.000000      0.000000      0.000000   \n",
      "75%       167.000000      ...           0.000000      0.000000      0.000000   \n",
      "max       248.000000      ...           1.000000      1.000000      1.000000   \n",
      "\n",
      "        Soil_Type35   Soil_Type36   Soil_Type37   Soil_Type38   Soil_Type39  \\\n",
      "count  15120.000000  15120.000000  15120.000000  15120.000000  15120.000000   \n",
      "mean       0.006746      0.000661      0.002249      0.048148      0.043452   \n",
      "std        0.081859      0.025710      0.047368      0.214086      0.203880   \n",
      "min        0.000000      0.000000      0.000000      0.000000      0.000000   \n",
      "25%        0.000000      0.000000      0.000000      0.000000      0.000000   \n",
      "50%        0.000000      0.000000      0.000000      0.000000      0.000000   \n",
      "75%        0.000000      0.000000      0.000000      0.000000      0.000000   \n",
      "max        1.000000      1.000000      1.000000      1.000000      1.000000   \n",
      "\n",
      "        Soil_Type40    Cover_Type  \n",
      "count  15120.000000  15120.000000  \n",
      "mean       0.030357      4.000000  \n",
      "std        0.171574      2.000066  \n",
      "min        0.000000      1.000000  \n",
      "25%        0.000000      2.000000  \n",
      "50%        0.000000      4.000000  \n",
      "75%        0.000000      6.000000  \n",
      "max        1.000000      7.000000  \n",
      "\n",
      "[8 rows x 56 columns]\n"
     ]
    }
   ],
   "source": [
    "\"\"\"\n",
    "Ingredients :\n",
    "sigmoid function\n",
    "log cost function -(ylg-(1-y)lg)\n",
    "\n",
    "\"\"\"\n",
    "#Follow pandas method for awesome plots & describe functions\n",
    "train_df = pd.read_csv('train.csv',sep=',')\n",
    "# train_df.info()\n",
    "print(train_df.describe())\n",
    "train_df=train_df.drop('Id',axis=1) #axis 0 is horiz. 1 is vert\n",
    "\n",
    "train_df=np.array(train_df)"
   ]
  },
  {
   "cell_type": "code",
   "execution_count": 3,
   "metadata": {
    "collapsed": false
   },
   "outputs": [],
   "source": [
    "# np.sum does column wise thing\n",
    "# h = 1/(1+e^-XTheta)\n",
    "# J = sum(-log(h)y-log(1-h)(1-y))/m\n",
    "# delJ is checked to be sum(x*(h-y))/m\n",
    "\n",
    "# def sigmoid(z):    return np.array(map(float,list(map(lambda x:1/(1+(np.e)**(-x)) , z))))\n",
    "\n",
    "def normalize(x):\n",
    "    n=x.shape[1]\n",
    "    x_means = np.mean(x,axis=0)\n",
    "    x_stds = np.std(x,axis=0)\n",
    "    for i in range(n):\n",
    "        norm = (x[:,i]-x_means[i])/x_stds[i]\n",
    "        x[:,i] = norm\n",
    "\n",
    "def getH(X,theta):\n",
    "    h = np.matmul(X,theta) #becomes m x 1\n",
    "    return 1/(1+np.exp(-h))\n",
    "    \n",
    "def calcCost(m,h,y):\n",
    "    J = np.sum(np.log(h)*y + np.log(1-h)*(1-y))/m*-1\n",
    "    return J\n",
    "\n",
    "def getGrad(m,h,y):\n",
    "    delJ = np.matmul(X.T,h-y)\n",
    "    return delJ\n",
    "\n",
    "def gradDescent(theta,m,h,y,alpha=0.01):\n",
    "    grad = getGrad(m,h,y)\n",
    "    theta = theta - (alpha/m)*grad\n",
    "    return theta\n"
   ]
  },
  {
   "cell_type": "code",
   "execution_count": null,
   "metadata": {
    "collapsed": false
   },
   "outputs": [
    {
     "name": "stdout",
     "output_type": "stream",
     "text": [
      "('error 1', 0.48696295876315265)\n",
      "('predict 1', 0)\n",
      "('error 2', 0.64915811166099113)\n",
      "('predict 2', 0)\n",
      "('error 3', 0.035993207166804896)\n"
     ]
    }
   ],
   "source": [
    "figsize=(20,10)\n",
    "datasize=1000\n",
    "k=7\n",
    "iterations = 3000\n",
    "featsize=9\n",
    "X=train_df[:datasize,1:featsize+1]\n",
    "X=X.astype('float32')\n",
    "normalize(X)\n",
    "m,n=X.shape\n",
    "\n",
    "ones= np.array([[1] for i in range(m)])\n",
    "X = np.concatenate((ones,X),axis=1)\n",
    "\n",
    "%matplotlib inline\n",
    "y_orig=train_df[:datasize,-1]\n",
    "def rc():\n",
    "    c=['r','g','b','y','m']\n",
    "    return c[np.random.randint(0,len(c))]\n",
    "def predict(x):\n",
    "    return 1 if x>=0.5 else 0\n",
    "\n",
    "for c in range(1,k+1):\n",
    "#     set one vs all data vals\n",
    "    y=y_orig.copy().reshape((m,1))\n",
    "    y[np.where(y==c)]=0\n",
    "    y[np.where(y!=c)]=1\n",
    "\n",
    "    theta=np.random.randn(n+1,1)*0.1\n",
    "\n",
    "    J_hist=[]\n",
    "#     t_hist=[]\n",
    "    for i in range(iterations):\n",
    "        h = getH(X,theta)\n",
    "        J= calcCost(m,h,y)\n",
    "        theta = gradDescent(theta,m,h,y,alpha=0.01)\n",
    "        J_hist.append(J)\n",
    "#         t_hist.append(theta)\n",
    "\n",
    "    #final trained values\n",
    "    plt.plot(J_hist,rc())\n",
    "    print(\"error %d\" % c,J_hist[-1])\n",
    "    i=0\n",
    "    while(y[i]==0):\n",
    "        i=np.rand.randint(0,y.shape[0])\n",
    "    X_vald=X[i]\n",
    "    print(\"predict %d\"%c,predict(getH(X_vald,theta)[0]))\n"
   ]
  },
  {
   "cell_type": "code",
   "execution_count": null,
   "metadata": {
    "collapsed": true
   },
   "outputs": [],
   "source": []
  },
  {
   "cell_type": "code",
   "execution_count": null,
   "metadata": {
    "collapsed": true
   },
   "outputs": [],
   "source": []
  }
 ],
 "metadata": {
  "kernelspec": {
   "display_name": "Python 2",
   "language": "python",
   "name": "python2"
  },
  "language_info": {
   "codemirror_mode": {
    "name": "ipython",
    "version": 2
   },
   "file_extension": ".py",
   "mimetype": "text/x-python",
   "name": "python",
   "nbconvert_exporter": "python",
   "pygments_lexer": "ipython2",
   "version": "2.7.10"
  }
 },
 "nbformat": 4,
 "nbformat_minor": 2
}
