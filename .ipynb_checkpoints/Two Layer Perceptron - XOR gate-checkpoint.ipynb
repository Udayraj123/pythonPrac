{
 "cells": [
  {
   "cell_type": "code",
   "execution_count": 3,
   "metadata": {},
   "outputs": [],
   "source": [
    "# data analysis and wrangling\n",
    "import pandas as pd\n",
    "import numpy as np\n",
    "import random as rnd\n",
    "\n",
    "# visualization\n",
    "import seaborn as sns\n",
    "import matplotlib.pyplot as plt\n",
    "%matplotlib inline\n",
    "\n"
   ]
  },
  {
   "cell_type": "code",
   "execution_count": 4,
   "metadata": {
    "collapsed": true
   },
   "outputs": [],
   "source": [
    "# np.sum does column wise thing\n",
    "# h = 1/(1+e^-XTheta)\n",
    "# J = sum(-log(h)y-log(1-h)(1-y))/m\n",
    "# delJ is checked to be sum(x*(h-y))/m\n",
    "\n",
    "def sigmoid(z):  \n",
    "    return  1/(1+np.exp(-z))\n",
    "#     return np.array(map(float,list(map(lambda x:1/(1+(np.e)**(-x)) , z))))\n",
    "def calcCost(m,h,y):\n",
    "    J = np.sum(np.log(h)*y + np.log(1-h)*(1-y))/m*-1\n",
    "    return J\n"
   ]
  },
  {
   "cell_type": "code",
   "execution_count": 7,
   "metadata": {},
   "outputs": [
    {
     "name": "stdout",
     "output_type": "stream",
     "text": [
      "('cost', 0.0049998730624139336, 'iterations', 37201)\n"
     ]
    },
    {
     "ename": "UnboundLocalError",
     "evalue": "local variable 'X_h' referenced before assignment",
     "output_type": "error",
     "traceback": [
      "\u001b[0;31m---------------------------------------------------------------------------\u001b[0m",
      "\u001b[0;31mUnboundLocalError\u001b[0m                         Traceback (most recent call last)",
      "\u001b[0;32m<ipython-input-7-36dae7c22d05>\u001b[0m in \u001b[0;36m<module>\u001b[0;34m()\u001b[0m\n\u001b[1;32m     86\u001b[0m     \u001b[0;32mprint\u001b[0m\u001b[0;34m(\u001b[0m\u001b[0;34m'cost'\u001b[0m\u001b[0;34m,\u001b[0m\u001b[0mpp\u001b[0m\u001b[0;34m.\u001b[0m\u001b[0mJ_hist\u001b[0m\u001b[0;34m[\u001b[0m\u001b[0;34m-\u001b[0m\u001b[0;36m1\u001b[0m\u001b[0;34m]\u001b[0m\u001b[0;34m,\u001b[0m\u001b[0;34m'iterations'\u001b[0m\u001b[0;34m,\u001b[0m\u001b[0mpp\u001b[0m\u001b[0;34m.\u001b[0m\u001b[0miters\u001b[0m\u001b[0;34m)\u001b[0m\u001b[0;34m\u001b[0m\u001b[0m\n\u001b[1;32m     87\u001b[0m \u001b[0;31m# X=np.random.permutation(X)\u001b[0m\u001b[0;34m\u001b[0m\u001b[0;34m\u001b[0m\u001b[0m\n\u001b[0;32m---> 88\u001b[0;31m     \u001b[0mp\u001b[0m\u001b[0;34m=\u001b[0m\u001b[0mpp\u001b[0m\u001b[0;34m.\u001b[0m\u001b[0mpredict\u001b[0m\u001b[0;34m(\u001b[0m\u001b[0mX\u001b[0m\u001b[0;34m)\u001b[0m\u001b[0;34m.\u001b[0m\u001b[0mreshape\u001b[0m\u001b[0;34m(\u001b[0m\u001b[0;34m(\u001b[0m\u001b[0;36m4\u001b[0m\u001b[0;34m,\u001b[0m\u001b[0;36m1\u001b[0m\u001b[0;34m)\u001b[0m\u001b[0;34m)\u001b[0m\u001b[0;34m\u001b[0m\u001b[0m\n\u001b[0m\u001b[1;32m     89\u001b[0m     \u001b[0;32mprint\u001b[0m\u001b[0;34m(\u001b[0m\u001b[0mnp\u001b[0m\u001b[0;34m.\u001b[0m\u001b[0mconcatenate\u001b[0m\u001b[0;34m(\u001b[0m \u001b[0;34m[\u001b[0m\u001b[0mX\u001b[0m\u001b[0;34m,\u001b[0m\u001b[0mp\u001b[0m\u001b[0;34m]\u001b[0m\u001b[0;34m,\u001b[0m\u001b[0maxis\u001b[0m\u001b[0;34m=\u001b[0m\u001b[0;36m1\u001b[0m\u001b[0;34m)\u001b[0m\u001b[0;34m)\u001b[0m\u001b[0;34m\u001b[0m\u001b[0m\n\u001b[1;32m     90\u001b[0m \u001b[0;34m\u001b[0m\u001b[0m\n",
      "\u001b[0;32m<ipython-input-7-36dae7c22d05>\u001b[0m in \u001b[0;36mpredict\u001b[0;34m(self, x)\u001b[0m\n\u001b[1;32m     50\u001b[0m         \u001b[0mX\u001b[0m\u001b[0;34m=\u001b[0m\u001b[0mx\u001b[0m\u001b[0;34m.\u001b[0m\u001b[0mcopy\u001b[0m\u001b[0;34m(\u001b[0m\u001b[0;34m)\u001b[0m\u001b[0;34m\u001b[0m\u001b[0m\n\u001b[1;32m     51\u001b[0m         \u001b[0mX\u001b[0m \u001b[0;34m=\u001b[0m\u001b[0mnp\u001b[0m\u001b[0;34m.\u001b[0m\u001b[0minsert\u001b[0m\u001b[0;34m(\u001b[0m\u001b[0mX\u001b[0m\u001b[0;34m,\u001b[0m\u001b[0;36m0\u001b[0m\u001b[0;34m,\u001b[0m\u001b[0;36m1\u001b[0m\u001b[0;34m,\u001b[0m\u001b[0maxis\u001b[0m\u001b[0;34m=\u001b[0m\u001b[0;36m1\u001b[0m\u001b[0;34m)\u001b[0m \u001b[0;31m# insert the column\u001b[0m\u001b[0;34m\u001b[0m\u001b[0m\n\u001b[0;32m---> 52\u001b[0;31m         \u001b[0mX_h\u001b[0m \u001b[0;34m=\u001b[0m \u001b[0mself\u001b[0m\u001b[0;34m.\u001b[0m\u001b[0mgetH0\u001b[0m\u001b[0;34m(\u001b[0m\u001b[0mX_h\u001b[0m\u001b[0;34m)\u001b[0m\u001b[0;34m\u001b[0m\u001b[0m\n\u001b[0m\u001b[1;32m     53\u001b[0m         \u001b[0mX_h\u001b[0m \u001b[0;34m=\u001b[0m\u001b[0mnp\u001b[0m\u001b[0;34m.\u001b[0m\u001b[0minsert\u001b[0m\u001b[0;34m(\u001b[0m\u001b[0mX_h\u001b[0m\u001b[0;34m,\u001b[0m\u001b[0;36m0\u001b[0m\u001b[0;34m,\u001b[0m\u001b[0;36m1\u001b[0m\u001b[0;34m,\u001b[0m\u001b[0maxis\u001b[0m\u001b[0;34m=\u001b[0m\u001b[0;36m1\u001b[0m\u001b[0;34m)\u001b[0m \u001b[0;31m# insert the column of ones\u001b[0m\u001b[0;34m\u001b[0m\u001b[0m\n\u001b[1;32m     54\u001b[0m         \u001b[0mh\u001b[0m\u001b[0;34m=\u001b[0m\u001b[0mself\u001b[0m\u001b[0;34m.\u001b[0m\u001b[0mgetH\u001b[0m\u001b[0;34m(\u001b[0m\u001b[0mX_h\u001b[0m\u001b[0;34m)\u001b[0m\u001b[0;34m\u001b[0m\u001b[0m\n",
      "\u001b[0;31mUnboundLocalError\u001b[0m: local variable 'X_h' referenced before assignment"
     ]
    },
    {
     "data": {
      "image/png": "[encoded data removed]",
      "text/plain": [
       "<matplotlib.figure.Figure at 0x7f4422cf9fd0>"
      ]
     },
     "metadata": {},
     "output_type": "display_data"
    }
   ],
   "source": [
    "def getCost(h,y):\n",
    "    return np.sum( (h-y)**2 )\n",
    "\n",
    "class Perceptron(object):\n",
    "    def __init__(self,alpha=0.01,iters=50,N_h=2,weight1=[-1],weight2=[-1]):\n",
    "        self.alpha=alpha\n",
    "        self.iters=iters\n",
    "        self.N_h=N_h\n",
    "        self.weight1=weight1\n",
    "        self.weight2=weight2\n",
    "    \n",
    "    def train(self,x,y,costThr=0,facW1=1,facW2=0.1):\n",
    "        X=x.copy()\n",
    "        m,n=X.shape\n",
    "        N_h=self.N_h\n",
    "        X =np.insert(X,0,1,axis=1) # insert the column of ones\n",
    "\n",
    "        self.J_hist=[]\n",
    "        self.weight1 = np.random.randn(n+1,N_h)*facW1 #N+1 x N_h = 3 x 2\n",
    "        self.weight2 = np.random.randn(N_h+1,1)*facW2 #N_h+1 x 1 = 3 x 1\n",
    "        for iterNo in range(self.iters):\n",
    "            # ForwardProp\n",
    "            X_h = self.getH0(X)\n",
    "            X_h =np.insert(X_h,0,1,axis=1) # insert the column of ones\n",
    "            h = self.getH(X_h)\n",
    "            j=getCost(h,y)\n",
    "            self.J_hist.append(j)\n",
    "            if(j<=costThr):\n",
    "                self.iters=iterNo\n",
    "        \n",
    "                break;\n",
    "            \n",
    "            \"\"\" BackProp - grad in Left to right order \"\"\"\n",
    "            # deltaLayer2 is 4 x 3\n",
    "            # weight2 is 3x1\n",
    "            # X_h is 4x3 with the bias\n",
    "            deltaLayer2 = np.multiply( np.subtract(h,y) ,np.multiply(h,1-h))\n",
    "            #inputs are coeffs -\n",
    "            deltaW2 = np.matmul(X_h.T, deltaLayer2)  # shud be of dim of W2\n",
    "            #weights are coeffs -#out(1-out) -\n",
    "            deltaLayer1 = np.multiply( np.matmul(deltaLayer2,self.weight2.T) ,np.multiply(X_h,1-X_h))\n",
    "            #remove the bias column #inputs are coeffs -\n",
    "            deltaW1 = np.matmul(X.T ,np.delete(deltaLayer1,[0],axis=1))\n",
    "            #update at the end of iter\n",
    "            self.weight2= self.weight2 - (self.alpha/m) * deltaW2\n",
    "            self.weight1= self.weight1 - (self.alpha/m) * deltaW1\n",
    "            \n",
    " \n",
    "    def predict(self,x):\n",
    "        X=x.copy()\n",
    "        X =np.insert(X,0,1,axis=1) # insert the column\n",
    "        X_h = self.getH0(X)\n",
    "        X_h =np.insert(X_h,0,1,axis=1) # insert the column of ones\n",
    "        h=self.getH(X_h)\n",
    "        return h# np.array([1 if hi>=0.5 else 0 for hi in h])\n",
    "    \n",
    "    def getH0(self,X):\n",
    "        return  sigmoid(np.matmul(X,self.weight1))\n",
    "    \n",
    "    def getH(self,X_h):\n",
    "        return  sigmoid(np.matmul(X_h,self.weight2))\n",
    "\n",
    "\n",
    "X= np.array([[0,0],[1,0],[0,1],[1,1],])\n",
    "y = np.array([ 0,    1,    1,    0,]).reshape((4,1))\n",
    "\"\"\"\n",
    "# XOR -\n",
    " facW1 facW2 iterations \n",
    "    1     1      64513\n",
    "    0.01  1      354205\n",
    "    1    0.1     40904\n",
    "    1    0.01    44850\n",
    " \n",
    "\"\"\"\n",
    "for a,b in [[1,1],[0.01,1],[1,0.1],[1,0.01]]:\n",
    "    pp = Perceptron(alpha=0.15,iters=1000000)\n",
    "    pp.train(X,y,costThr=0.005,facW1=a,facW2=b)\n",
    "# print(pp.weight1,pp.weight2)\n",
    "    if(len(pp.J_hist)==0):\n",
    "        print('err')\n",
    "        continue\n",
    "    plt.plot(pp.J_hist)\n",
    "    plt.xlabel('iterations')\n",
    "    plt.ylabel('cost')\n",
    "    \n",
    "    print('cost',pp.J_hist[-1],'iterations',pp.iters)\n",
    "# X=np.random.permutation(X)\n",
    "    p=pp.predict(X).reshape((4,1))\n",
    "    print(np.concatenate( [X,p],axis=1))\n",
    "\n"
   ]
  },
  {
   "cell_type": "code",
   "execution_count": null,
   "metadata": {
    "collapsed": true
   },
   "outputs": [],
   "source": []
  },
  {
   "cell_type": "code",
   "execution_count": null,
   "metadata": {
    "collapsed": true
   },
   "outputs": [],
   "source": []
  }
 ],
 "metadata": {
  "kernelspec": {
   "display_name": "Python 2",
   "language": "python",
   "name": "python2"
  },
  "language_info": {
   "codemirror_mode": {
    "name": "ipython",
    "version": 2
   },
   "file_extension": ".py",
   "mimetype": "text/x-python",
   "name": "python",
   "nbconvert_exporter": "python",
   "pygments_lexer": "ipython2",
   "version": "2.7.12"
  }
 },
 "nbformat": 4,
 "nbformat_minor": 2
}
