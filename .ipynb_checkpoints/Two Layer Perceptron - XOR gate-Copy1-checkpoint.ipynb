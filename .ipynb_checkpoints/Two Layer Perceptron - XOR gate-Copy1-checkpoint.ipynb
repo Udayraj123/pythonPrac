{
 "cells": [
  {
   "cell_type": "code",
   "execution_count": 1,
   "metadata": {
    "collapsed": true
   },
   "outputs": [],
   "source": [
    "# data analysis and wrangling\n",
    "import pandas as pd\n",
    "import numpy as np\n",
    "import random as rnd\n",
    "\n",
    "# visualization\n",
    "import seaborn as sns\n",
    "import matplotlib.pyplot as plt\n",
    "%matplotlib inline\n",
    "\n"
   ]
  },
  {
   "cell_type": "code",
   "execution_count": 23,
   "metadata": {
    "collapsed": false
   },
   "outputs": [],
   "source": [
    "def sigmoid(z):  \n",
    "    return  1/(1+np.exp(-z))\n",
    "#     return np.array(map(float,list(map(lambda x:1/(1+(np.e)**(-x)) , z))))\n",
    "def getCost(h,y):\n",
    "    return np.sum( (h-y)**2 )\n",
    "\n",
    "def predict(x):\n",
    "    X=x.copy()\n",
    "    X =np.insert(X,0,1,axis=1) # insert the column\n",
    "    X_h = sigmoid(np.matmul(X,weight1))\n",
    "    X_h =np.insert(X_h,0,1,axis=1) # insert the column of ones\n",
    "    h =   sigmoid(np.matmul(X_h,weight2))\n",
    "    return h# np.array([1 if hi>=0.5 else 0 for hi in h])"
   ]
  },
  {
   "cell_type": "code",
   "execution_count": null,
   "metadata": {
    "collapsed": false
   },
   "outputs": [],
   "source": [
    "N_h=2\n",
    "\n",
    "alpha=0.1\n",
    "iters=100000\n",
    "x= np.array([[0,0],[1,0],[0,1],[1,1],])\n",
    "y = np.array([ 0,    1,    1,    0,]).reshape((4,1))\n",
    "\n",
    "X=x.copy()\n",
    "m,n=X.shape\n",
    "X =np.insert(X,0,1,axis=1) # insert the column of ones\n",
    "\n",
    "J_hist=[]\n",
    "weight1 = np.random.randn(n+1,N_h)*0.1 #N+1 x N_h = 3 x 2\n",
    "weight2 = np.random.randn(N_h+1,1)*0.1 #N_h+1 x 1 = 3 x 1\n",
    "for it in range(iters):\n",
    "    # ForwardProp\n",
    "    X_h = sigmoid(np.matmul(X,weight1))\n",
    "    X_h = np.insert(X_h,0,1,axis=1) # insert the column of ones\n",
    "    h =   sigmoid(np.matmul(X_h,weight2))\n",
    "\n",
    "    j=getCost(h,y)\n",
    "    if(it%(10000)==0):\n",
    "        print(j)\n",
    "    J_hist.append(j)\n",
    "\n",
    "    deltaLayer2 = np.multiply( np.subtract(h,y) ,np.multiply(h,1-h))\n",
    "    #inputs are coeffs -\n",
    "    deltaW2 = np.matmul(X_h.T, deltaLayer2)  # shud be of dim of W2\n",
    "    #weights are coeffs -\n",
    "    deltaLayer1 = np.multiply( np.matmul(deltaLayer2,weight2.T) ,np.multiply(X_h,1-X_h))\n",
    "    #remove the bias column\n",
    "    deltaLayer1 = np.delete(deltaLayer1,[0],axis=1)#deltaLayer1[:,1:] \n",
    "    #inputs are coeffs -\n",
    "    deltaW1 = np.matmul(X.T ,deltaLayer1)\n",
    "    #update at the end of iter\n",
    "    weight2= weight2 - (alpha/m) * deltaW2\n",
    "    weight1= weight1 - (alpha/m) * deltaW1\n",
    "\n",
    "\n",
    "\n",
    "print(weight1,weight2)\n",
    "plt.plot(J_hist)\n",
    "print('cost',J_hist[-1])\n",
    "X=x.copy()\n",
    "m,n=X.shape\n",
    "# X=np.random.permutation(X)\n",
    "p= predict(X).reshape((4,1))\n",
    "print(np.concatenate( [X,p],axis=1))\n",
    "\n"
   ]
  },
  {
   "cell_type": "code",
   "execution_count": null,
   "metadata": {
    "collapsed": true
   },
   "outputs": [],
   "source": []
  },
  {
   "cell_type": "code",
   "execution_count": null,
   "metadata": {
    "collapsed": true
   },
   "outputs": [],
   "source": []
  }
 ],
 "metadata": {
  "kernelspec": {
   "display_name": "Python 2",
   "language": "python",
   "name": "python2"
  },
  "language_info": {
   "codemirror_mode": {
    "name": "ipython",
    "version": 2
   },
   "file_extension": ".py",
   "mimetype": "text/x-python",
   "name": "python",
   "nbconvert_exporter": "python",
   "pygments_lexer": "ipython2",
   "version": "2.7.10"
  }
 },
 "nbformat": 4,
 "nbformat_minor": 2
}
