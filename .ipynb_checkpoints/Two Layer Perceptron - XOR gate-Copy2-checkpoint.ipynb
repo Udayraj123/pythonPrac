{
 "cells": [
  {
   "cell_type": "code",
   "execution_count": 1,
   "metadata": {
    "collapsed": true
   },
   "outputs": [],
   "source": [
    "# data analysis and wrangling\n",
    "import pandas as pd\n",
    "import numpy as np\n",
    "import random as rnd\n",
    "\n",
    "# visualization\n",
    "import seaborn as sns\n",
    "import matplotlib.pyplot as plt\n",
    "%matplotlib inline\n",
    "\n"
   ]
  },
  {
   "cell_type": "code",
   "execution_count": 2,
   "metadata": {
    "collapsed": false
   },
   "outputs": [],
   "source": [
    "def sigmoid(z):  \n",
    "    return  1/(1+np.exp(-z))\n",
    "#     return np.array(map(float,list(map(lambda x:1/(1+(np.e)**(-x)) , z))))\n",
    "def getCost(h,y):\n",
    "    return np.sum( (h-y)**2 )\n",
    "\n",
    "def predict(x):\n",
    "    X=x.copy()\n",
    "    X =np.insert(X,0,1,axis=1) # insert the column\n",
    "    X_h = sigmoid(np.matmul(X,weight1))\n",
    "    X_h =np.insert(X_h,0,1,axis=1) # insert the column of ones\n",
    "    h =   sigmoid(np.matmul(X_h,weight2))\n",
    "    return h# np.array([1 if hi>=0.5 else 0 for hi in h])"
   ]
  },
  {
   "cell_type": "code",
   "execution_count": 9,
   "metadata": {
    "collapsed": false
   },
   "outputs": [
    {
     "name": "stdout",
     "output_type": "stream",
     "text": [
      "('j0', 1.0059453732160857)\n",
      "('j10000', 0.9999601673652001)\n",
      "(array([[-0.09968768,  0.01035767],\n",
      "       [ 0.10937913,  0.2458799 ],\n",
      "       [ 0.04460409,  0.19344748]]), array([[-0.00546676],\n",
      "       [ 0.14971001],\n",
      "       [-0.12344566]]))\n",
      "('cost', 0.9999601673652001)\n",
      "[[ 0.          0.          0.50090445]\n",
      " [ 1.          0.          0.50004082]\n",
      " [ 0.          1.          0.49983407]\n",
      " [ 1.          1.          0.4990121 ]]\n"
     ]
    },
    {
     "data": {
      "image/png": "[encoded data removed]",
      "text/plain": [
       "<matplotlib.figure.Figure at 0x7f1195d1b250>"
      ]
     },
     "metadata": {},
     "output_type": "display_data"
    }
   ],
   "source": [
    "N_h=2\n",
    "\n",
    "alpha=0.1\n",
    "iters=10000\n",
    "x= np.array([[0,0],[1,0],[0,1],[1,1],])\n",
    "y = np.array([ 1,    0,    0,    1,]).reshape((4,1))\n",
    "\n",
    "X=x.copy()\n",
    "m,n=X.shape\n",
    "X =np.insert(X,0,1,axis=1) # insert the column of ones\n",
    "\n",
    "J_hist=[]\n",
    "weight1 = np.random.randn(n+1,N_h)*0.1 #N+1 x N_h = 3 x 2\n",
    "weight2 = np.random.randn(N_h+1,1)*0.1 #N_h+1 x 1 = 3 x 1\n",
    "for it in range(iters+1):\n",
    "    # ForwardProp\n",
    "    X_h = sigmoid(np.matmul(X,weight1))\n",
    "    X_h = np.insert(X_h,0,1,axis=1) # insert the column of ones\n",
    "    h =   sigmoid(np.matmul(X_h,weight2))\n",
    "\n",
    "    j=getCost(h,y)\n",
    "    if(it%(10000)==0):\n",
    "        print('j%d'%it,j)\n",
    "    J_hist.append(j)\n",
    "\n",
    "    deltaLayer2 = np.multiply( np.subtract(h,y) ,np.multiply(h,1-h))\n",
    "    #inputs are coeffs -\n",
    "    deltaW2 = np.matmul(X_h.T, deltaLayer2)  # shud be of dim of W2\n",
    "    #weights are coeffs -\n",
    "    deltaLayer1 = np.multiply( np.matmul(deltaLayer2,weight2.T) ,np.multiply(X_h,1-X_h))\n",
    "    #remove the bias column\n",
    "    deltaLayer1 = np.delete(deltaLayer1,[0],axis=1)#deltaLayer1[:,1:] \n",
    "    #inputs are coeffs -\n",
    "    deltaW1 = np.matmul(X.T ,deltaLayer1)\n",
    "    #update at the end of iter\n",
    "    weight2= weight2 - (alpha/m) * deltaW2\n",
    "    weight1= weight1 - (alpha/m) * deltaW1\n",
    "\n",
    "\n",
    "\n",
    "print(weight1,weight2)\n",
    "plt.plot(J_hist)\n",
    "print('cost',J_hist[-1])\n",
    "X=x.copy()\n",
    "m,n=X.shape\n",
    "# X=np.random.permutation(X)\n",
    "p= predict(X).reshape((4,1))\n",
    "print(np.concatenate( [X,p],axis=1))\n",
    "\n"
   ]
  },
  {
   "cell_type": "code",
   "execution_count": null,
   "metadata": {
    "collapsed": true
   },
   "outputs": [],
   "source": []
  },
  {
   "cell_type": "code",
   "execution_count": null,
   "metadata": {
    "collapsed": true
   },
   "outputs": [],
   "source": []
  }
 ],
 "metadata": {
  "kernelspec": {
   "display_name": "Python 2",
   "language": "python",
   "name": "python2"
  },
  "language_info": {
   "codemirror_mode": {
    "name": "ipython",
    "version": 2
   },
   "file_extension": ".py",
   "mimetype": "text/x-python",
   "name": "python",
   "nbconvert_exporter": "python",
   "pygments_lexer": "ipython2",
   "version": "2.7.10"
  }
 },
 "nbformat": 4,
 "nbformat_minor": 2
}
