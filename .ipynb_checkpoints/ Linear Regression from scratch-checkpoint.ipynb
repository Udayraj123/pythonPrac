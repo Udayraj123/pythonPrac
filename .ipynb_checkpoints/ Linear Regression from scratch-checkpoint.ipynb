{
 "cells": [
  {
   "cell_type": "code",
   "execution_count": 16,
   "metadata": {
    "collapsed": false
   },
   "outputs": [],
   "source": [
    "#sklearn has the ML libraries\n",
    "import pandas as pd\n",
    "import matplotlib.pyplot as plt\n",
    "import numpy as np\n",
    "import csv\n",
    "import warnings\n",
    "warnings.filterwarnings('ignore')\n",
    "dataset = pd.read_csv('train.csv',sep=',')\n",
    "data = np.array(dataset)"
   ]
  },
  {
   "cell_type": "code",
   "execution_count": 102,
   "metadata": {
    "collapsed": false
   },
   "outputs": [
    {
     "data": {
      "text/plain": [
       "'\\nIngredients :\\n'"
      ]
     },
     "execution_count": 102,
     "metadata": {},
     "output_type": "execute_result"
    }
   ],
   "source": [
    "\"\"\"\n",
    "Ingredients :\n",
    "Cost function\n",
    "Normalization\n",
    "Gradient descent function \n",
    "\"\"\""
   ]
  },
  {
   "cell_type": "code",
   "execution_count": 17,
   "metadata": {
    "collapsed": false
   },
   "outputs": [],
   "source": [
    "# m,n are global\n",
    "# y = map(lambda x: x**2),y)\n",
    "# .T is same as np.transpose\n",
    "def normalize(x):\n",
    "    x_means = np.mean(x,axis=0)\n",
    "    x_stds = np.std(x,axis=0)\n",
    "    for i in range(n):\n",
    "        norm = (x[:,i]-x_means[i])/x_stds[i]\n",
    "        x[:,i] = norm\n",
    "\n",
    "def calcCost(x,theta,y):\n",
    "    h = np.matmul(x,theta)#     can use np.dot(theta,x) as for 2D matrices its same as matrix mult\n",
    "    J= np.sum((h-y)**2/(2*m))\n",
    "    return J\n",
    "    \n",
    "def gradientDescent(x,theta,y,alpha=0.01):\n",
    "    h = np.matmul(x,theta)\n",
    "    delJ = np.matmul(x.T,h-y)\n",
    "    theta = theta - alpha*delJ/m #arrays are passed by reference\n",
    "    return theta;"
   ]
  },
  {
   "cell_type": "code",
   "execution_count": 121,
   "metadata": {
    "collapsed": false,
    "scrolled": false
   },
   "outputs": [
    {
     "name": "stdout",
     "output_type": "stream",
     "text": [
      "('error', 2.7422621945305265e-08)\n",
      "('Theta', array([[ 1.99978022],\n",
      "       [ 2.00046659],\n",
      "       [ 1.99905488]]))\n",
      "('ThetaExp', array([[ 2.],\n",
      "       [ 2.],\n",
      "       [ 2.]]))\n"
     ]
    },
    {
     "data": {
      "image/png": "[encoded data removed]",
      "text/plain": [
       "<matplotlib.figure.Figure at 0x7f2c9b6f3650>"
      ]
     },
     "metadata": {},
     "output_type": "display_data"
    }
   ],
   "source": [
    "datasize=10\n",
    "featsize=2\n",
    "x= np.array([[i,i/2] for i in range(datasize)])\n",
    "#all rows, all minus one col\n",
    "# x=data[:datasize,2:featsize+2] #all rows, all minus one col\n",
    "x=x.astype('float32')\n",
    "m,n=x.shape\n",
    "ones= np.array([[1] for i in range(m)])\n",
    "x = np.concatenate((ones,x),axis=1)\n",
    "# OR USE np.append(x, np.ones([x.shape[0], 1], dtype=np.int32), axis=1)\n",
    "\n",
    "thetaExpected= [2*np.ones((n + 1,1)),\n",
    "                3*np.ones((n + 1,1)),\n",
    "                4*np.ones((n + 1,1))]\n",
    "#column vector n+1 x 1\n",
    "\n",
    "y =[]\n",
    "for theta in thetaExpected:\n",
    "    y.append(np.matmul(x,theta))\n",
    "\n",
    "# y= np.array([[i] for i in range(datasize)])\n",
    "# y=y.astype('float32')\n",
    "# y=data[:datasize,-1] # all rows, last column\n",
    "\n",
    "#doesn't work well sometimes-\n",
    "# normalize(x)\n",
    "numOuts=y.shape[1]\n",
    "theta= np.zeros((numOuts,n + 1,1)) #column vector n+1 x 1\n",
    "iterations = 30000\n",
    "J_hist=[]\n",
    "t_hist=[]\n",
    "for i in range(iterations):\n",
    "    J_hist.append(calcCost(x,theta,y))\n",
    "    theta =gradientDescent(x,theta,y,alpha=0.005)\n",
    "    t_hist.append(theta)\n",
    "    \n",
    "#final trained values\n",
    "h_hist = np.matmul(x,theta)\n",
    "# h_hist = np.matmul(x,theta)[0]\n",
    "%matplotlib inline\n",
    "#for plots to be visible\n",
    "plt.plot(J_hist)\n",
    "# plt.plot(h_hist)\n",
    "print(\"error\",J_hist[-1])\n",
    "print(\"Theta\",t_hist[-1])\n",
    "print(\"ThetaExp\",thetaExpected)\n"
   ]
  },
  {
   "cell_type": "code",
   "execution_count": 118,
   "metadata": {
    "collapsed": false
   },
   "outputs": [
    {
     "name": "stdout",
     "output_type": "stream",
     "text": [
      "(10, 1)\n"
     ]
    },
    {
     "data": {
      "image/png": "[encoded data removed]",
      "text/plain": [
       "<matplotlib.figure.Figure at 0x7f2c9b13bb10>"
      ]
     },
     "metadata": {},
     "output_type": "display_data"
    }
   ],
   "source": [
    "h = pd.DataFrame(h_hist)\n",
    "nh=np.array(h_hist).reshape((datasize,1))\n",
    "area = np.pi*3\n",
    "colors=(0,0,0)\n",
    "print(nh.shape)\n",
    "\n",
    "# plt.scatter(np.linspace(0,m,m),nh, s=area, c=colors, alpha=0.5)\n",
    "# plt.scatter(np.linspace(0,m,m),y, s=area, c=(1,1,1), alpha=0.5)\n",
    "xn=np.linspace(0,m,m)\n",
    "plt.plot(xn,nh,'g')\n",
    "plt.plot(xn,y,'r')\n",
    "plt.title('Plot')\n",
    "plt.show()"
   ]
  },
  {
   "cell_type": "code",
   "execution_count": null,
   "metadata": {
    "collapsed": true
   },
   "outputs": [],
   "source": []
  },
  {
   "cell_type": "code",
   "execution_count": null,
   "metadata": {
    "collapsed": true
   },
   "outputs": [],
   "source": []
  }
 ],
 "metadata": {
  "kernelspec": {
   "display_name": "Python 2",
   "language": "python",
   "name": "python2"
  },
  "language_info": {
   "codemirror_mode": {
    "name": "ipython",
    "version": 2
   },
   "file_extension": ".py",
   "mimetype": "text/x-python",
   "name": "python",
   "nbconvert_exporter": "python",
   "pygments_lexer": "ipython2",
   "version": "2.7.10"
  }
 },
 "nbformat": 4,
 "nbformat_minor": 2
}
