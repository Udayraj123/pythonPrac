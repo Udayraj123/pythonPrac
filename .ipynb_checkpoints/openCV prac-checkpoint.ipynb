{
 "cells": [
  {
   "cell_type": "code",
   "execution_count": 3,
   "metadata": {
    "collapsed": true
   },
   "outputs": [],
   "source": [
    "import cv2\n",
    "from random import randint\n",
    "import numpy as np\n",
    "import matplotlib.pyplot as plt"
   ]
  },
  {
   "cell_type": "code",
   "execution_count": 4,
   "metadata": {
    "collapsed": false
   },
   "outputs": [],
   "source": [
    "#underscore consumes the variable - retval here\n",
    "img = cv2.imread('abc.jpg',cv2.CV_8UC1) #IMREAD_COLOR/UNCHANGED\n",
    "#retval, threshold = cv2.threshold(img,signumThrVal,maxVal,cv2.THRESH_BINARY_INV)\n",
    "_, threshold = cv2.threshold(img,100,255,cv2.THRESH_BINARY)\n",
    "threshold2 = cv2.adaptiveThreshold(img,255,cv2.ADAPTIVE_THRESH_GAUSSIAN_C,cv2.THRESH_BINARY,115,1)\n",
    "ret, threshold3 = cv2.threshold(img,126,255,cv2.THRESH_BINARY+cv2.THRESH_OTSU)"
   ]
  },
  {
   "cell_type": "code",
   "execution_count": 5,
   "metadata": {
    "collapsed": false
   },
   "outputs": [],
   "source": [
    "\"\"\"\n",
    "HS = Cylindrical Color Gradient\n",
    "HSV - Value\n",
    "HSL - Lightness\n",
    "\"\"\"\n",
    "# Open an Image in a Window -\n",
    "cv2.imshow('imageWindow',img)\n",
    "cv2.imshow('th1',threshold)\n",
    "cv2.imshow('th2',threshold2)\n",
    "cv2.imshow('th3q',threshold3)\n",
    "# cv2.imshow('imaeWindow',img)\n",
    "cv2.waitKey(0)\n",
    "cv2.destroyAllWindows()\n"
   ]
  },
  {
   "cell_type": "code",
   "execution_count": 6,
   "metadata": {
    "collapsed": false
   },
   "outputs": [],
   "source": [
    "def ra(rows,cols):\n",
    "    return [randint(20,400)%rows+1,randint(9,500)%cols+1];\n",
    "\n",
    "def myColor1():\n",
    "    return (randint(100,250),randint(100,250),randint(100,250))"
   ]
  },
  {
   "cell_type": "code",
   "execution_count": 7,
   "metadata": {
    "collapsed": false
   },
   "outputs": [
    {
     "name": "stdout",
     "output_type": "stream",
     "text": [
      "[[0 1 2]\n",
      " [3 4 5]\n",
      " [6 7 8]]\n"
     ]
    }
   ],
   "source": []
  },
  {
   "cell_type": "code",
   "execution_count": 8,
   "metadata": {
    "collapsed": false
   },
   "outputs": [],
   "source": [
    "\n",
    "def drawRandom(gray,r,c):\n",
    "    pts = np.array([ra(r,c),ra(r,c),ra(r,c),ra(r,c)],np.int32)\n",
    "    cv2.polylines(gray,[pts],True,myColor1(),5) #True is whether to connect last pt to first\n",
    "\n",
    "    #     cv2.line(gray,(0,0),(100,0),myColor1(),15)\n",
    "    #     cv2.circle(gray,(50,50),120,(30,100,256),-1)\n",
    "\n",
    "# Note:  map(f,iter) = [f(x) for x in iter] \n",
    "        "
   ]
  },
  {
   "cell_type": "code",
   "execution_count": 9,
   "metadata": {
    "collapsed": true
   },
   "outputs": [],
   "source": [
    "def cutNpaste(gray):\n",
    "    img1 = gray [100:200,150:250]\n",
    "    img2 = gray [200:300,150:250]\n",
    "    img3 = cv2.add(img1,img2)\n",
    "    img4 = cv2.addWeighted(img1,0.6,img2,0.4,0) #0 is gamma value\n",
    "    \n",
    "    gray[0:100,0:100] = img1\n",
    "    gray[100:200,0:100] = img2\n",
    "    gray[200:300,0:100] = img3\n",
    "    gray[300:400,0:100] = img4\n"
   ]
  },
  {
   "cell_type": "code",
   "execution_count": 10,
   "metadata": {
    "collapsed": false
   },
   "outputs": [],
   "source": [
    "\n",
    "global font\n",
    "global fontSize\n",
    "global spacing\n",
    "font = cv2.FONT_HERSHEY_SIMPLEX\n",
    "fontSize =0.5 \n",
    "spacing = 1\n",
    "\n",
    "def showColor(gray,x=280,y=220):\n",
    "    pos=(x+10,y+10)\n",
    "    data = ','.join(map(str,gray[x,y])) # point color on img # get a tuple in return.\n",
    "    cv2.rectangle(gray,(x-5,y-5),(x+5,y+5),myColor1(),2)\n",
    "    cv2.putText(gray,'['+data+']',pos,font,fontSize,myColor1(),spacing,cv2.LINE_AA) #Attempted Anti ?!\n"
   ]
  },
  {
   "cell_type": "code",
   "execution_count": 27,
   "metadata": {
    "collapsed": false
   },
   "outputs": [
    {
     "name": "stdout",
     "output_type": "stream",
     "text": [
      "\n",
      "              1   2   3\n",
      "\n",
      "              4   R   5\n",
      "\n",
      "              6   7   8\n",
      "\n",
      " 9  10  11   12  13  14   15  16  17    18  19  20\n",
      "\n",
      "21   B  22   23   W  24   25   G  26    27   Y  28\n",
      "\n",
      "29  30  31   32  33  34   35  36  37    38  39  40\n",
      "\n",
      "             41  42  43\n",
      "\n",
      "             44   O  45\n",
      "\n",
      "             46  47  48\n",
      "\n"
     ]
    }
   ],
   "source": [
    "\n",
    "template = \\\n",
    "\"\"\"\n",
    "             %2s  %2s  %2s\n",
    "\n",
    "             %2s   R  %2s\n",
    "\n",
    "             %2s  %2s  %2s\n",
    "\n",
    "%2s  %2s  %2s   %2s  %2s  %2s   %2s  %2s  %2s    %2s  %2s  %2s\n",
    "\n",
    "%2s   B  %2s   %2s   W  %2s   %2s   G  %2s    %2s   Y  %2s\n",
    "\n",
    "%2s  %2s  %2s   %2s  %2s  %2s   %2s  %2s  %2s    %2s  %2s  %2s\n",
    "\n",
    "             %2s  %2s  %2s\n",
    "\n",
    "             %2s   O  %2s\n",
    "\n",
    "             %2s  %2s  %2s\n",
    "\"\"\"\n",
    "\n",
    "print template % tuple(range(1,49))"
   ]
  },
  {
   "cell_type": "code",
   "execution_count": 28,
   "metadata": {
    "collapsed": false
   },
   "outputs": [],
   "source": [
    "from itertools import product\n",
    "from pprint import pprint\n",
    "global cubeData\n",
    "global cubeNos\n",
    "global cubeColors\n",
    "cubeNos = {\n",
    "    \"R\":range(1,9),\n",
    "    \"B\":range(9,12)+range(21,23)+range(29,32),\n",
    "    \"W\":range(12,15)+range(23,25)+range(32,35),\n",
    "    \"G\":range(15,18)+range(25,27)+range(35,38),\n",
    "    \"Y\":range(18,21)+range(27,29)+range(38,41),\n",
    "    \"O\":range(41,49)\n",
    "           }\n",
    "cubeColors = {\n",
    "    #in BGR\n",
    "    \"B\" : [255,0,0],\n",
    "    \"G\" : [0,255,0],\n",
    "    \"R\" : [0,0,255],\n",
    "    \"Y\" : [0,255,255],\n",
    "    \"W\" : [255,255,255],\n",
    "    \"O\" : [0,165,255]\n",
    "}\n",
    "# define the list of boundaries\n",
    "global boundaries\n",
    "boundaries = [\n",
    "\t([17, 15, 100], [50, 56, 200]),\n",
    "\t([86, 31, 4], [220, 88, 50]),\n",
    "\t([25, 146, 190], [62, 174, 250]),\n",
    "\t([103, 86, 65], [145, 133, 128])\n",
    "]\n",
    "\n",
    "cubeData={}\n",
    "\n",
    "def getCubeClr(a,resolution = 5):\n",
    "    d = 1000\n",
    "    ans=\"X\"\n",
    "    A=list(a)\n",
    "    for c,b in cubeColors.items():\n",
    "        dist = np.linalg.norm(np.subtract(A,b))\n",
    "        if(dist<d):\n",
    "            d=dist\n",
    "            ans=c\n",
    "        if(dist<resolution):\n",
    "            break;\n",
    "    return ans,str(round(dist,1))\n",
    "\n",
    "\n",
    "def capture(camera_capture,fname):\n",
    "    file = \"/home/udayraj/Downloads/Deep Minds/\"+fname+\".jpg\"\n",
    "    cv2.imwrite(file, camera_capture)\n",
    "# A nice feature of the imwrite method is that it will automatically choose the\n",
    "# correct format based on the file extension you provide. Convenient!\n",
    "def getMeanClr(frame,pt):\n",
    "    mid = np.add(pt[0],pt[1])/2\n",
    "    m1 = np.add(pt[0],mid)/2\n",
    "    m2 = np.add(mid,pt[1])/2\n",
    "    x1,y1 = m1\n",
    "    x2,y2 = m2\n",
    "    p1=x2-x1\n",
    "    p2=y2-y1\n",
    "#     frame = cv2.cvtColor(frame, cv2.COLOR_BGR2RGB)\n",
    "    meanColor = frame[x1:x2,y1:y2]\n",
    "    try:\n",
    "        meanColor=np.reshape(meanColor,(p1*p2,3))\n",
    "        colorm = tuple(np.mean(meanColor,axis=0))# vert accross tuples\n",
    "#         frame[x1:x2,y1:y2] = colorm\n",
    "    except ValueError:\n",
    "        colorm=(0,0,0)\n",
    "    return colorm\n",
    "\n",
    "def drawRectangles(frame,pts):\n",
    "    global faceNo\n",
    "    faceNo= 1\n",
    "    indexer=0\n",
    "    for pt in pts:\n",
    "        indexer+=1\n",
    "        colorm = getMeanClr(frame,pt)\n",
    "        text=str([round(i,2) for i in colorm])\n",
    "        cv2.rectangle(frame, tuple(pt[0]),tuple(pt[1]),myColor1(),5);\n",
    "        pos=tuple(np.add(pt[1],pt[0])/2);\n",
    "        faceColor,dist = getCubeClr(colorm)\n",
    "        if(indexer==8):\n",
    "            faceColor +=  dist +text\n",
    "#         X=zip(list(colorm),['B','G','R'])\n",
    "#         faceColor=max(X)[1]\n",
    "        cv2.putText(frame, faceColor,pos,font,fontSize+0.3,np.subtract(255,colorm),spacing,cv2.LINE_AA);\n",
    "    key=cv2.waitKey(1)\n",
    "    if (key & 0xFF == ord('q')):\n",
    "        return -1\n",
    "    if (key & 0xFF == ord('\\r')):\n",
    "        capture(frame,'cubeFace'+faceColor)\n",
    "    \n",
    "    if (key & 0xFF == ord(' ')):\n",
    "        faceNo= faceNo % 6 + 1\n",
    "            #cv2.waitKey() returns a 32 Bit integer value (dependent on the platform).\n",
    "            #The key input is in ASCII which is an 8 Bit integer value.\n",
    "    return 1\n",
    "\n",
    "def getGridPoints(frame,paddingX=90,paddingY=50):\n",
    "    r,c,_=frame.shape\n",
    "    c=c-paddingX*2\n",
    "    r=r-paddingY*2\n",
    "    t = min(r,c)\n",
    "    X = np.add(paddingX,range(0,t+1,t/3))\n",
    "    Y = np.add(paddingY,range(0,t+1,t/3))\n",
    "    grid=product(X,Y)\n",
    "    g=list(grid)\n",
    "    x = np.reshape(g,(4,4,2))\n",
    "#     horiz=[]\n",
    "#     for i in range(0,4):\n",
    "#         horiz.append(g[i::4])\n",
    "    i,uppers,lowers=0,[],[];\n",
    "    for danda in x:\n",
    "        if(i<3):uppers.append(danda[:-1])\n",
    "        if(i>0):lowers.append(danda[1:])\n",
    "        i=i+1\n",
    "    pts = []\n",
    "    # Manipulating Two arrays together-\n",
    "    for u,l in zip(uppers,lowers):\n",
    "        for i in range(0,3):\n",
    "            pts.append((u[i],l[i]))\n",
    "    \n",
    "    return pts\n"
   ]
  },
  {
   "cell_type": "code",
   "execution_count": null,
   "metadata": {
    "collapsed": true
   },
   "outputs": [],
   "source": []
  },
  {
   "cell_type": "code",
   "execution_count": 46,
   "metadata": {
    "collapsed": false
   },
   "outputs": [],
   "source": [
    "def brighten(frame,factor=2,gamma=0):\n",
    "    gray = cv2.addWeighted(frame,1,frame,factor-1,gamma)\n",
    "#     gray = np.add(frame,100)\n",
    "#     x1 = np.where(gray>=255)\n",
    "#     y = gray[x1]\n",
    "#     h=gray[x1] = np.subtract(y,255)\n",
    "    return gray\n",
    "# frame = np.arange(9).reshape(3,3)\n",
    "# print(frame)\n",
    "# frame = brighten(frame)\n",
    "\n",
    "def smoothen(frame,p=15):\n",
    "    p1=p2=p\n",
    "    kernel = np.ones((p1,p2),np.float32)/p1*p2\n",
    "    #  -1 is for standard avg\n",
    "#     These work in maxn code ! but not in function call!\n",
    "#     frame = cv2.GaussianBlur(frame,(p1,p2),0)\n",
    "#     frame = cv2.medianBlur(frame,15)\n",
    "#     frame = cv2.bilarteralFilter(frame,15,75,75)\n",
    "    frame = cv2.filter2D(frame,-1,kernel)\n",
    "    #take average of 15 by 15 pixels    # divide by their product.\n",
    "\n",
    "    #Ranges of each color are capped\n",
    "def colorCrop(frame,r1=[100,10,0],r2=[255,255,255]):\n",
    "    hsv = cv2.cvtColor(frame,cv2.COLOR_BGR2HSV) \n",
    "    #HSV is a color system\n",
    "    lower_yellow = np.array(r1)\n",
    "    upper_yellow = np.array(r2)\n",
    "    range_mask = cv2.inRange(hsv,lower_yellow,upper_yellow)#Cut all the crap\n",
    "    res = cv2.bitwise_and(frame,frame,mask=range_mask) \n",
    "    cv2.imshow('specColor',res)\n",
    "#     kernel = np.ones((5,5),np.uint8)\n",
    "#     erosion = cv2.erode(range_mask,kernel,iterations=1)\n",
    "#     dilation = cv2.dilate(range_mask,kernel,iterations=1)\n",
    "#     cv2.imshow('erosion',erosion)\n",
    "#     cv2.imshow('dilation',dilation)\n",
    "    "
   ]
  },
  {
   "cell_type": "code",
   "execution_count": 109,
   "metadata": {
    "collapsed": true
   },
   "outputs": [],
   "source": [
    "def morphRed(frame,hue=0,thr=190,p=5):\n",
    "    p1=p2=p\n",
    "    #Red is in 0-20, Saturation be high, Value be anything\n",
    "    #adjust these pixel HSV ranges for better results\n",
    "    \n",
    "    # define range of blue color in HSV\n",
    "    lower_red = np.array([hue,thr,50])\n",
    "    upper_red = np.array([(hue+35)%180,255,255])\n",
    "    \n",
    "    hsvFrame = cv2.cvtColor(frame,cv2.COLOR_BGR2HSV)\n",
    "    mask = cv2.inRange(hsvFrame,lower_red,upper_red);\n",
    "    resFrame = cv2.bitwise_and(frame,frame,mask = mask) #for color, use mask = erosion instead of mask ?!\n",
    "\n",
    "    #This kernel is in int only, than the float for blur/filter2D\n",
    "    kernel = np.ones((p1,p2),np.uint8) #uint8 is used unsigned 8 bit integer. And that is the range of pixel. \n",
    "    erosion = cv2.erode(mask,kernel,iterations=1)\n",
    "    dilation = cv2.dilate(mask,kernel,iterations=1)\n",
    "    cv2.imshow('erosion',erosion)\n",
    "    cv2.imshow('dilation',dilation)\n",
    "    #REMOVES FALSE POSITIVES FROM BACKGROUND\n",
    "    opening = cv2.morphologyEx(mask,cv2.MORPH_OPEN,kernel)\n",
    "    \n",
    "    #REMOVES FALSE POSITIVES FROM INSIDE THE OBJECT-\n",
    "    closing = cv2.morphologyEx(mask,cv2.MORPH_CLOSE,kernel)\n",
    "    \n",
    "    #tophat = Difference between input image and its opening\n",
    "    #blackhat = Difference between input image and its closing\n",
    "    cv2.imshow('opening',opening)\n",
    "    cv2.imshow('closing',closing)\n",
    "    cv2.moveWindow('dilation',680,0)\n",
    "    cv2.moveWindow('opening',680,500)\n",
    "    cv2.moveWindow('closing',0,500)\n",
    "    # Erode => Scan the image in a window of size of the kernel, If all the pixels in it are in the range, \n",
    "    #the colors stay, else the whole kernel is made black\n",
    "\n",
    "# Erosion\n",
    "# The value of the output pixel is the minimum value of all the pixels in the input pixel's neighborhood.\n",
    "# Dilation\n",
    "# The value of the output pixel is the maximum value of all the pixels in the input pixel's neighborhood."
   ]
  },
  {
   "cell_type": "code",
   "execution_count": null,
   "metadata": {
    "collapsed": true
   },
   "outputs": [],
   "source": [
    "#Small copy of below code-\n",
    "import copy\n",
    "cap = cv2.VideoCapture(0)\n",
    "ret, frame = cap.read()\n",
    "if(not ret):\n",
    "    print('yup')\n",
    "    ret, frame = cap.read()\n",
    "once=1\n",
    "while ret==True:\n",
    "    ret, frame = cap.read()\n",
    "    frame = brighten(frame,1.2,50)\n",
    "    r,c,channels = frame.shape\n",
    "    morphRed(frame,thr=200)\n",
    "    cv2.imshow('frame',frame)\n",
    "    if(once):\n",
    "        once=0\n",
    "        cv2.moveWindow('frame',1280,0);\n",
    "    if (cv2.waitKey(1) & 0xFF == ord('q')):\n",
    "        break\n",
    "cap.release()\n",
    "cv2.destroyAllWindows()\n"
   ]
  },
  {
   "cell_type": "code",
   "execution_count": 112,
   "metadata": {
    "collapsed": false
   },
   "outputs": [
    {
     "data": {
      "text/plain": [
       "1"
      ]
     },
     "execution_count": 112,
     "metadata": {},
     "output_type": "execute_result"
    }
   ],
   "source": []
  },
  {
   "cell_type": "code",
   "execution_count": 90,
   "metadata": {
    "collapsed": false,
    "scrolled": true
   },
   "outputs": [
    {
     "name": "stdout",
     "output_type": "stream",
     "text": [
      "'custom interrupt'\n"
     ]
    }
   ],
   "source": [
    "import copy\n",
    "# Open VideoCam in a filter-\n",
    "\n",
    "cap = cv2.VideoCapture(0) #The argument can be either the device index or the name of a video file. \n",
    "ret, frame = cap.read()\n",
    "if(not ret):\n",
    "    print('yup')\n",
    "    ret, frame = cap.read()\n",
    "if(ret):\n",
    "    r,c,channels = frame.shape\n",
    "    pts = getGridPoints(frame,paddingX=140,paddingY=140)\n",
    "    pts=np.array(pts)\n",
    "#     pts = ndenumerate(pts)\n",
    "   \n",
    "#     p1=p2=15\n",
    "#     kernel = np.ones((p1,p2),np.float32)/p1*p2\n",
    "#     frame[2:20,2:20] = (10,10,10)\n",
    "# pts = pts.reshape((-1,1,2)) #reshape the set by 1 by 2. #optional to debug\n",
    "\n",
    "once=1\n",
    "while ret==True:\n",
    "    ret, frame = cap.read()\n",
    "    frame = brighten(frame,1.2,50)\n",
    "#     frame = brighten(frame)\n",
    "    r,c,channels = frame.shape\n",
    "#     smoothen(frame,15)\n",
    "    morphRed(frame)\n",
    "    \n",
    "#     BGR2GRAY is the color format here.\n",
    "#     gray = cv2.cvtColor(frame,cv2.COLOR_BGR2GRAY);\n",
    "#     gray = cv2.Laplacian(frame,cv2.CV_64F) # 64_F a data type\n",
    "#     grayY = frame;\n",
    "#     grayX = frame;#cv2.Canny(frame,100,100) # 64_F a data type\n",
    "#     grayX = cv2.Sobel(frame,cv2.CV_64F,1,0,ksize=5) # 64_F a data type\n",
    "#     cv2.imshow('grayX',grayX)\n",
    "#     cv2.imshow('grayY',grayY)\n",
    "#     grayY = cv2.Sobel(frame,cv2.CV_64F,0,1,ksize=5) # 64_F a data type\n",
    "#     showColor(gray)\n",
    "    #shows specColor\n",
    "#     colorCrop(grayX,[50,50,120])    #Ranges of each color are capped\n",
    "    \n",
    "#     cutNpaste(gray)              #Add Two blocks of the Image into Thrid one\n",
    "\n",
    "#     signumThrVal,maxVal = 200,255;  # minVal=0 implied ?!\n",
    "#     ret1, mask = cv2.threshold(gray,signumThrVal,maxVal,cv2.THRESH_BINARY_INV)\n",
    "#     mask=cv2.bitwise_and(grayY,grayY,mask=mask)#optional mask tells which parts to change.\n",
    "#     cv2.imshow('mask',mask)\n",
    "#     drawRandom(gray,r,c)\n",
    "#     frame[np.where((frame > [0,55,55]).all(axis = 2))] = [0,0,255]\n",
    "    #.all and .any are the non ambigous where cases\n",
    "#     favFilter(frame)\n",
    "\n",
    "    ret = drawRectangles(frame,pts)\n",
    "    if (ret==-1):\n",
    "        pprint('custom interrupt')\n",
    "        break\n",
    "\n",
    "    #### #### #### Maintenance  #### #### #### \n",
    "    gray = brighten(frame,1.2,50)\n",
    "    cv2.imshow('frame',frame)\n",
    "#     cv2.imshow('gray',gray)\n",
    "    if(once):\n",
    "        once=0\n",
    "        cv2.moveWindow('frame',1280,0);\n",
    "#         cv2.moveWindow('gray',620,0);\n",
    "    if (cv2.waitKey(1) & 0xFF == ord('q')):#on pressing q\n",
    "        break\n",
    "    #### #### #### #### #### #### #### #### \n",
    "        \n",
    "cap.release()\n",
    "cv2.destroyAllWindows()\n"
   ]
  },
  {
   "cell_type": "code",
   "execution_count": 15,
   "metadata": {
    "collapsed": false
   },
   "outputs": [
    {
     "data": {
      "text/plain": [
       "\"\\nGRABCUT FOREGROUND REDUCTION\\nCORNER DETECTION\\nTRACK MOTION - MOG BACKGROUND REDUCTION\\n\\n#https://github.com/Itseez/opencv/blob/master/data/haarcascades/haarcascade_frontalface_default.xml\\nface_cascade = cv2.CascadeClassifier('haarcascade_frontalface_default.xml')\\n#https://github.com/Itseez/opencv/blob/master/data/haarcascades/haarcascade_eye.xml\\neye_cascade = cv2.CascadeClassifier('haarcascade_eye.xml')\\ndef favFilter(frame):\\n    indices = np.where((frame == [0,0,255]).all(axis = 2))\\n    sliceclr= frame[indices]\\n    brighten(sliceclr)\\n    frame = cv2.cvtColor(frame,cv2.COLOR_BGR2GRAY);\\n    frame[indices] = sliceclr\\n\\n\""
      ]
     },
     "execution_count": 15,
     "metadata": {},
     "output_type": "execute_result"
    }
   ],
   "source": [
    "# FURTHER -\n",
    "\n",
    "# p1,p2=3,4\n",
    "# meanColor = frame[1:(p1+1),1:(p2+1)]\n",
    "# meanColor=np.reshape(meanColor,(p1*p2,3))\n",
    "# print(meanColor)\n",
    "# B,G,R = np.mean(meanColor,axis=0)# vert accross tuples\n",
    "\n",
    "\n",
    "#  Some good utility functions -\n",
    "# print(np.squeeze(meanColor)) # remove unnec dimensions !\n",
    "# print(zip(*meanColor)) # only zip works, not zip.\n",
    "# print(np.mean(map(list,zip(*meanColor)),axis=1))# within tuples\n",
    "\n",
    "\n",
    "\"\"\"\n",
    "GRABCUT FOREGROUND REDUCTION\n",
    "CORNER DETECTION\n",
    "TRACK MOTION - MOG BACKGROUND REDUCTION\n",
    "\n",
    "#https://github.com/Itseez/opencv/blob/master/data/haarcascades/haarcascade_frontalface_default.xml\n",
    "face_cascade = cv2.CascadeClassifier('haarcascade_frontalface_default.xml')\n",
    "#https://github.com/Itseez/opencv/blob/master/data/haarcascades/haarcascade_eye.xml\n",
    "eye_cascade = cv2.CascadeClassifier('haarcascade_eye.xml')\n",
    "def favFilter(frame):\n",
    "    indices = np.where((frame == [0,0,255]).all(axis = 2))\n",
    "    sliceclr= frame[indices]\n",
    "    brighten(sliceclr)\n",
    "    frame = cv2.cvtColor(frame,cv2.COLOR_BGR2GRAY);\n",
    "    frame[indices] = sliceclr\n",
    "\n",
    "\"\"\""
   ]
  },
  {
   "cell_type": "code",
   "execution_count": 16,
   "metadata": {
    "collapsed": false
   },
   "outputs": [
    {
     "data": {
      "text/plain": [
       "\" PY FIDDLING \\nx=np.arange(15)\\ny=np.arange(15) ##USING Y AS A MASK\\nx = x[np.where(x[np.where(y<10)] > 5)]\\nprint(x)\\n\\nx=[1,2,3]\\ny=[1,2,2]\\nnp.linalg.norm(np.subtract(x,y))\\n#     frame[indices] = [0,255,255]\\n\\nJust to point out that numpy.where do have 2 'operational modes', first one returns the indices, \\nwhere condition is True and if optional parameters x and y are present (same shape as condition,\\nor broadcastable to such shape!), it will return values from x when condition is True otherwise\\nfrom y.So this makes where more versatile and enables it to be used more often. Thanks\\n\\ny = [('ab', 1), ('cd', 2), ('ef', 3)]\\na,b = [list(c) for c in zip(*y)]\\nprint(a,b)\\n\\n\\nX=[21,2,42]\\nprint(np.add(255,[-x for x in X]))\\nprint(np.subtract(255,X))\\n\""
      ]
     },
     "execution_count": 16,
     "metadata": {},
     "output_type": "execute_result"
    }
   ],
   "source": [
    "\"\"\" PY FIDDLING \n",
    "x=np.arange(15)\n",
    "y=np.arange(15) ##USING Y AS A MASK\n",
    "x = x[np.where(x[np.where(y<10)] > 5)]\n",
    "print(x)\n",
    "\n",
    "x=[1,2,3]\n",
    "y=[1,2,2]\n",
    "np.linalg.norm(np.subtract(x,y))\n",
    "#     frame[indices] = [0,255,255]\n",
    "\n",
    "Just to point out that numpy.where do have 2 'operational modes', first one returns the indices, \n",
    "where condition is True and if optional parameters x and y are present (same shape as condition,\n",
    "or broadcastable to such shape!), it will return values from x when condition is True otherwise\n",
    "from y.So this makes where more versatile and enables it to be used more often. Thanks\n",
    "\n",
    "y = [('ab', 1), ('cd', 2), ('ef', 3)]\n",
    "a,b = [list(c) for c in zip(*y)]\n",
    "print(a,b)\n",
    "\n",
    "\n",
    "X=[21,2,42]\n",
    "print(np.add(255,[-x for x in X]))\n",
    "print(np.subtract(255,X))\n",
    "\"\"\""
   ]
  },
  {
   "cell_type": "code",
   "execution_count": 17,
   "metadata": {
    "collapsed": false
   },
   "outputs": [],
   "source": [
    "# # img1=cv2.imread('ManyOranges.jpg')\n",
    "# # template=cv2.imread('sameOrange.jpg')\n",
    "# # w,h,_=template.shape\n",
    "# img1=cv2.imread('b.jpg')\n",
    "# img1 = cv2.resize(img1,None,fx=0.2, fy=0.2, interpolation = cv2.INTER_CUBIC)\n",
    "# img2=img1.copy()\n",
    "\n",
    "# cv2.imshow('1',img1)\n",
    "# img2 = cv2.pyrUp(img1)\n",
    "# img2 = cv2.pyrUp(img2)\n",
    "# img2 = cv2.pyrDown(img2)\n",
    "# img2 = cv2.pyrDown(img2)\n",
    "# cv2.imshow('2',img2)\n",
    "# # res = cv2.matchTemplate(img1,template,cv2.TM_CCOEFF_NORMED)\n",
    "# # _,_,minLoc,maxLoc = cv2.minMaxLoc(res)\n",
    "# # threshold = 0.8\n",
    "# # loc = np.where(res>=threshold) # locate values greater than 0.8. Just like array filter\n",
    "# # for pt in zip(*loc[::-1]):\n",
    "# #     cv2.rectangle(img1,pt,(pt[0]+w,pt[0]+h),(0,255,255),2)\n",
    "    \n",
    "# # cv2.imshow('detected',img1)\n",
    "# cv2.waitKey(0)\n",
    "\n",
    "# # cap.release()\n",
    "# cv2.destroyAllWindows()\n"
   ]
  },
  {
   "cell_type": "code",
   "execution_count": null,
   "metadata": {
    "collapsed": true
   },
   "outputs": [],
   "source": [
    "# Only mutable objects are modified by reference.\n",
    "y=[6]\n",
    "x=y\n",
    "x+=[1]\n",
    "y\n",
    "#integers are immutable\n",
    "y=6\n",
    "x=y\n",
    "x+=1\n",
    "y"
   ]
  },
  {
   "cell_type": "code",
   "execution_count": null,
   "metadata": {
    "collapsed": true
   },
   "outputs": [],
   "source": []
  }
 ],
 "metadata": {
  "kernelspec": {
   "display_name": "Python 2",
   "language": "python",
   "name": "python2"
  },
  "language_info": {
   "codemirror_mode": {
    "name": "ipython",
    "version": 2
   },
   "file_extension": ".py",
   "mimetype": "text/x-python",
   "name": "python",
   "nbconvert_exporter": "python",
   "pygments_lexer": "ipython2",
   "version": "2.7.10"
  }
 },
 "nbformat": 4,
 "nbformat_minor": 2
}
