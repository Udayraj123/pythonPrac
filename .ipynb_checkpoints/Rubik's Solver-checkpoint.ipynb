{
 "cells": [
  {
   "cell_type": "code",
   "execution_count": 1,
   "metadata": {
    "collapsed": false
   },
   "outputs": [
    {
     "name": "stdout",
     "output_type": "stream",
     "text": [
      "\n",
      "\n",
      "              1   2   3\n",
      "\n",
      "              4   R   5\n",
      "\n",
      "              6   7   8\n",
      "\n",
      " 9  10  11   12  13  14   15  16  17    18  19  20\n",
      "\n",
      "21   B  22   23   W  24   25   G  26    27   Y  28\n",
      "\n",
      "29  30  31   32  33  34   35  36  37    38  39  40\n",
      "\n",
      "             41  42  43\n",
      "\n",
      "             44   O  45\n",
      "\n",
      "             46  47  48\n",
      "\n",
      "\n",
      "\n"
     ]
    }
   ],
   "source": [
    "menuText = \"\"\"\n",
    "Cube Solver:\n",
    "\n",
    "\n",
    "\"\"\"\n",
    "\n",
    "template = \\\n",
    "\"\"\"\n",
    "\n",
    "              1   2   3\n",
    "\n",
    "              4   R   5\n",
    "\n",
    "              6   7   8\n",
    "\n",
    " 9  10  11   12  13  14   15  16  17    18  19  20\n",
    "\n",
    "21   B  22   23   W  24   25   G  26    27   Y  28\n",
    "\n",
    "29  30  31   32  33  34   35  36  37    38  39  40\n",
    "\n",
    "             41  42  43\n",
    "\n",
    "             44   O  45\n",
    "\n",
    "             46  47  48\n",
    "\n",
    "\n",
    "\"\"\"\n",
    "print template "
   ]
  },
  {
   "cell_type": "code",
   "execution_count": null,
   "metadata": {
    "collapsed": true
   },
   "outputs": [],
   "source": [
    "inpString = \"oooooooogggyyybbbwwwggyybbwwgggyyybbbwwwrrrrrrrr\" #raw_input()\n"
   ]
  }
 ],
 "metadata": {
  "kernelspec": {
   "display_name": "Python 2",
   "language": "python",
   "name": "python2"
  },
  "language_info": {
   "codemirror_mode": {
    "name": "ipython",
    "version": 2
   },
   "file_extension": ".py",
   "mimetype": "text/x-python",
   "name": "python",
   "nbconvert_exporter": "python",
   "pygments_lexer": "ipython2",
   "version": "2.7.10"
  }
 },
 "nbformat": 4,
 "nbformat_minor": 2
}
