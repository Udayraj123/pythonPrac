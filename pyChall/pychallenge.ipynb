{
 "cells": [
  {
   "cell_type": "code",
   "execution_count": 45,
   "metadata": {
    "collapsed": true
   },
   "outputs": [],
   "source": [
    "import string\n",
    "import re\n",
    "import sys\n",
    "letters = string.ascii_lowercase"
   ]
  },
  {
   "cell_type": "code",
   "execution_count": 25,
   "metadata": {
    "collapsed": false
   },
   "outputs": [
    {
     "name": "stdout",
     "output_type": "stream",
     "text": [
      "i hope you didnt translate it by hand. thats what computers are for. doing it in by hand is inefficient and that's why this text is so long. using string.maketrans() is recommended. now apply on the url.\n",
      "\n"
     ]
    }
   ],
   "source": [
    "code = \"g fmnc wms bgblr rpylqjyrc gr zw fylb. rfyrq ufyr amknsrcpq ypc dmp. bmgle gr gl zw fylb gq glcddgagclr ylb rfyr'q ufw rfgq rcvr gq qm jmle. sqgle qrpgle.kyicrpylq() gq pcamkkclbcb. lmu ynnjw ml rfc spj.\"\n",
    "convert = ''.join(map(chr, range(99, 123))) + 'ab'\n",
    "translator = string.maketrans(letters,convert)\n",
    "tr = code.translate(translator)\n",
    "print(tr)\n",
    "print('')\n",
    "\t# if ord(l) in range(97,123):\n",
    "\t\t# sys.stdout.write(chr((ord(l)-95)%26 + 97));\n",
    "\t# else:\n"
   ]
  },
  {
   "cell_type": "code",
   "execution_count": 26,
   "metadata": {
    "collapsed": true
   },
   "outputs": [],
   "source": [
    "code = open(\"data.txt\").read()"
   ]
  },
  {
   "cell_type": "code",
   "execution_count": 27,
   "metadata": {
    "collapsed": false
   },
   "outputs": [
    {
     "name": "stdout",
     "output_type": "stream",
     "text": [
      "equality"
     ]
    }
   ],
   "source": [
    "\n",
    "counter=[]\n",
    "for l in code:\n",
    "\tl=ord(l)\n",
    "\ttry:\n",
    "\t  \tcounter[l] += 1\n",
    "\texcept IndexError:\n",
    "\t\tcounter.insert(l,1)\n",
    "        \n",
    "for c in code:\n",
    "\tif(counter[ord(c)]<3):\n",
    "\t\tsys.stdout.write(c);\n",
    "\t\t\n"
   ]
  },
  {
   "cell_type": "code",
   "execution_count": 28,
   "metadata": {
    "collapsed": false
   },
   "outputs": [
    {
     "name": "stdout",
     "output_type": "stream",
     "text": [
      "equality\n",
      "\n"
     ]
    }
   ],
   "source": [
    "print( ''.join([l for l in code if counter[ord(l)]<3 ]))\n",
    "print('')\n"
   ]
  },
  {
   "cell_type": "code",
   "execution_count": 9,
   "metadata": {
    "collapsed": false
   },
   "outputs": [
    {
     "name": "stdout",
     "output_type": "stream",
     "text": [
      "equality\n"
     ]
    }
   ],
   "source": [
    "print (filter(lambda x: x in string.letters, code))"
   ]
  },
  {
   "cell_type": "code",
   "execution_count": 10,
   "metadata": {
    "collapsed": false
   },
   "outputs": [
    {
     "name": "stdout",
     "output_type": "stream",
     "text": [
      "equality\n"
     ]
    }
   ],
   "source": [
    "def func(l): return l if counter[ord(l)]<3 else ''\n",
    "print(''.join(map(func,code)))\n"
   ]
  },
  {
   "cell_type": "code",
   "execution_count": 16,
   "metadata": {
    "collapsed": false
   },
   "outputs": [
    {
     "name": "stdout",
     "output_type": "stream",
     "text": [
      "equality\n"
     ]
    }
   ],
   "source": [
    "d = {}\n",
    "for ch in code:\n",
    "    d[ch] = d.get(ch, 0) + 1\n",
    "    \n",
    "print (''.join(ch for ch in code if d[ch]<3 ))"
   ]
  },
  {
   "cell_type": "code",
   "execution_count": 104,
   "metadata": {
    "collapsed": false
   },
   "outputs": [
    {
     "name": "stdout",
     "output_type": "stream",
     "text": [
      "[('l', 'i'), ('i', 'j'), ('n', 'q'), ('k', 'g'), ('e', 'j'), ('d', 'h'), ('l', 'm'), ('i', 'x'), ('s', 'l'), ('t', 'j')]\n"
     ]
    }
   ],
   "source": [
    "def is_small(l): return ord(l) in range(97,123)\n",
    "def is_big(l): return ord(l) in range(65,91)\n",
    "code = open(\"ch3.html\").read()\n",
    "# ans= ''\n",
    "# trigger = -1 \n",
    "# small=''\n",
    "# for t in code:\n",
    "#     if is_small(t):\n",
    "#         small=t\n",
    "#         if(trigger!=3):\n",
    "#             trigger=0\n",
    "#     if(is_big(t)):\n",
    "#         trigger += 1\n",
    "#         if(trigger=6):\n",
    "#             print(small)\n",
    "#     if is_big(t) and trigger!=3 :\n",
    "#         #ans+=t\n",
    "#         trigger+=1\n",
    "#         if trigger==7 :\n",
    "#             sys.stdout.write(ans)\n",
    "#             ans=''\n",
    "#             trigger=0\n",
    "#             #break\n",
    "#     elif is_small(t) and trigger==3 :\n",
    "#              ans+=t\n",
    "#              trigger+=1\n",
    "#     else :\n",
    "#             trigger=0\n",
    "#             ans=''\n",
    "ans = re.findall(r'[a-z][A-Z]{3}([a-z])[A-Z]{3}([a-z])',code)\n",
    "if ans :\n",
    "    print(ans)\n",
    "else: \n",
    "    print(\"none\")"
   ]
  },
  {
   "cell_type": "code",
   "execution_count": 23,
   "metadata": {
    "collapsed": false
   },
   "outputs": [
    {
     "name": "stdout",
     "output_type": "stream",
     "text": [
      "\n",
      "                                                                                               \n",
      "              #####                                                                      ##### \n",
      "               ####                                                                       #### \n",
      "               ####                                                                       #### \n",
      "               ####                                                                       #### \n",
      "               ####                                                                       #### \n",
      "               ####                                                                       #### \n",
      "               ####                                                                       #### \n",
      "               ####                                                                       #### \n",
      "      ###      ####   ###         ###       #####   ###    #####   ###          ###       #### \n",
      "   ###   ##    #### #######     ##  ###      #### #######   #### #######     ###  ###     #### \n",
      "  ###     ###  #####    ####   ###   ####    #####    ####  #####    ####   ###     ###   #### \n",
      " ###           ####     ####   ###    ###    ####     ####  ####     ####  ###      ####  #### \n",
      " ###           ####     ####          ###    ####     ####  ####     ####  ###       ###  #### \n",
      "####           ####     ####     ##   ###    ####     ####  ####     #### ####       ###  #### \n",
      "####           ####     ####   ##########    ####     ####  ####     #### ##############  #### \n",
      "####           ####     ####  ###    ####    ####     ####  ####     #### ####            #### \n",
      "####           ####     #### ####     ###    ####     ####  ####     #### ####            #### \n",
      " ###           ####     #### ####     ###    ####     ####  ####     ####  ###            #### \n",
      "  ###      ##  ####     ####  ###    ####    ####     ####  ####     ####   ###      ##   #### \n",
      "   ###    ##   ####     ####   ###########   ####     ####  ####     ####    ###    ##    #### \n",
      "      ###     ######    #####    ##    #### ######    ###########    #####      ###      ######\n",
      "                                                                                               "
     ]
    }
   ],
   "source": [
    "import urllib as u\n",
    "import pickle as p\n",
    "import sys\n",
    "html = u.urlopen('http://www.pythonchallenge.com/pc/def/banner.p')#.read()\n",
    "data= pickle.load(html)\n",
    "\n",
    "for line in data:\n",
    "    print('')    \n",
    "    for tup in line:\n",
    "        sys.stdout.write(tup[0]*tup[1])\n"
   ]
  }
 ],
 "metadata": {
  "kernelspec": {
   "display_name": "Python 2",
   "language": "python",
   "name": "python2"
  },
  "language_info": {
   "codemirror_mode": {
    "name": "ipython",
    "version": 2
   },
   "file_extension": ".py",
   "mimetype": "text/x-python",
   "name": "python",
   "nbconvert_exporter": "python",
   "pygments_lexer": "ipython2",
   "version": "2.7.10"
  }
 },
 "nbformat": 4,
 "nbformat_minor": 2
}
